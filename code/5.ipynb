{
 "cells": [
  {
   "cell_type": "code",
   "execution_count": 1,
   "id": "4a6afd36",
   "metadata": {},
   "outputs": [
    {
     "name": "stdout",
     "output_type": "stream",
     "text": [
      "0.18367346938775508\n"
     ]
    }
   ],
   "source": [
    "import numpy as np\n",
    "r=0.05\n",
    "e1=np.array([1,0,0])\n",
    "l1=np.array([1,-(1+r),0])\n",
    "l2=np.array([0,1,-(1+r)])\n",
    "c=np.array([1,2,-3]) #cash flow\n",
    "#coefficients of expansion\n",
    "alpha3=-c[2]/(1+r)\n",
    "alpha2=-c[1]/(1+r)-c[2]/((1+r)**2)\n",
    "alpha1=c[0]+c[1]/(1+r)+c[2]/((1+r)**2) #NPV of cash flow\n",
    "print(alpha1)"
   ]
  },
  {
   "cell_type": "code",
   "execution_count": 2,
   "id": "bbb226f4",
   "metadata": {},
   "outputs": [
    {
     "name": "stdout",
     "output_type": "stream",
     "text": [
      "[ 1.  2. -3.]\n"
     ]
    }
   ],
   "source": [
    "print(alpha1*e1+alpha2*l1+alpha3*l2)"
   ]
  },
  {
   "cell_type": "code",
   "execution_count": 4,
   "id": "78619f82",
   "metadata": {},
   "outputs": [
    {
     "name": "stdout",
     "output_type": "stream",
     "text": [
      "0.0 0.0 0.0\n"
     ]
    }
   ],
   "source": [
    "a1=np.array([0,0,-1])\n",
    "a2=np.array([1,1,0])/(2)**0.5\n",
    "a3=np.array([1,-1,0])/(2)**0.5\n",
    "print(a1@a2,a2@a3,a1@a3)"
   ]
  },
  {
   "cell_type": "code",
   "execution_count": 5,
   "id": "08d27e9a",
   "metadata": {},
   "outputs": [
    {
     "name": "stdout",
     "output_type": "stream",
     "text": [
      "[1. 2. 3.]\n"
     ]
    }
   ],
   "source": [
    "x=np.array([1,2,3])\n",
    "#get the coefficients of x in orthonormal basis\n",
    "beta1=a1@x\n",
    "beta2=a2@x\n",
    "beta3=a3@x\n",
    "#expansion of x in basis\n",
    "x_expansion=beta1*a1+beta2*a2+beta3*a3\n",
    "print(x_expansion)"
   ]
  },
  {
   "cell_type": "code",
   "execution_count": 9,
   "id": "4e20d16e",
   "metadata": {},
   "outputs": [
    {
     "name": "stdout",
     "output_type": "stream",
     "text": [
      "Vectors are linearly independent.\n",
      "[array([-0.5,  0.5, -0.5,  0.5]), array([0.5, 0.5, 0.5, 0.5]), array([-0.5, -0.5,  0.5,  0.5])]\n",
      "Norm of q[0] : 1.0\n",
      "Inner product of q[0] and q[1] : 0.0\n",
      "Inner product of q[0] and q[2] : 0.0\n",
      "Norm of q[1] : 1.0\n",
      "Inner product of q[1] and q[2] : 0.0\n",
      "Norm of q[2] : 1.0\n"
     ]
    }
   ],
   "source": [
    "#gram-schmidt algorithm\n",
    "import numpy as np\n",
    "def gram_schmidt(a):\n",
    "    q=[]\n",
    "    for i in range(len(a)):\n",
    "        #orthogonalization\n",
    "        q_tilde=a[i]\n",
    "        for j in range(len(q)):\n",
    "            q_tilde=q_tilde-(q[j]@a[i])*q[j]\n",
    "            \n",
    "        #test for dependence\n",
    "        if np.sqrt(sum(q_tilde**2))<=1e-10:\n",
    "            print('Vectors are linearly dependent.')\n",
    "            print('GS algorithm terminates at iteration ',i+1)\n",
    "            return q\n",
    "        \n",
    "        #normalization\n",
    "        else:\n",
    "            q_tilde=q_tilde/np.sqrt(sum(q_tilde**2))\n",
    "            q.append(q_tilde)\n",
    "    print('Vectors are linearly independent.')\n",
    "    return q\n",
    "            \n",
    "a=np.array([[-1,1,-1,1],[-1,3,-1,3],[1,3,5,7]])\n",
    "q=gram_schmidt(a)\n",
    "print(q)\n",
    "#test orthonormality\n",
    "print('Norm of q[0] :',(sum(q[0]**2))**0.5)\n",
    "print('Inner product of q[0] and q[1] :',q[0]@q[1])\n",
    "print('Inner product of q[0] and q[2] :',q[0]@q[2])\n",
    "print('Norm of q[1] :',(sum(q[1]**2))**0.5)\n",
    "print('Inner product of q[1] and q[2] :',q[1]@q[2])\n",
    "print('Norm of q[2] :',(sum(q[2]**2))**0.5) \n",
    "            "
   ]
  },
  {
   "cell_type": "code",
   "execution_count": 10,
   "id": "e5fb608e",
   "metadata": {},
   "outputs": [
    {
     "name": "stdout",
     "output_type": "stream",
     "text": [
      "Vectors are linearly dependent.\n",
      "GS algorithm terminates at iteration  3\n",
      "[array([-0.5,  0.5, -0.5,  0.5]), array([0.5, 0.5, 0.5, 0.5])]\n"
     ]
    }
   ],
   "source": [
    "b=np.array([a[0],a[1],1.3*a[0]+0.5*a[1]])\n",
    "q=gram_schmidt(b)\n",
    "print(q)"
   ]
  },
  {
   "cell_type": "code",
   "execution_count": 12,
   "id": "b3707d8c",
   "metadata": {},
   "outputs": [
    {
     "name": "stdout",
     "output_type": "stream",
     "text": [
      "Vectors are linearly dependent.\n",
      "GS algorithm terminates at iteration  3\n",
      "[array([0.70710678, 0.70710678]), array([-0.70710678,  0.70710678])]\n"
     ]
    }
   ],
   "source": [
    "three_two_vectors=np.array([[1,1],[1,2],[-1,1]])\n",
    "q=gram_schmidt(three_two_vectors)\n",
    "print(q)"
   ]
  },
  {
   "cell_type": "code",
   "execution_count": null,
   "id": "cf46c1b9",
   "metadata": {},
   "outputs": [],
   "source": []
  },
  {
   "cell_type": "code",
   "execution_count": null,
   "id": "72a91edb",
   "metadata": {},
   "outputs": [],
   "source": []
  }
 ],
 "metadata": {
  "kernelspec": {
   "display_name": "Python 3 (ipykernel)",
   "language": "python",
   "name": "python3"
  },
  "language_info": {
   "codemirror_mode": {
    "name": "ipython",
    "version": 3
   },
   "file_extension": ".py",
   "mimetype": "text/x-python",
   "name": "python",
   "nbconvert_exporter": "python",
   "pygments_lexer": "ipython3",
   "version": "3.9.7"
  }
 },
 "nbformat": 4,
 "nbformat_minor": 5
}
