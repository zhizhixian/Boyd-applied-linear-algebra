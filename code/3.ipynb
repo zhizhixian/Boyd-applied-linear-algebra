{
 "cells": [
  {
   "cell_type": "code",
   "execution_count": 1,
   "id": "384bcad5",
   "metadata": {},
   "outputs": [
    {
     "name": "stdout",
     "output_type": "stream",
     "text": [
      "3.0\n"
     ]
    }
   ],
   "source": [
    "#范数\n",
    "import numpy as np\n",
    "x=np.array([2,-1,2])\n",
    "print(np.linalg.norm(x))"
   ]
  },
  {
   "cell_type": "code",
   "execution_count": 2,
   "id": "0c89f2e7",
   "metadata": {},
   "outputs": [
    {
     "name": "stdout",
     "output_type": "stream",
     "text": [
      "3.0\n"
     ]
    }
   ],
   "source": [
    "#内积\n",
    "print(np.sqrt(np.inner(x,x)))"
   ]
  },
  {
   "cell_type": "code",
   "execution_count": 3,
   "id": "901d325f",
   "metadata": {},
   "outputs": [
    {
     "name": "stdout",
     "output_type": "stream",
     "text": [
      "LHS 3.4913841119415605\n",
      "RHS 3.7636450136583646\n"
     ]
    }
   ],
   "source": [
    "x=np.random.random(10)\n",
    "y=np.random.random(10)\n",
    "LHS=np.linalg.norm(x+y)\n",
    "RHS=np.linalg.norm(x)+np.linalg.norm(y)\n",
    "print('LHS',LHS)\n",
    "print('RHS',RHS)"
   ]
  },
  {
   "cell_type": "code",
   "execution_count": 5,
   "id": "e37f13a1",
   "metadata": {},
   "outputs": [
    {
     "name": "stdout",
     "output_type": "stream",
     "text": [
      "-0.042529437832386836\n"
     ]
    }
   ],
   "source": [
    "#RMS\n",
    "import numpy as np\n",
    "rms=lambda x:np.linalg.norm(x)/np.sqrt(len(x))\n",
    "t=np.arange(0,1.01,0.01)\n",
    "x= np.cos(8*t)-2*np.sin(11*t)\n",
    "print(sum(x)/len(x))"
   ]
  },
  {
   "cell_type": "code",
   "execution_count": 6,
   "id": "d4c04244",
   "metadata": {},
   "outputs": [
    {
     "name": "stdout",
     "output_type": "stream",
     "text": [
      "1.0837556422598\n"
     ]
    }
   ],
   "source": [
    "print(rms(x))"
   ]
  },
  {
   "cell_type": "code",
   "execution_count": 13,
   "id": "1a7df294",
   "metadata": {},
   "outputs": [
    {
     "data": {
      "image/png": "[encoded data removed]",
      "text/plain": [
       "<Figure size 432x288 with 1 Axes>"
      ]
     },
     "metadata": {
      "needs_background": "light"
     },
     "output_type": "display_data"
    }
   ],
   "source": [
    "import matplotlib.pyplot as plt\n",
    "plt.ion()\n",
    "plt.plot(t,x)\n",
    "plt.plot(t,np.mean(x)*np.ones(len(x)))\n",
    "plt.plot(t,(np.mean(x)+rms(x))*np.ones(len(x)),'g')\n",
    "plt.plot(t,(np.mean(x)-rms(x))*np.ones(len(x)),'g')\n",
    "plt.xlabel('x')\n",
    "plt.ylabel('y')\n",
    "plt.show()"
   ]
  },
  {
   "cell_type": "code",
   "execution_count": 6,
   "id": "a53eafd4",
   "metadata": {},
   "outputs": [
    {
     "name": "stdout",
     "output_type": "stream",
     "text": [
      "79\n",
      "20\n"
     ]
    }
   ],
   "source": [
    "import numpy as np\n",
    "rms=lambda x:np.linalg.norm(x)/np.sqrt(len(x))\n",
    "t=np.arange(0,1.01,0.01)\n",
    "x= np.cos(8*t)-2*np.sin(11*t)\n",
    "\n",
    "#Define Chebyshev bound function\n",
    "import math \n",
    "cheb_bound= lambda x,a:math.floor(sum(x**2)/a)\n",
    "a=1.5\n",
    "print(cheb_bound(x,a))\n",
    "\n",
    "#number of entries of x with /x_i/>=a\n",
    "print(sum(abs(x)>=a))"
   ]
  },
  {
   "cell_type": "code",
   "execution_count": 7,
   "id": "419e234b",
   "metadata": {},
   "outputs": [
    {
     "name": "stdout",
     "output_type": "stream",
     "text": [
      "8.36779540858881\n",
      "0.3872983346207417\n",
      "8.532877591996735\n"
     ]
    }
   ],
   "source": [
    "import numpy as np\n",
    "u=np.array([1.8,2.0,-3.7,4.7])\n",
    "v=np.array([0.6,2.1,1.9,-1.4])\n",
    "w=np.array([2.0,1.9,-4.0,4.6])\n",
    "print(np.linalg.norm(u-v))\n",
    "print(np.linalg.norm(u-w))\n",
    "print(np.linalg.norm(v-w))"
   ]
  },
  {
   "cell_type": "code",
   "execution_count": 8,
   "id": "2e4a699e",
   "metadata": {},
   "outputs": [
    {
     "name": "stdout",
     "output_type": "stream",
     "text": [
      "[5, 2]\n"
     ]
    }
   ],
   "source": [
    "#寻找距离最小的点\n",
    "near_neigh=lambda x,z:z[np.argmin([np.linalg.norm(x-y)for y in z])]\n",
    "z=([2,1],[3,2],[5,2],[7,1])\n",
    "x=np.array([5,6])\n",
    "print(near_neigh(x,z))"
   ]
  },
  {
   "cell_type": "code",
   "execution_count": 9,
   "id": "47924cd7",
   "metadata": {},
   "outputs": [
    {
     "name": "stdout",
     "output_type": "stream",
     "text": [
      "[3, 2]\n"
     ]
    }
   ],
   "source": [
    "print(near_neigh(np.array([3,3]),z))"
   ]
  },
  {
   "cell_type": "code",
   "execution_count": 11,
   "id": "1d138ed0",
   "metadata": {},
   "outputs": [
    {
     "name": "stdout",
     "output_type": "stream",
     "text": [
      "Average of x: 0.6\n",
      "x_tilde: [ 0.4 -2.8  2.4]\n",
      "Average of x_tilde: -1.4802973661668753e-16\n"
     ]
    }
   ],
   "source": [
    "#de-mean的值与平均数=0\n",
    "de_mean=lambda x:x-sum(x)/len(x)\n",
    "x=np.array([1,-2.2,3])\n",
    "print('Average of x:',np.mean(x))\n",
    "x_tilde=de_mean(x)\n",
    "print('x_tilde:',x_tilde)\n",
    "print('Average of x_tilde:',np.mean(x_tilde))"
   ]
  },
  {
   "cell_type": "code",
   "execution_count": 15,
   "id": "edf52615",
   "metadata": {
    "scrolled": true
   },
   "outputs": [
    {
     "name": "stdout",
     "output_type": "stream",
     "text": [
      "0.30507095934286904\n"
     ]
    }
   ],
   "source": [
    "#求std(x)\n",
    "x=np.random.random(100)\n",
    "print(np.std(x))\n",
    "#stdev=lambda x:np.linalg.norm(x-sum(x)/len(x))/len(x)**0.5\n",
    "#print(stdev(x))"
   ]
  },
  {
   "cell_type": "code",
   "execution_count": 16,
   "id": "d9d9f11d",
   "metadata": {},
   "outputs": [
    {
     "data": {
      "text/plain": [
       "(1.0, 0.0)"
      ]
     },
     "execution_count": 16,
     "metadata": {},
     "output_type": "execute_result"
    }
   ],
   "source": [
    "a=np.ones(10)\n",
    "np.mean(a),np.std(a)"
   ]
  },
  {
   "cell_type": "code",
   "execution_count": 18,
   "id": "0e675ff7",
   "metadata": {},
   "outputs": [
    {
     "data": {
      "text/plain": [
       "(2.3, 2.4103941586387903)"
      ]
     },
     "execution_count": 18,
     "metadata": {},
     "output_type": "execute_result"
    }
   ],
   "source": [
    "b=[5,1,-2,3,6,3,-1,3,4,1]\n",
    "np.mean(b),np.std(b)"
   ]
  },
  {
   "cell_type": "code",
   "execution_count": 19,
   "id": "d73de5cb",
   "metadata": {},
   "outputs": [
    {
     "data": {
      "text/plain": [
       "(2.6, 3.7735924528226414)"
      ]
     },
     "execution_count": 19,
     "metadata": {},
     "output_type": "execute_result"
    }
   ],
   "source": [
    "c=[5,7,-2,2,-3,1,-1,2,7,8]\n",
    "np.mean(c),np.std(c)"
   ]
  },
  {
   "cell_type": "code",
   "execution_count": 32,
   "id": "fcb70ed4",
   "metadata": {},
   "outputs": [
    {
     "data": {
      "text/plain": [
       "(0.48675541518892723, 0.29144570723585883)"
      ]
     },
     "execution_count": 32,
     "metadata": {},
     "output_type": "execute_result"
    }
   ],
   "source": [
    "#standardization 表示x比平均数大出多少个std（x）\n",
    "def standardize(x):\n",
    "    x_tilde= x-np.mean(x)\n",
    "    return x_tilde/np.std(x)\n",
    "x=np.random.random(100)\n",
    "np.mean(x),np.std(x)"
   ]
  },
  {
   "cell_type": "code",
   "execution_count": 33,
   "id": "595a5bf8",
   "metadata": {},
   "outputs": [
    {
     "data": {
      "text/plain": [
       "(8.659739592076221e-17, 1.0)"
      ]
     },
     "execution_count": 33,
     "metadata": {},
     "output_type": "execute_result"
    }
   ],
   "source": [
    "z=standardize(x)\n",
    "np.mean(z),np.std(z)"
   ]
  },
  {
   "cell_type": "code",
   "execution_count": 39,
   "id": "b1b04d42",
   "metadata": {},
   "outputs": [
    {
     "data": {
      "text/plain": [
       "(3.0, 1.4142135623730951)"
      ]
     },
     "execution_count": 39,
     "metadata": {},
     "output_type": "execute_result"
    }
   ],
   "source": [
    "x=[1,2,3,4,5]\n",
    "x_tilde=x-np.mean(x)\n",
    "np.mean(x),np.std(x_tilde)"
   ]
  },
  {
   "cell_type": "code",
   "execution_count": 42,
   "id": "9239c4bd",
   "metadata": {},
   "outputs": [
    {
     "data": {
      "text/plain": [
       "0.9689825515916383"
      ]
     },
     "execution_count": 42,
     "metadata": {},
     "output_type": "execute_result"
    }
   ],
   "source": [
    "#Define angle function,which returns radians\n",
    "ang=lambda x,y:np.arccos(x@y/(np.linalg.norm(x)*np.linalg.norm(y)))\n",
    "a=np.array([1,2,-1])\n",
    "b=np.array([2,0,-3])\n",
    "ang(a,b)#输出为弧度制"
   ]
  },
  {
   "cell_type": "code",
   "execution_count": 43,
   "id": "166a2ebf",
   "metadata": {},
   "outputs": [
    {
     "data": {
      "text/plain": [
       "55.51861062801842"
      ]
     },
     "execution_count": 43,
     "metadata": {},
     "output_type": "execute_result"
    }
   ],
   "source": [
    "#get angle in degrees\n",
    "ang(a,b)*(360/(2*np.pi))"
   ]
  },
  {
   "cell_type": "code",
   "execution_count": 9,
   "id": "47356283",
   "metadata": {},
   "outputs": [
    {
     "data": {
      "text/plain": [
       "0.36143931443711014"
      ]
     },
     "execution_count": 9,
     "metadata": {},
     "output_type": "execute_result"
    }
   ],
   "source": [
    "#correlation coefficient\n",
    "import numpy as np\n",
    "def corr_coef(a,b):\n",
    "    a_tilde=a-sum(a)/len(a)\n",
    "    b_tilde=b-sum(b)/len(b)\n",
    "    denom=(np.linalg.norm(a_tilde)*np.linalg.norm(b_tilde))\n",
    "    return (a_tilde@b_tilde)/denom\n",
    "a=np.random.random(10)\n",
    "b=np.random.random(10)\n",
    "corr_coef(a,b)"
   ]
  },
  {
   "cell_type": "code",
   "execution_count": 11,
   "id": "4304a92b",
   "metadata": {},
   "outputs": [
    {
     "name": "stdout",
     "output_type": "stream",
     "text": [
      "0.3224163055419922\n"
     ]
    }
   ],
   "source": [
    "#complexity\n",
    "import time \n",
    "x=np.random.random(10**6)\n",
    "y=np.random.random(10**6)\n",
    "start=time.time()\n",
    "corr_coef(x,y)\n",
    "end=time.time()\n",
    "print(end-start)"
   ]
  },
  {
   "cell_type": "code",
   "execution_count": 13,
   "id": "17ece4c3",
   "metadata": {},
   "outputs": [
    {
     "name": "stdout",
     "output_type": "stream",
     "text": [
      "3.411604166030884\n"
     ]
    }
   ],
   "source": [
    "#complexity\n",
    "import time \n",
    "x=np.random.random(10**7)\n",
    "y=np.random.random(10**7)\n",
    "start=time.time()\n",
    "corr_coef(x,y)\n",
    "end=time.time()\n",
    "print(end-start)"
   ]
  },
  {
   "cell_type": "code",
   "execution_count": 15,
   "id": "b8e61fc7",
   "metadata": {},
   "outputs": [
    {
     "name": "stdout",
     "output_type": "stream",
     "text": [
      "21.9770188331604\n"
     ]
    }
   ],
   "source": [
    "#complexity\n",
    "import time \n",
    "x=np.random.random(10**8)\n",
    "y=np.random.random(10**8)\n",
    "start=time.time()\n",
    "corr_coef(x,y)\n",
    "end=time.time()\n",
    "print(end-start)"
   ]
  },
  {
   "cell_type": "code",
   "execution_count": 26,
   "id": "ed4d7661",
   "metadata": {},
   "outputs": [
    {
     "name": "stdout",
     "output_type": "stream",
     "text": [
      "6.2048368229954285\n",
      "6.204836822995428\n",
      "5.5\n",
      "5.5\n"
     ]
    }
   ],
   "source": [
    "#exercises 3.2\n",
    "import numpy as np\n",
    "rms=lambda x:np.linalg.norm(x)/np.sqrt(len(x))\n",
    "x=np.array([1,2,3,4,5,6,7,8,9,10])\n",
    "x1=np.array([1,2,3,4,5,6])\n",
    "x2=np.array([7,8,9,10])\n",
    "print(np.sqrt(len(x1)*rms(x1)**2+len(x2)*rms(x2)**2)/np.sqrt(10))\n",
    "print(rms(x))\n",
    "\n",
    "avg=lambda x:sum(x)/len(x)\n",
    "print(avg(x))\n",
    "print((6*avg(x1)+4*avg(x2))/10)"
   ]
  },
  {
   "cell_type": "code",
   "execution_count": 29,
   "id": "ef50a8a4",
   "metadata": {
    "scrolled": true
   },
   "outputs": [
    {
     "name": "stdout",
     "output_type": "stream",
     "text": [
      "-144\n",
      "-144\n"
     ]
    }
   ],
   "source": [
    "#exercise 3.4\n",
    "a=np.array([1,2,3,4])\n",
    "b=np.array([5,6,7,8])\n",
    "print(np.inner(a-b,a+b))\n",
    "print(np.inner(a,a)-np.inner(b,b))"
   ]
  },
  {
   "cell_type": "code",
   "execution_count": 2,
   "id": "d445247f",
   "metadata": {},
   "outputs": [
    {
     "name": "stdout",
     "output_type": "stream",
     "text": [
      "9432.757404232692\n"
     ]
    }
   ],
   "source": [
    "#exercise 3.22\n",
    "import numpy as np\n",
    "r=6367.5\n",
    "a=np.array([r*np.sin(116.392*np.pi/180)*np.cos(39.914*np.pi/180),r*np.cos((116.392*np.pi/180)*np.sin(39.914*np.pi/180)),r*np.sin(39.914*np.pi/180)])\n",
    "b=np.array([r*np.sin((-122.138)*np.pi/180)*np.cos(37.429*np.pi/180),r*np.sin(37.429*np.pi/180)*np.cos((-122.138)*np.pi/180),r*np.sin(37.429*np.pi/180)])\n",
    "print(np.linalg.norm(a-b))"
   ]
  },
  {
   "cell_type": "code",
   "execution_count": 9,
   "id": "cd3de124",
   "metadata": {},
   "outputs": [
    {
     "name": "stdout",
     "output_type": "stream",
     "text": [
      "3.3076923076923075\n",
      "3.3076923076923075\n",
      "1.1186953517114606\n",
      "1.1186953517114606\n"
     ]
    }
   ],
   "source": [
    "#3.25\n",
    "import numpy as np\n",
    "r=np.array([1,2,3,4,5,6,7,8,8,6,5,3,2])\n",
    "mean_r=sum(r)/len(r)\n",
    "std_r=np.std(r)\n",
    "rf=2\n",
    "b=0.5\n",
    "p=b*r+(1-b)*rf*np.ones(13)\n",
    "\n",
    "#验证mean and risk of p\n",
    "print(0.5*mean_r+1)\n",
    "print(sum(p)/len(p))\n",
    "print(0.5*std_r)\n",
    "print(np.std(p))\n",
    "\n"
   ]
  },
  {
   "cell_type": "code",
   "execution_count": 81,
   "id": "8c3dd384",
   "metadata": {},
   "outputs": [
    {
     "name": "stdout",
     "output_type": "stream",
     "text": [
      "0.15147745959871237\n",
      "0.15147745959871237\n"
     ]
    }
   ],
   "source": [
    "#3.26验证auto-coefficient与standardization之间的关系\n",
    "import numpy as np\n",
    "x=np.array([10,1,10,10,9,10,10,8,10,10,10,10,6,-10,22,-22,10])\n",
    "mean_x=sum(x)/len(x)\n",
    "a=14\n",
    "\n",
    "#制造滞后序列\n",
    "y=mean_x*np.ones(a)\n",
    "x1=np.concatenate((x,y))\n",
    "x2=np.concatenate((y,x))\n",
    "\n",
    "#定义自相关性系数\n",
    "def auto_coef(a,b):\n",
    "    a_tilde=a-sum(a)/len(a)\n",
    "    b_tilde=b-sum(b)/len(b)\n",
    "    denom=(np.linalg.norm(a_tilde)*np.linalg.norm(b_tilde))\n",
    "    return (a_tilde@b_tilde)/denom\n",
    "print(auto_coef(x1,x2))\n",
    "\n",
    "#定义standardization\n",
    "def standardize(x):\n",
    "    x_tilde= x-np.mean(x)\n",
    "    return x_tilde/np.std(x)\n",
    "\n",
    "#验证\n",
    "z=standardize(x)\n",
    "s=0\n",
    "for i in range(17-a):\n",
    "    s=s+z[i]*z[i+a]\n",
    "print(s/17)"
   ]
  },
  {
   "cell_type": "code",
   "execution_count": null,
   "id": "ee73820f",
   "metadata": {},
   "outputs": [],
   "source": []
  },
  {
   "cell_type": "code",
   "execution_count": null,
   "id": "21c7627d",
   "metadata": {},
   "outputs": [],
   "source": []
  }
 ],
 "metadata": {
  "kernelspec": {
   "display_name": "Python 3 (ipykernel)",
   "language": "python",
   "name": "python3"
  },
  "language_info": {
   "codemirror_mode": {
    "name": "ipython",
    "version": 3
   },
   "file_extension": ".py",
   "mimetype": "text/x-python",
   "name": "python",
   "nbconvert_exporter": "python",
   "pygments_lexer": "ipython3",
   "version": "3.9.7"
  }
 },
 "nbformat": 4,
 "nbformat_minor": 5
}
