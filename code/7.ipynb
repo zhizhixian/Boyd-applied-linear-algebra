{
 "cells": [
  {
   "cell_type": "code",
   "execution_count": 2,
   "id": "de4d9ddb",
   "metadata": {},
   "outputs": [
    {
     "data": {
      "text/plain": [
       "[[0.5000000000000001, -0.8660254037844386],\n",
       " [0.8660254037844386, 0.5000000000000001]]"
      ]
     },
     "execution_count": 2,
     "metadata": {},
     "output_type": "execute_result"
    }
   ],
   "source": [
    "import numpy as np\n",
    "rot=lambda theta:[[np.cos(theta),-np.sin(theta)],[np.sin(theta),np.cos(theta)]]\n",
    "r=rot(np.pi/3)\n",
    "r"
   ]
  },
  {
   "cell_type": "code",
   "execution_count": 8,
   "id": "9bb2d2bb",
   "metadata": {},
   "outputs": [
    {
     "data": {
      "image/png": "[encoded data removed]",
      "text/plain": [
       "<Figure size 432x288 with 1 Axes>"
      ]
     },
     "metadata": {
      "needs_background": "light"
     },
     "output_type": "display_data"
    }
   ],
   "source": [
    "#create a list of 2-D points\n",
    "points=np.array([[1,0],[1.5,0],[2,0],[1,0.25],[1.5,0.25],[1,0.5]])\n",
    "#Now rotate them\n",
    "rpoints=np.array([r@p for p in points])\n",
    "#show the two sets of points\n",
    "import matplotlib.pyplot as plt\n",
    "plt.ion()\n",
    "plt.scatter([c[0] for c in points],[c[1] for c in points])\n",
    "plt.scatter([c[0] for c in rpoints],[c[1] for c in rpoints])\n",
    "plt.show()"
   ]
  },
  {
   "cell_type": "code",
   "execution_count": 11,
   "id": "bccb1c57",
   "metadata": {},
   "outputs": [
    {
     "data": {
      "text/plain": [
       "array([[0., 0., 0., 0., 1.],\n",
       "       [0., 0., 0., 1., 0.],\n",
       "       [0., 0., 1., 0., 0.],\n",
       "       [0., 1., 0., 0., 0.],\n",
       "       [1., 0., 0., 0., 0.]])"
      ]
     },
     "execution_count": 11,
     "metadata": {},
     "output_type": "execute_result"
    }
   ],
   "source": [
    "reserver=lambda n:np.flip(np.eye(n),axis=0)#axis=0 按行翻转，axis=1 按列翻转\n",
    "A=reserver(5)\n",
    "A"
   ]
  },
  {
   "cell_type": "code",
   "execution_count": 13,
   "id": "55fa9442",
   "metadata": {},
   "outputs": [
    {
     "data": {
      "text/plain": [
       "array([ 2.4,  0.2, -1.7])"
      ]
     },
     "execution_count": 13,
     "metadata": {},
     "output_type": "execute_result"
    }
   ],
   "source": [
    "#Permutation\n",
    "A=np.array([[0,0,1],[1,0,0],[0,1,0]])\n",
    "x=np.array([0.2,-1.7,2.4])\n",
    "A@x #permutes entries of x to [x[2],x[0],x[1]]"
   ]
  },
  {
   "cell_type": "code",
   "execution_count": 14,
   "id": "075ecd8d",
   "metadata": {},
   "outputs": [
    {
     "data": {
      "text/plain": [
       "array([ 2.4,  0.2, -1.7])"
      ]
     },
     "execution_count": 14,
     "metadata": {},
     "output_type": "execute_result"
    }
   ],
   "source": [
    "x[[2,0,1]] #直接翻转"
   ]
  },
  {
   "cell_type": "code",
   "execution_count": 15,
   "id": "c5130878",
   "metadata": {},
   "outputs": [
    {
     "data": {
      "text/plain": [
       "array([0, 0, 0, 0])"
      ]
     },
     "execution_count": 15,
     "metadata": {},
     "output_type": "execute_result"
    }
   ],
   "source": [
    "#incidence matrix of the figure 7.3\n",
    "A=np.array([[-1,-1,0,1,0],[1,0,-1,0,0],[0,0,1,-1,-1],[0,1,0,0,1]])\n",
    "xcirc=np.array([1,-1,1,0,1]) #A circulation\n",
    "A@ xcirc"
   ]
  },
  {
   "cell_type": "code",
   "execution_count": 18,
   "id": "446f9a98",
   "metadata": {},
   "outputs": [
    {
     "data": {
      "text/plain": [
       "array([1.11022302e-16, 0.00000000e+00, 0.00000000e+00, 0.00000000e+00])"
      ]
     },
     "execution_count": 18,
     "metadata": {},
     "output_type": "execute_result"
    }
   ],
   "source": [
    "s=np.array([1,0,-1,0]) # A source vector\n",
    "x=np.array([0.6,0.3,0.6,-0.1,-0.3]) # A flow vector\n",
    "A@x+s #Total incoming flow at each node"
   ]
  },
  {
   "cell_type": "code",
   "execution_count": 19,
   "id": "f53f0fad",
   "metadata": {},
   "outputs": [
    {
     "data": {
      "text/plain": [
       "2.9999999999999996"
      ]
     },
     "execution_count": 19,
     "metadata": {},
     "output_type": "execute_result"
    }
   ],
   "source": [
    "#Dirichlet energy\n",
    "A= np.array([[-1,-1,0,1,0],[1,0,-1,0,0],[0,0,1,-1,-1],[0,1,0,0,1]])\n",
    "vsmooth=np.array([1,2,2,1])\n",
    "np.linalg.norm(A.T@vsmooth)**2 # dirichlet energy of vsmooth"
   ]
  },
  {
   "cell_type": "code",
   "execution_count": 20,
   "id": "7c7c674c",
   "metadata": {},
   "outputs": [
    {
     "data": {
      "text/plain": [
       "27.0"
      ]
     },
     "execution_count": 20,
     "metadata": {},
     "output_type": "execute_result"
    }
   ],
   "source": [
    "vrough=np.array([1,-1,2,-1])\n",
    "np.linalg.norm(A.T@vrough)**2 #dirichlet energy of vrough"
   ]
  },
  {
   "cell_type": "code",
   "execution_count": 22,
   "id": "ada3ecc2",
   "metadata": {},
   "outputs": [
    {
     "data": {
      "text/plain": [
       "array([ 2,  3, -3, -1,  1, -2])"
      ]
     },
     "execution_count": 22,
     "metadata": {},
     "output_type": "execute_result"
    }
   ],
   "source": [
    "a=np.array([1,1]) #coefficients of 1+x\n",
    "b=np.array([2,-1,1]) #coefficients of 2-x+x^2\n",
    "c=np.array([1,1,-2]) #coefficients of 1+x-2x^2\n",
    "d=np.convolve(np.convolve(a,b),c) #coefficients of product\n",
    "d"
   ]
  },
  {
   "cell_type": "code",
   "execution_count": 24,
   "id": "53b446a4",
   "metadata": {},
   "outputs": [
    {
     "data": {
      "text/plain": [
       "array([[-1.,  0.,  0.,  0.],\n",
       "       [ 2., -1.,  0.,  0.],\n",
       "       [ 3.,  2., -1.,  0.],\n",
       "       [ 0.,  3.,  2., -1.],\n",
       "       [ 0.,  0.,  3.,  2.],\n",
       "       [ 0.,  0.,  0.,  3.]])"
      ]
     },
     "execution_count": 24,
     "metadata": {},
     "output_type": "execute_result"
    }
   ],
   "source": [
    "#construct the Toeplitz matrix T(b)\n",
    "b=np.array([-1,2,3])\n",
    "a=np.array([-2,3,-1,1])\n",
    "def toeplitz(b,n):\n",
    "    m=len(b)\n",
    "    T=np.zeros((n+m-1,n))#注意双括号\n",
    "    for j in range(n):\n",
    "        T[j:j+m,j]=b\n",
    "    return T\n",
    "Tb=toeplitz(b,len(a))\n",
    "Tb"
   ]
  },
  {
   "cell_type": "code",
   "execution_count": 25,
   "id": "45bd5874",
   "metadata": {},
   "outputs": [
    {
     "data": {
      "text/plain": [
       "(array([ 2., -7.,  1.,  6., -1.,  3.]), array([ 2, -7,  1,  6, -1,  3]))"
      ]
     },
     "execution_count": 25,
     "metadata": {},
     "output_type": "execute_result"
    }
   ],
   "source": [
    "Tb@a,np.convolve(b,a)#验证toeplitz矩阵的正确性"
   ]
  },
  {
   "cell_type": "code",
   "execution_count": 28,
   "id": "87b68a59",
   "metadata": {},
   "outputs": [
    {
     "name": "stdout",
     "output_type": "stream",
     "text": [
      "0.044233083724975586\n"
     ]
    }
   ],
   "source": [
    "import time\n",
    "m=2000\n",
    "n=2000\n",
    "b=np.random.normal(size=n)\n",
    "a=np.random.normal(size=m)\n",
    "start=time.time()\n",
    "ctoep=toeplitz(b,n)@a\n",
    "end=time.time()\n",
    "print(end-start)"
   ]
  },
  {
   "cell_type": "code",
   "execution_count": 31,
   "id": "0e7c3ea8",
   "metadata": {},
   "outputs": [
    {
     "name": "stdout",
     "output_type": "stream",
     "text": [
      "0.005418539047241211\n"
     ]
    }
   ],
   "source": [
    "start=time.time()\n",
    "cconv=np.convolve(a,b)\n",
    "end=time.time()\n",
    "print(end-start)"
   ]
  },
  {
   "cell_type": "code",
   "execution_count": 32,
   "id": "6c21cd79",
   "metadata": {},
   "outputs": [
    {
     "data": {
      "text/plain": [
       "8.280776014010884e-13"
      ]
     },
     "execution_count": 32,
     "metadata": {},
     "output_type": "execute_result"
    }
   ],
   "source": [
    "np.linalg.norm(ctoep-cconv)"
   ]
  },
  {
   "cell_type": "code",
   "execution_count": 48,
   "id": "b05cbddf",
   "metadata": {
    "scrolled": true
   },
   "outputs": [
    {
     "data": {
      "image/png": "[encoded data removed]",
      "text/plain": [
       "<Figure size 432x288 with 1 Axes>"
      ]
     },
     "metadata": {
      "needs_background": "light"
     },
     "output_type": "display_data"
    }
   ],
   "source": [
    "#7.15\n",
    "u=np.random.randint(-1,1,50)\n",
    "c=np.array([1,0.7,-0.3])\n",
    "h=np.array([0.9,-0.5,0.5,-0.4,0.3,-0.3,0.2,-0.1])\n",
    "y=np.convolve(c,u)\n",
    "z=np.convolve(h,y)\n",
    "\n",
    "import matplotlib.pyplot as plt\n",
    "plt.ion()\n",
    "plt.scatter(y,y)\n",
    "plt.scatter(z,z)\n",
    "plt.show()"
   ]
  },
  {
   "cell_type": "code",
   "execution_count": null,
   "id": "fbe29e53",
   "metadata": {},
   "outputs": [],
   "source": []
  },
  {
   "cell_type": "code",
   "execution_count": null,
   "id": "3b593806",
   "metadata": {},
   "outputs": [],
   "source": []
  }
 ],
 "metadata": {
  "kernelspec": {
   "display_name": "Python 3 (ipykernel)",
   "language": "python",
   "name": "python3"
  },
  "language_info": {
   "codemirror_mode": {
    "name": "ipython",
    "version": 3
   },
   "file_extension": ".py",
   "mimetype": "text/x-python",
   "name": "python",
   "nbconvert_exporter": "python",
   "pygments_lexer": "ipython3",
   "version": "3.9.7"
  }
 },
 "nbformat": 4,
 "nbformat_minor": 5
}
