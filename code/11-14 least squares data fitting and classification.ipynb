{
 "cells": [
  {
   "cell_type": "code",
   "execution_count": 1,
   "id": "9d2bf284",
   "metadata": {},
   "outputs": [
    {
     "name": "stdout",
     "output_type": "stream",
     "text": [
      "[ 0.2 -0.3  1.2]\n",
      "[[-0.19865916  0.65880895  1.03458368]\n",
      " [ 0.00511315 -1.78891519 -1.61559082]\n",
      " [ 0.70292712  1.25299338  1.74038   ]]\n",
      "[[-0.19865916  0.65880895  1.03458368]\n",
      " [ 0.00511315 -1.78891519 -1.61559082]\n",
      " [ 0.70292712  1.25299338  1.74038   ]]\n",
      "[[-1.22222222 -1.11111111  1.77777778]\n",
      " [ 0.77777778  0.88888889 -1.22222222]]\n",
      "[[-1.22222222 -1.11111111  1.77777778]\n",
      " [ 0.77777778  0.88888889 -1.22222222]]\n"
     ]
    }
   ],
   "source": [
    "#chapter 11\n",
    "#1)use the gram-schmidt algorithm\n",
    "import numpy as np\n",
    "def gram_schmidt(a):\n",
    "    q=[]\n",
    "    for i in range(len(a)):\n",
    "        #orthogonalization\n",
    "        q_tilde=a[i]\n",
    "        for j in range(len(q)):\n",
    "            q_tilde = q_tilde - (q[j]@a[i])*q[j]\n",
    "        q_tilde = q_tilde / np.sqrt(sum(q_tilde**2))\n",
    "        q.append(q_tilde) #此处q[i]代表Q的第i行\n",
    "    return q\n",
    "\n",
    "#2)QR factorization\n",
    "def QR_factorization(A):\n",
    "    Q_transpose = np.array(gram_schmidt(A.T))\n",
    "    R = Q_transpose @ A\n",
    "    Q = Q_transpose.T\n",
    "    return Q,R\n",
    "#or we can use the function: Q,R = np linalg.qr(A)\n",
    "\n",
    "#3)Dual basis : A is invertible with inverse B, then x = ABx\n",
    "A = np.array([[1,0,1], [4,-3,-4], [1,-1,-2]])\n",
    "B=np.linalg.inv(A)\n",
    "x = np.array([0.2,-0.3,1.2])\n",
    "x_1 = (B[0,:]@x)*A[:,0] + (B[1,:]@x)*A[:,1] + (B[2,:]@x)*A[:,2]\n",
    "print(x_1)\n",
    "\n",
    "#4)inverse via QR factorization: A = QR, so inv(A) = inv(R)Q.T \n",
    "A = np.random.normal(size = (3,3))\n",
    "print(np.linalg.inv(A))\n",
    "Q,R = QR_factorization(A)\n",
    "print(np.linalg.inv(R)@Q.T)\n",
    "\n",
    "#5)back substitution\n",
    "def back_subst(R,b_tilde): #there R is a upper matrix\n",
    "    n = R.shape[0]\n",
    "    x = np.zeros(n)\n",
    "    for i in reversed(range(n)):\n",
    "        x[i] = b_tilde[i]\n",
    "        for j in range(i+1,n):\n",
    "            x[i] = x[i] - R[i,j]*x[j]\n",
    "        x[i] = x[i]/R[i,i]\n",
    "    return x\n",
    "\n",
    "#6)solving system of linear equations, here x is the pseudo-matrix.\n",
    "def solve_via_backsub(A,b):\n",
    "    Q,R = QR_factorization(A)\n",
    "    b_tilde = Q.T @ b\n",
    "    x= back_subst(R,b_tilde)\n",
    "    return x\n",
    "#also we can use the function: np.linalg.solve(A,b) ,which is faster than np.linalg.inv(A)@ b in some cases.\n",
    "\n",
    "#7)Pseudo-inverse\n",
    "A = np.array([[-3,-4],[4,6],[1,1]])\n",
    "print(np.linalg.pinv(A))\n",
    "Q,R = np.linalg.qr(A)\n",
    "print(np.linalg.solve(R,Q.T))"
   ]
  },
  {
   "cell_type": "code",
   "execution_count": 2,
   "id": "cbbaf027",
   "metadata": {},
   "outputs": [
    {
     "name": "stdout",
     "output_type": "stream",
     "text": [
      "[ 4.4408921e-16 -4.4408921e-16]\n",
      "-8.881784197001252e-16\n",
      "2.7519522307085963e-16\n",
      "7.187702745536129e-16\n",
      "7.508575982388742e-16\n",
      "6.273595333099365\n",
      "[  62.07662454   99.98500403 1442.83746254]\n",
      "17.592889516314152\n",
      "0.14039048134276055\n"
     ]
    },
    {
     "data": {
      "image/png": "[encoded data removed]",
      "text/plain": [
       "<Figure size 432x288 with 1 Axes>"
      ]
     },
     "metadata": {
      "needs_background": "light"
     },
     "output_type": "display_data"
    },
    {
     "name": "stdout",
     "output_type": "stream",
     "text": [
      "0.24174131853807873\n"
     ]
    },
    {
     "data": {
      "image/png": "[encoded data removed]",
      "text/plain": [
       "<Figure size 432x288 with 1 Axes>"
      ]
     },
     "metadata": {
      "needs_background": "light"
     },
     "output_type": "display_data"
    }
   ],
   "source": [
    "#chapter 12 : least square problem\n",
    "import numpy as np\n",
    "A = np.array([[2,0],[-1,1],[0,2]])\n",
    "b = np.array([1,0,-1])\n",
    "x_hat = np.linalg.inv(A.T @ A) @ A.T @ b # np.linalg.pinv(A) @ b\n",
    "print((A.T @ A) @ x_hat - A.T @ b)\n",
    "\n",
    "# orthogonality principle\n",
    "r = A @ x_hat - b\n",
    "z = np.array([-1.1,2.3])\n",
    "print((A @ z).T @ r)\n",
    "\n",
    "# solving least squares problem\n",
    "A = np.random.normal(size = (100,20))\n",
    "b = np.random.normal(size = 100)\n",
    "x1 = solve_via_backsub(A,b)\n",
    "x2 = np.linalg.inv(A.T @ A) @ A.T @ b\n",
    "x3 = np.linalg.pinv(A) @ b\n",
    "print(np.linalg.norm(x1-x2))\n",
    "print(np.linalg.norm(x2-x3))\n",
    "print(np.linalg.norm(x3-x1))\n",
    "\n",
    "#complexity: 2mn^2 flops\n",
    "import time\n",
    "m = 2000\n",
    "n = 1000\n",
    "A = np.random.normal(size = (m,n))\n",
    "b = np.random.normal(size = m)\n",
    "start = time.time()\n",
    "x = solve_via_backsub(A,b)\n",
    "end = time.time()\n",
    "print(end - start)\n",
    "\n",
    "#example:\n",
    "#1)adertising purchases\n",
    "n = 3\n",
    "m = 10\n",
    "R = np.array([[0.97,1.86,0.41], [1.23,2.18,0.53],\n",
    "    [0.80,1.24,0.62], [1.29,0.98,0.51], [1.10,1.23,0.69],\n",
    "    [0.67,0.34,0.54], [0.87,0.26,0.62], [1.10,0.16,0.48],\n",
    "    [1.92,0.22,0.71], [1.29,0.12,0.62]])\n",
    "v_des = 1e+3*np.ones(10)\n",
    "s = solve_via_backsub(R,v_des)\n",
    "print(s)\n",
    "print(np.sqrt(sum(R @ s - v_des)**2)/len(v_des))\n",
    "\n",
    "#2)illumination (difficult!!!)\n",
    "import numpy as np\n",
    "#number of lamps\n",
    "n = 10\n",
    "# x, y positions of lamps and height above floor\n",
    "lamps = np.array([[4.1 ,20.4, 4],[14.1, 21.3, 3.5],[22.6, 17.1,\n",
    "    6], [5.5 ,12.3, 4.0], [12.2, 9.7, 4.0], [15.3, 13.8, 6],\n",
    "    [21.3, 10.5, 5.5], [3.9 ,3.3, 5.0], [13.1, 4.3, 5.0], [20.3,\n",
    "    4.2, 4.5]])\n",
    "N = 25 # grid size\n",
    "m = N*N # number of pixels\n",
    "# construct m*2 matrix with coordinates of pixel centers\n",
    "pixels = np.hstack([np.outer(np.arange(0.5,N,1),np.ones(N)).reshape(m,1),\n",
    "                    np.outer(np.ones(N),np.arange(0.5,N,1)).reshape(m,1)]) # 注意np.outer的用法\n",
    "# The m*n matrix A maps lamp powers to pixel intensities.\n",
    "# A[i,j] is inversely proportional to the squared distance of lamp j to pixel i.\n",
    "A = np.zeros((m,n))\n",
    "for i in range(m):\n",
    "    for j in range(n):\n",
    "        A[i,j] = 1.0 / (np.linalg.norm(np.hstack([pixels[i,:],0]) - lamps[j,:])**2)\n",
    "        \n",
    "A = (m/np.sum(A)) * A #scale elements of A\n",
    "#Least squares solution \n",
    "x = solve_via_backsub(A , np.ones(m))\n",
    "rms_ls = (sum((A @ x - 1)**2)/m)**0.5\n",
    "print(rms_ls)\n",
    "\n",
    "import matplotlib.pyplot as plt\n",
    "plt.ion()\n",
    "plt.hist(A @ x, bins = 25)\n",
    "plt.show()\n",
    "\n",
    "#intensity if all lamp powers are one\n",
    "rms_uniform = (sum((A @ np.ones(n) - 1)**2)/m)**0.5\n",
    "print(rms_uniform)\n",
    "plt.hist(A @ np.ones(n), bins = 25)\n",
    "plt.show()"
   ]
  },
  {
   "cell_type": "code",
   "execution_count": 3,
   "id": "4b97af62",
   "metadata": {},
   "outputs": [
    {
     "ename": "NameError",
     "evalue": "name 'petroleum_consumption_data' is not defined",
     "output_type": "error",
     "traceback": [
      "\u001b[1;31m---------------------------------------------------------------------------\u001b[0m",
      "\u001b[1;31mNameError\u001b[0m                                 Traceback (most recent call last)",
      "Input \u001b[1;32mIn [3]\u001b[0m, in \u001b[0;36m<cell line: 6>\u001b[1;34m()\u001b[0m\n\u001b[0;32m      4\u001b[0m \u001b[38;5;28;01mimport\u001b[39;00m \u001b[38;5;21;01mmatplotlib\u001b[39;00m\u001b[38;5;21;01m.\u001b[39;00m\u001b[38;5;21;01mpyplot\u001b[39;00m \u001b[38;5;28;01mas\u001b[39;00m \u001b[38;5;21;01mplt\u001b[39;00m\n\u001b[0;32m      5\u001b[0m plt\u001b[38;5;241m.\u001b[39mion()\n\u001b[1;32m----> 6\u001b[0m consumption \u001b[38;5;241m=\u001b[39m \u001b[43mpetroleum_consumption_data\u001b[49m()\n\u001b[0;32m      7\u001b[0m n \u001b[38;5;241m=\u001b[39m \u001b[38;5;28mlen\u001b[39m(consumption)\n\u001b[0;32m      8\u001b[0m A \u001b[38;5;241m=\u001b[39m np\u001b[38;5;241m.\u001b[39mcolumn_stack((np\u001b[38;5;241m.\u001b[39mones(n),np\u001b[38;5;241m.\u001b[39marange(n))) \u001b[38;5;66;03m#np.arange(n)创建步长为1，小于n的等差序列\u001b[39;00m\n",
      "\u001b[1;31mNameError\u001b[0m: name 'petroleum_consumption_data' is not defined"
     ]
    }
   ],
   "source": [
    "# chapter 13 : least squares data fitting\n",
    "# 13.1 least squares data fitting\n",
    "#1）straight-line fit\n",
    "import matplotlib.pyplot as plt\n",
    "plt.ion()\n",
    "consumption = petroleum_consumption_data()\n",
    "n = len(consumption)\n",
    "A = np.column_stack((np.ones(n),np.arange(n))) #np.arange(n)创建步长为1，小于n的等差序列\n",
    "x = solve_via_backsub(A, consumption)\n",
    "plt.scatter(np.arange(1980,2014),consumption)\n",
    "plt.plot(np.arange(1980,2014), A@x, 'r')\n",
    "#plt.show()\n",
    "\n",
    "#2）estimation of trend and seasonal component\n",
    "import matplotlib.pyplot as plt\n",
    "plt.ion()\n",
    "vmt = vahicle_miles_data()\n",
    "m = 15*12\n",
    "A = np.column_stack((np.arange(m),np.vstack([np.idendity(12) \n",
    "                                             for i in range(15)])))\n",
    "b = np.reshape(vmt.T,m,1)\n",
    "x = solve_via_backsub(A,b)\n",
    "plt.scatter(np.arange(m),b)\n",
    "plt.plot(np.arange(m),A@x,'r')\n",
    "#plt.show()\n",
    "\n",
    "#5) house price regression\n",
    "D = house_sales_data()\n",
    "area = D[\"area\"]\n",
    "beds = D[\"beds\"]\n",
    "price = D[\"price\"]\n",
    "m = len(price)\n",
    "A = np.column_stack((np.ones(m),area,beds))\n",
    "x = solve_via_backsub(A,price)\n",
    "rms_error = (sum((price - A@x)**2)/m)**0.5\n",
    "std_price = np.std(price)\n",
    "print(rms_error)\n",
    "print(std_price)\n"
   ]
  },
  {
   "cell_type": "code",
   "execution_count": null,
   "id": "26acb5fa",
   "metadata": {},
   "outputs": [],
   "source": [
    "#3）polynomial fit\n",
    "import matplotlib.pyplot as plt\n",
    "plt.ion()\n",
    "\n",
    "# vandermonde matrix\n",
    "def vandermonde(t,n):\n",
    "    m = len(t)\n",
    "    V = np.zeros((m,n))\n",
    "    for i in range(m):\n",
    "        for j in range(n):\n",
    "            V[i,j] = t[i]**(j)\n",
    "    return V\n",
    "\n",
    "# generate training data in the interval [-1,1]\n",
    "m = 100\n",
    "t = -1 + 2*np.random.random(m) #区间在-1到1\n",
    "y = np.power(t,3) - t + 0.4/(1 + 25*np.power(t,2)) + 0.1*np.random.normal(size = m)\n",
    "plt.scatter(t,y)\n",
    "plt.show()\n",
    "\n",
    "polyfit = lambda t,y,p: solve_via_backsub(vandermonde(t,p),y)\n",
    "theta2 = polyfit(t,y,3)\n",
    "theta6 = polyfit(t,y,7)\n",
    "theta10 = polyfit(t,y,11)\n",
    "theta15 = polyfit(t,y,16)\n",
    "\n",
    "polyeval = lambda theta,x:vandermonde(x,len(theta)) @ theta #此处x的维数不同\n",
    "t_plot = np.linspace(-1,1,num = 100)\n",
    "fig = plt.figure()\n",
    "plt.ylim(-0.7,0.7)  #y轴坐标上下限\n",
    "\n",
    "plt.subplot(2,2,1)  #生成两行两列的图表，这是第一个\n",
    "plt.scatter(t,y)\n",
    "plt.plot(t_plot, polyeval(theta2, t_plot),'r')\n",
    "\n",
    "plt.subplot(2, 2, 2)\n",
    "plt.scatter(t,y)\n",
    "plt.plot(t_plot, polyeval(theta6, t_plot),'r')\n",
    "\n",
    "plt.subplot(2, 2, 3)\n",
    "plt.scatter(t,y)\n",
    "plt.plot(t_plot, polyeval(theta10, t_plot),'r')\n",
    "\n",
    "plt.subplot(2, 2, 4)\n",
    "plt.scatter(t,y)\n",
    "plt.plot(t_plot, polyeval(theta15, t_plot),'r')\n",
    "plt.show()"
   ]
  },
  {
   "cell_type": "code",
   "execution_count": null,
   "id": "5e74247b",
   "metadata": {},
   "outputs": [],
   "source": [
    "#4) piecewise-linear fit\n",
    "import matplotlib.pyplot as plt\n",
    "plt.ion()\n",
    "#generate random data\n",
    "m = 100\n",
    "x = -2 + 4*np.random.random(m)\n",
    "y = 1 + 2*(x-1) - 3*np.maximum(x+1,0) + 4*np.maximum(x-1,0) + 0.3*np.random.normal(size = m)\n",
    "#least sqaure fitting\n",
    "theta = solve_via_backsub(np.column_stack((np.ones(m),x,np.maximum(x+1,0),np.maximum(x-1,0))),y)\n",
    "#plot result\n",
    "t = np.linspace(-2.1,2.1,num = 100)  # or t = np.array([-2.1, -1, 1, 2.1])\n",
    "yhat = theta[0] + theta[1]*t + theta[2]*np.maximum(t+1,0) + theta[3]*np.maximum(t-1,0)\n",
    "plt.scatter(x,y)\n",
    "plt.plot(t,yhat,'r')\n",
    "plt.show()"
   ]
  },
  {
   "cell_type": "code",
   "execution_count": 18,
   "id": "2255b5af",
   "metadata": {},
   "outputs": [
    {
     "name": "stdout",
     "output_type": "stream",
     "text": [
      "3.0505592856293298\n",
      "1.1602431638206123\n",
      "1.733894140046875\n",
      "1.0129632612687511\n"
     ]
    },
    {
     "data": {
      "image/png": "[encoded data removed]",
      "text/plain": [
       "<Figure size 432x288 with 1 Axes>"
      ]
     },
     "metadata": {
      "needs_background": "light"
     },
     "output_type": "display_data"
    }
   ],
   "source": [
    "def temperature_data(): \n",
    "    \"\"\"\n",
    "    temperature_date()\n",
    "    Returns a vector of length 774 = 31*24 with the hourly temperature at LAX \n",
    "    in May 2016 (discussed on pages 259 and 266).\n",
    "    \"\"\"\n",
    "    # Hourly temperature at LAX in May 2016 in a vector of length 31*24 = 744.  Measurements are hourly at 12:53 AM to 11:53PM.\n",
    "    import numpy as np\n",
    "    t = np.array([\n",
    "    59.0, 57.9, 57.0, 57.0, 55.9, 57.0, 57.0, 60.1, 62.1, 64.0, 64.9, 66.0, 69.1, 68.0, 69.1, 66.0, 64.0, 62.1, 60.1, 59.0, 57.9, 57.9, 59.0, 57.9,  # May 1\n",
    "    57.9, 57.9, 57.0, 57.0, 57.0, 57.9, 57.9, 59.0, 61.0, 62.1, 64.0, 64.0, 64.0, 64.9, 64.9, 64.9, 64.0, 62.1, 61.0, 59.0, 59.0, 59.0, 59.0, 59.0,  \n",
    "    59.0, 59.0, 57.9, 57.9, 57.9, 57.0, 59.0, 62.1, 64.0, 64.9, 66.0, 66.9, 66.9, 66.0, 68.0, 66.9, 64.0, 61.0, 60.1, 59.0, 57.9, 57.0, 57.9, 57.9,\n",
    "    57.0, 57.0, 57.0, 57.0, 57.9, 57.9, 57.9, 59.0, 59.0, 57.9, 59.0, 62.1, 64.0, 64.0, 64.0, 64.0, 63.0, 61.0, 61.0, 60.1, 60.1, 60.1, 60.1, 60.1,\n",
    "    60.1, 59.0, 59.0, 59.0, 60.1, 60.1, 60.1, 60.1, 61.0, 63.0, 63.0, 63.0, 64.9, 66.0, 68.0, 66.9, 66.9, 64.0, 63.0, 62.1, 62.1, 60.1, 60.1, 59.0,\n",
    "    57.9, 57.9, 59.0, 59.0, 57.9, 57.9, 59.0, 60.1, 60.1, 61.0, 63.0, 64.9, 64.9, 66.0, 66.9, 66.9, 64.9, 64.0, 62.1, 60.1, 60.1, 60.1, 60.1, 59.0,\n",
    "    59.0, 60.1, 59.0, 59.0, 59.0, 59.0, 57.0, 57.9, 59.0, 60.1, 59.0, 64.0, 66.0, 66.0, 66.0, 64.9, 64.9, 64.0, 62.1, 61.0, 61.0, 60.1, 60.1, 60.1,\n",
    "    60.1, 59.0, 59.0, 57.9, 57.9, 57.9, 57.9, 59.0, 61.0, 63.0, 64.0, 64.9, 66.0, 66.0, 64.9, 64.9, 64.0, 63.0, 62.1, 61.0, 61.0, 60.1, 60.1, 60.1,\n",
    "    59.0, 60.1, 59.0, 59.0, 57.9, 57.9, 59.0, 60.1, 61.0, 61.0, 62.1, 63.0, 64.0, 64.9, 64.0, 64.9, 64.0, 63.0, 61.0, 60.1, 59.0, 59.0, 59.0, 59.0,\n",
    "    59.0, 59.0, 57.9, 57.9, 59.0, 59.0, 60.1, 60.1, 61.0, 62.1, 63.0, 64.0, 64.9, 66.9, 66.9, 66.9, 64.9, 63.0, 62.1, 61.0, 60.1, 60.1, 60.1, 60.1,\n",
    "    60.1, 60.1, 59.0, 60.1, 59.0, 60.1, 60.1, 61.0, 61.0, 62.1, 63.0, 64.9, 66.9, 66.9, 66.0, 64.9, 63.0, 62.1, 61.0, 61.0, 60.1, 59.0, 59.0, 57.9,\n",
    "    57.9, 57.9, 57.0, 57.9, 57.9, 57.9, 57.9, 59.0, 61.0, 64.0, 64.0, 64.0, 64.9, 64.9, 64.9, 64.0, 62.1, 61.0, 61.0, 60.1, 60.1, 60.1, 60.1, 60.1,\n",
    "    59.0, 59.0, 60.1, 60.1, 60.1, 60.1, 60.1, 61.0, 62.1, 62.1, 63.0, 64.0, 69.1, 68.0, 68.0, 66.0, 64.9, 63.0, 63.0, 62.1, 62.1, 62.1, 62.1, 61.0,\n",
    "    63.0, 62.1, 61.0, 61.0, 61.0, 61.0, 61.0, 62.1, 62.1, 64.9, 64.9, 64.9, 66.9, 66.9, 66.0, 66.0, 64.9, 64.0, 62.1, 61.0, 61.0, 61.0, 61.0, 62.1,\n",
    "    63.0, 62.1, 62.1, 62.1, 62.1, 62.1, 62.1, 62.1, 63.0, 64.0, 66.0, 68.0, 70.0, 69.1, 68.0, 66.9, 66.9, 64.9, 64.0, 62.1, 61.0, 61.0, 61.0, 61.0,\n",
    "    61.0, 62.1, 62.1, 62.1, 61.0, 62.1, 62.1, 63.0, 63.0, 63.0, 64.9, 66.9, 68.0, 68.0, 68.0, 68.0, 66.9, 64.9, 64.0, 62.1, 63.0, 62.1, 62.1, 62.1,\n",
    "    62.1, 61.0, 61.0, 61.0, 61.0, 61.0, 62.1, 62.1, 64.0, 64.0, 66.0, 66.9, 66.9, 68.0, 68.0, 66.9, 66.0, 64.9, 63.0, 62.1, 62.1, 62.1, 61.0, 61.0,\n",
    "    62.1, 61.0, 61.0, 61.0, 61.0, 61.0, 61.0, 61.0, 61.0, 62.1, 62.1, 63.0, 63.0, 62.1, 63.0, 62.1, 62.1, 61.0, 61.0, 61.0, 61.0, 61.0, 61.0, 61.0,\n",
    "    61.0, 62.1, 61.0, 61.0, 61.0, 61.0, 61.0, 62.1, 62.1, 63.0, 64.0, 64.9, 64.9, 66.9, 66.9, 66.9, 64.9, 63.0, 62.1, 61.0, 61.0, 61.0, 61.0, 60.1,\n",
    "    60.1, 60.1, 60.1, 59.0, 57.9, 59.0, 59.0, 61.0, 62.1, 66.0, 64.0, 64.0, 64.0, 64.9, 64.9, 62.1, 63.0, 61.0, 61.0, 59.0, 59.0, 57.9, 57.9, 57.9,\n",
    "    57.0, 57.0, 55.9, 57.0, 57.0, 55.9, 57.0, 60.1, 62.1, 62.1, 64.0, 64.0, 64.9, 64.0, 64.0, 63.0, 63.0, 62.1, 61.0, 60.1, 60.1, 60.1, 59.0, 59.0,\n",
    "    57.9, 57.9, 57.0, 54.0, 55.0, 54.0, 57.0, 59.0, 61.0, 64.9, 66.0, 66.9, 66.9, 66.0, 66.0, 66.0, 64.9, 64.0, 64.0, 61.0, 61.0, 60.1, 60.1, 59.0,\n",
    "    57.9, 57.0, 57.9, 57.0, 55.9, 57.0, 57.9, 61.0, 63.0, 64.0, 66.9, 69.1, 70.0, 70.0, 70.0, 66.0, 66.0, 63.0, 62.1, 60.1, 59.0, 59.0, 57.9, 57.9,\n",
    "    57.9, 57.9, 57.9, 57.9, 57.9, 57.9, 59.0, 62.1, 62.1, 63.0, 64.0, 66.0, 66.0, 64.9, 64.9, 64.9, 64.9, 63.0, 61.0, 61.0, 60.1, 60.1, 60.1, 59.0,\n",
    "    57.9, 57.9, 57.9, 57.0, 57.0, 57.0, 57.9, 60.1, 61.0, 62.1, 63.0, 64.0, 64.0, 64.0, 64.0, 66.0, 64.9, 64.0, 62.1, 60.1, 60.1, 59.0, 57.9, 57.9,\n",
    "    57.9, 57.9, 57.9, 55.9, 55.9, 57.0, 59.0, 61.0, 63.0, 64.0, 66.0, 66.0, 68.0, 68.0, 66.9, 64.9, 64.0, 63.0, 63.0, 61.0, 60.1, 60.1, 60.1, 60.1,\n",
    "    59.0, 59.0, 59.0, 59.0, 57.9, 57.9, 60.1, 61.0, 63.0, 62.1, 64.9, 66.0, 66.9, 68.0, 68.0, 66.9, 66.0, 64.0, 61.0, 61.0, 60.1, 60.1, 60.1, 60.1,\n",
    "    60.1, 61.0, 61.0, 60.1, 60.1, 60.1, 60.1, 61.0, 62.1, 63.0, 63.0, 64.0, 66.0, 66.9, 66.0, 64.0, 63.0, 62.1, 61.0, 60.1, 59.0, 59.0, 59.0, 60.1,\n",
    "    60.1, 60.1, 60.1, 60.1, 60.1, 59.0, 60.1, 61.0, 62.1, 64.9, 64.9, 66.0, 66.9, 66.9, 66.0, 66.0, 66.0, 64.0, 62.1, 61.0, 60.1, 60.1, 60.1, 59.0,\n",
    "    59.0, 59.0, 57.9, 57.9, 59.0, 60.1, 60.1, 61.0, 63.0, 63.0, 64.0, 64.9, 66.9, 68.0, 66.0, 66.0, 64.9, 63.0, 62.1, 61.0, 60.1, 61.0, 60.1, 59.0,\n",
    "    59.0, 59.0, 59.0, 59.0, 60.1, 60.1, 61.0, 61.0, 62.1, 63.0, 63.0, 64.9, 68.0, 68.0, 68.0, 66.0, 64.9, 63.0, 62.1, 62.1, 62.1, 62.1, 62.1, 63.0 ]);\n",
    "\n",
    "    return t\n",
    "\n",
    "#6) Auto-regression time series model\n",
    "#import time series of temperatures t\n",
    "import numpy as np\n",
    "t = temperature_data()\n",
    "N = len(t)\n",
    "#standard deviation\n",
    "print(np.std(t))\n",
    "#RMS error for simple predictor zhat_{t+1} = z_t\n",
    "print((sum((t[1:] - t[:-1])**2)/(N-1))**0.5)\n",
    "#RMS error for simple prediction zhat_{t+1} = z_{t-23}\n",
    "print((sum((t[24:] - t[:-24])**2)/(N - 24))**0.5)\n",
    "#least squares fit of AR predictior with memory 8\n",
    "M = 8\n",
    "y = t[M:]\n",
    "A = np.column_stack([t[i:i+N-M] for i in reversed(range(M))]) #构建了前8项决定后一项的形式\n",
    "theta = solve_via_backsub(A,y)\n",
    "ypred = A @ theta\n",
    "#RMS error of LS AR fit\n",
    "print((sum((ypred - y)**2)/len(y))**0.5)\n",
    "# plot first five day\n",
    "import matplotlib.pyplot as plt\n",
    "plt.ion()\n",
    "Nplot = 24*5\n",
    "plt.scatter(np.arange(Nplot),t[0:Nplot])\n",
    "plt.plot(np.arange(M,Nplot),ypred[:Nplot-M],'r') #注意此处ypred的取值范围:Nplot-M\n",
    "plt.show()\n"
   ]
  },
  {
   "cell_type": "code",
   "execution_count": 26,
   "id": "798af717",
   "metadata": {
    "scrolled": false
   },
   "outputs": [
    {
     "data": {
      "image/png": "[encoded data removed]",
      "text/plain": [
       "<Figure size 432x288 with 1 Axes>"
      ]
     },
     "metadata": {
      "needs_background": "light"
     },
     "output_type": "display_data"
    }
   ],
   "source": [
    "#13.2 Validation\n",
    "#1) polynomial approximation\n",
    "m = 100\n",
    "# generate the test set\n",
    "t = -1 + 2*np.random.random(m)\n",
    "y = np.power(t,3) - t + 0.4 / (1 + 25*np.power(t,2)) + 0.10*np.random.normal(size = m)\n",
    "t_test = -1 + 2*np.random.random(m)\n",
    "y_test = np.power(t_test,3) - t_test + 0.4/(1 + np.power(25*t_test,2)) + 0.10*np.random.normal(size = m)\n",
    "error_train = np.zeros(21)\n",
    "error_test = np.zeros(21)\n",
    "for p in range(1,22):\n",
    "    A = vandermonde(t,p)\n",
    "    theta = solve_via_backsub(A,y)\n",
    "    error_train[p-1] = np.linalg.norm(A @ theta - y)/np.linalg.norm(y)                        \n",
    "    error_test[p-1] = np.linalg.norm(vandermonde(t_test,p) @ theta - y_test)/np.linalg.norm(y_test)\n",
    "                            \n",
    "import matplotlib.pyplot as plt\n",
    "plt.ion()\n",
    "plt.plot(np.arange(21),error_train,'b-o',label='Trian')\n",
    "plt.plot(np.arange(21),error_test,'r-o',label='Test')\n",
    "plt.xlabel('Degree')\n",
    "plt.ylabel('Relative RMS error')\n",
    "plt.show()"
   ]
  },
  {
   "cell_type": "code",
   "execution_count": 27,
   "id": "1a3c87c3",
   "metadata": {},
   "outputs": [
    {
     "ename": "NameError",
     "evalue": "name 'house_sales_data' is not defined",
     "output_type": "error",
     "traceback": [
      "\u001b[1;31m---------------------------------------------------------------------------\u001b[0m",
      "\u001b[1;31mNameError\u001b[0m                                 Traceback (most recent call last)",
      "Input \u001b[1;32mIn [27]\u001b[0m, in \u001b[0;36m<cell line: 2>\u001b[1;34m()\u001b[0m\n\u001b[0;32m      1\u001b[0m \u001b[38;5;66;03m#2) house price regression model\u001b[39;00m\n\u001b[1;32m----> 2\u001b[0m D \u001b[38;5;241m=\u001b[39m \u001b[43mhouse_sales_data\u001b[49m()\n\u001b[0;32m      3\u001b[0m price \u001b[38;5;241m=\u001b[39m D[\u001b[38;5;124m'\u001b[39m\u001b[38;5;124mprice\u001b[39m\u001b[38;5;124m'\u001b[39m]\n\u001b[0;32m      4\u001b[0m area \u001b[38;5;241m=\u001b[39m D[\u001b[38;5;124m'\u001b[39m\u001b[38;5;124marea\u001b[39m\u001b[38;5;124m'\u001b[39m]\n",
      "\u001b[1;31mNameError\u001b[0m: name 'house_sales_data' is not defined"
     ]
    }
   ],
   "source": [
    "#2) house price regression model: cross validation\n",
    "D = house_sales_data()\n",
    "price = D['price']\n",
    "area = D['area']\n",
    "beds = D['beds']\n",
    "N = len(price)\n",
    "X = np.column_stack([np.ones(N),area,beds])\n",
    "I = np.array_split(np.random.permutation(N),5) #不均等分割,形成数组；对0到N之间的数随机排序\n",
    "nfold = np.floor(N/5) #向下取整\n",
    "coeff = np.zeros((5,3))\n",
    "rms_train = np.zeros(5)\n",
    "rms_test = np.zeros(5)\n",
    "for k in range(5):\n",
    "    Itest = I[k] #选取test集合\n",
    "    Itrain = np.concatenate((np.delete(I,k))) #对array进行拼接；将train集合的下标拼接\n",
    "    Ntrain = len(Itrain)\n",
    "    Ntest = len(Itest)\n",
    "    theta = solve_via_backsub(X[Itrain],price[Itrain])\n",
    "    coeff[k,:] = theta\n",
    "    rms_train[k] = (sum((X[Itrain]@theta - price[Itrain])**2)/N)**0.5\n",
    "    rms_test[k] = (sum((X[Itest]@theta - price[Itest])**2)/N)**0.5\n",
    "print(coeff) #the three parameters for five folds\n",
    "#RMS errors for five folds\n",
    "print(np.column_stack((rms_train,rms_test)))"
   ]
  },
  {
   "cell_type": "code",
   "execution_count": 40,
   "id": "61a6dc1b",
   "metadata": {},
   "outputs": [
    {
     "name": "stdout",
     "output_type": "stream",
     "text": [
      "1.0253577259862336\n",
      "0.9755113632200652\n"
     ]
    },
    {
     "data": {
      "image/png": "[encoded data removed]",
      "text/plain": [
       "<Figure size 432x288 with 1 Axes>"
      ]
     },
     "metadata": {
      "needs_background": "light"
     },
     "output_type": "display_data"
    }
   ],
   "source": [
    "#3)validation time series predictions\n",
    "t = temperature_data()\n",
    "N = len(t)\n",
    "# use first 24 days as training set\n",
    "Ntrain = 24*24\n",
    "t_train = t[:Ntrain]\n",
    "Ntest = N - Ntrain\n",
    "t_test = t[Ntrain:]\n",
    "# Least squares fit of AR predictor with memory 8\n",
    "M = 8\n",
    "m = Ntrain - M\n",
    "y = t_train[M:M+m]\n",
    "A = np.column_stack([t[i:i+m] for i in range(M)])\n",
    "coeff = solve_via_backsub(A,y)\n",
    "rms_train = (sum((A@coeff - y)**2)/len(y))**0.5\n",
    "print(rms_train)\n",
    "ytest = t_test[M:]\n",
    "mtest = len(ytest) \n",
    "ypred = np.column_stack([t_test[i:i+mtest] for i in range(M)])@coeff\n",
    "rms_test = (sum((ypred-ytest)**2)/len(ytest))**0.5\n",
    "print(rms_test)\n",
    "import matplotlib.pyplot as plt\n",
    "plt.ion()\n",
    "Nplot = 24*5\n",
    "plt.scatter(np.arange(Nplot),t_test[np.arange(Nplot)])\n",
    "plt.plot(np.arange(M,Nplot),ypred[np.arange(Nplot-M)],'r')\n",
    "plt.show()"
   ]
  },
  {
   "cell_type": "code",
   "execution_count": null,
   "id": "c58b2f8d",
   "metadata": {},
   "outputs": [],
   "source": [
    "#13.3 feature engineering\n",
    "D = house_sales_data()\n",
    "price = D['price']\n",
    "area = D['area']\n",
    "beds = D['beds']\n",
    "condo = D['condo']\n",
    "location = D['location']\n",
    "N = len(price)\n",
    "X = np.column_stack([np.ones(N),area,np.maximum(area-1.5,0),beds,condo, location==2, location==3, location==4])\n",
    "theta = solve_via_backsub(X,price)\n",
    "print(theta)\n",
    "#RMS prediction error\n",
    "print(sum((A@theta-price)**2)/N)**0.5\n",
    "\n",
    "import matplotlib.pyplot as plt\n",
    "plt.ion()\n",
    "plt.scatter(price,X@theta)\n",
    "plt.plot([0,800],[0,800],'r--')\n",
    "plt.ylim(0,800)\n",
    "plt.xlim(0,800)\n",
    "plt.xlabel('Actual price')\n",
    "plt.ylabel('Predicted price')\n",
    "plt.show()\n",
    "\n",
    "#cross-validation\n",
    "I = np.array_split(np.random.permutaion(N),5)\n",
    "nfold = np.floor(N/5)\n",
    "#store 8 coefficients for 5 models\n",
    "models = np.zeros((5,8))\n",
    "rms_train = np.zeros(5)\n",
    "rms_test = np.zeros(5)\n",
    "for k in range(5):\n",
    "    Itest = I[k]\n",
    "    Itrain = np.concatenate((np.delete(I,k)))\n",
    "    Ntrain = len(Itrain)\n",
    "    Ntest = len(Itest)\n",
    "    theta = solve_via_backsub(X[Itrain],price[Itrain])\n",
    "    models[k,:] = theta\n",
    "    rms_train[k] = (sum((X[Itrain]@theta-price[Itrain])**2)/Ntrain)**0.5\n",
    "    rms_test[k] = (sum((X[Itest]@theta-price[Itest])**2)/Ntest)**0.5\n",
    "print(model)"
   ]
  },
  {
   "cell_type": "code",
   "execution_count": 5,
   "id": "ce3fb5c0",
   "metadata": {},
   "outputs": [
    {
     "name": "stdout",
     "output_type": "stream",
     "text": [
      "[3.12559263 0.15401818]\n",
      "0.20307668716659014\n",
      "inf\n"
     ]
    },
    {
     "name": "stderr",
     "output_type": "stream",
     "text": [
      "C:\\Users\\15829\\AppData\\Local\\Temp\\ipykernel_9796\\988974398.py:10: RuntimeWarning: overflow encountered in power\n",
      "  print(np.power(10,np.array([1,2015])@theta))\n"
     ]
    },
    {
     "data": {
      "image/png": "[encoded data removed]",
      "text/plain": [
       "<Figure size 432x288 with 1 Axes>"
      ]
     },
     "metadata": {
      "needs_background": "light"
     },
     "output_type": "display_data"
    }
   ],
   "source": [
    "#exercise13\n",
    "import numpy as np\n",
    "t = np.array([1971,1972,1974,1978,1982,1985,1989,1993,1997,1999,2000,2002,2003])\n",
    "b = np.array(np.log10([2250,2500,5000,29000,120000,275000,1180000,3100000,7500000,24000000,42000000,220000000,410000000]))\n",
    "A = np.column_stack((np.ones(13),t*np.ones(13)-1970*np.ones(13)))\n",
    "theta = solve_via_backsub(A,b)\n",
    "print(theta)\n",
    "rms_error = (sum((A@theta-b)**2)/13)**0.5\n",
    "print(rms_error)\n",
    "print(np.power(10,np.array([1,2015])@theta))\n",
    "\n",
    "import matplotlib.pyplot as plt\n",
    "plt.ion()\n",
    "plt.scatter(t,b)\n",
    "plt.plot(t,A @ theta)\n",
    "#plt.yticks(np.arange(100,1e+9,9))\n",
    "plt.xlim(1970,2005)\n",
    "plt.xlabel(\"year\")\n",
    "plt.ylabel(\"transistors\")\n",
    "plt.show()"
   ]
  },
  {
   "cell_type": "code",
   "execution_count": 13,
   "id": "34b9f6a6",
   "metadata": {},
   "outputs": [
    {
     "data": {
      "image/png": "[encoded data removed]",
      "text/plain": [
       "<Figure size 432x288 with 9 Axes>"
      ]
     },
     "metadata": {
      "needs_background": "light"
     },
     "output_type": "display_data"
    },
    {
     "data": {
      "image/png": "[encoded data removed]",
      "text/plain": [
       "<Figure size 432x288 with 1 Axes>"
      ]
     },
     "metadata": {
      "needs_background": "light"
     },
     "output_type": "display_data"
    }
   ],
   "source": [
    "#excercise 13.17\n",
    "import numpy as np\n",
    "\n",
    "# vandermonde matrix\n",
    "def vandermonde(t,n):\n",
    "    m = len(t)\n",
    "    V = np.zeros((m,n))\n",
    "    for i in range(m):\n",
    "        for j in range(n):\n",
    "            V[i,j] = t[i]**(j)\n",
    "    return V\n",
    "\n",
    "x=np.arange(-1,1.1,0.2)\n",
    "x_hat = np.linspace(-1.1,1.1,num = 100)\n",
    "theta=[[] for i in range(9)]\n",
    "y=np.array((1+x)/(1+5*x**2))\n",
    "#A=np.column_stack((np.ones(11),x,x**2,x**3,x**4,x**5,x**6,x**7,x**8))\n",
    "#A_hat=np.column_stack((np.ones(110),x_hat,x_hat**2,x_hat**3,x_hat**4,x_hat**5,x_hat**6,x_hat**7,x_hat**8))\n",
    "#theta=solve_via_backsub(A,y)\n",
    "#以上标注代码太复杂啦！！\n",
    "\n",
    "polyfit = lambda t,y,p: solve_via_backsub(vandermonde(t,p),y)\n",
    "for i in range(1,10):\n",
    "    theta[i-1]=polyfit(x,y,i)\n",
    "\n",
    "import matplotlib.pyplot as plt\n",
    "polyeval = lambda theta,x:vandermonde(x,len(theta)) @ theta #此处x的维数不同\n",
    "fig = plt.figure()\n",
    "plt.ylim(-0.2,1.2)\n",
    "\n",
    "for i in range(1,10):\n",
    "    plt.subplot(3,3,i)  #生成两行两列的图表，这是第一个\n",
    "    plt.scatter(x,y)\n",
    "    plt.plot(x_hat,np.array((1+x_hat)/(1+5*x_hat**2))) #the true function\n",
    "    plt.plot(x_hat, polyeval(theta[i-1], x_hat),'r') # the fitting polynomials\n",
    "plt.show()\n",
    "\n",
    "u=np.linspace(-1.1,1.1,num=10)\n",
    "v=(1+u)/(1+5*u**2)\n",
    "error_train=np.zeros(9)\n",
    "error_test=np.zeros(9)\n",
    "for p in range(1,10):\n",
    "    A = vandermonde(x,p)\n",
    "    error_train[p-1] = np.linalg.norm(A @ theta[p-1] - y)/n**0.5                      \n",
    "    error_test[p-1] = np.linalg.norm(vandermonde(u,p) @ theta[p-1] - v)/n**0.5\n",
    "\n",
    "plt.ion()\n",
    "plt.plot(np.arange(9),error_train,'b-o')\n",
    "plt.plot(np.arange(9),error_test,'r-s')\n",
    "plt.xlabel('Degree')\n",
    "plt.ylabel('RMS error')\n",
    "plt.show()"
   ]
  },
  {
   "cell_type": "code",
   "execution_count": 14,
   "id": "fee29c7b",
   "metadata": {},
   "outputs": [
    {
     "name": "stdout",
     "output_type": "stream",
     "text": [
      "[[16 30]\n",
      " [33 21]]\n",
      "0.63\n",
      "[[21 30]\n",
      " [33 16]]\n"
     ]
    }
   ],
   "source": [
    "#14 least square classification\n",
    "#14.1 classification\n",
    "\n",
    "#1)confusion matrix\n",
    "## Count errors and correct predictions\n",
    "import numpy as np\n",
    "Ntp = lambda y,yhat: sum((y == True)&(yhat == True))\n",
    "Nfn = lambda y,yhat: sum((y == True)&(yhat == False))\n",
    "Nfp = lambda y,yhat: sum((y == False)&(yhat == True))\n",
    "Ntn = lambda y,yhat: sum((y == False)&(yhat == False))\n",
    "error_rate = lambda y,yhat:(Nfn(y,yhat)+Nfp(y,yhat))/len(y)\n",
    "confusion_matrix = lambda y,yhat:np.block([[Ntp(y,yhat),Nfp(y,yhat)],\n",
    "                                           [Nfn(y,yhat),Ntn(y,yhat)]])\n",
    "y = np.random.randint(2,size = 100)\n",
    "yhat = np.random.randint(2,size = 100)\n",
    "print(confusion_matrix(y,yhat))\n",
    "print(error_rate(y,yhat))\n",
    "\n",
    "# use the function (it is reversed relative)\n",
    "from sklearn.metrics import confusion_matrix\n",
    "print(confusion_matrix(y,yhat))"
   ]
  },
  {
   "cell_type": "code",
   "execution_count": 15,
   "id": "24cf438f",
   "metadata": {},
   "outputs": [
    {
     "ename": "NameError",
     "evalue": "name 'solve_via_bscksub' is not defined",
     "output_type": "error",
     "traceback": [
      "\u001b[1;31m---------------------------------------------------------------------------\u001b[0m",
      "\u001b[1;31mNameError\u001b[0m                                 Traceback (most recent call last)",
      "Input \u001b[1;32mIn [15]\u001b[0m, in \u001b[0;36m<cell line: 14>\u001b[1;34m()\u001b[0m\n\u001b[0;32m     12\u001b[0m y \u001b[38;5;241m=\u001b[39m np\u001b[38;5;241m.\u001b[39mconcatenate([np\u001b[38;5;241m.\u001b[39mzeros(\u001b[38;5;241m100\u001b[39m),np\u001b[38;5;241m.\u001b[39mones(\u001b[38;5;241m50\u001b[39m)])\n\u001b[0;32m     13\u001b[0m A \u001b[38;5;241m=\u001b[39m np\u001b[38;5;241m.\u001b[39mcolumn_stack([np\u001b[38;5;241m.\u001b[39mones(\u001b[38;5;241m150\u001b[39m),iris])\n\u001b[1;32m---> 14\u001b[0m theta \u001b[38;5;241m=\u001b[39m \u001b[43msolve_via_bscksub\u001b[49m(A,\u001b[38;5;241m2\u001b[39m\u001b[38;5;241m*\u001b[39my\u001b[38;5;241m-\u001b[39m\u001b[38;5;241m1\u001b[39m)\n\u001b[0;32m     15\u001b[0m \u001b[38;5;28mprint\u001b[39m(theta)\n\u001b[0;32m     16\u001b[0m yhat \u001b[38;5;241m=\u001b[39m A \u001b[38;5;241m@\u001b[39m theta \u001b[38;5;241m>\u001b[39m\u001b[38;5;241m0\u001b[39m  \u001b[38;5;66;03m#(if true then entry=1;else entry=-1)\u001b[39;00m\n",
      "\u001b[1;31mNameError\u001b[0m: name 'solve_via_bscksub' is not defined"
     ]
    }
   ],
   "source": [
    "#14.2 least square classifier\n",
    "# regression model\n",
    "ftilde = lambda x:x @ beta + v\n",
    "#regression classifier\n",
    "fhat = lambda x:ftilde(x)>0  #(if true then x=1;else x=-1)\n",
    "\n",
    "#1)Iris flower classification (distinguish virginica from two other classes)\n",
    "D = iris_data()\n",
    "# Create 150 by 4 data matrix\n",
    "iris = np.vstack([D['setosa'], D['versicolor'], D['virginica']])\n",
    "# y[k] is true (1) if virginica, false (-1) otherwise\n",
    "y = np.concatenate([np.zeros(100),np.ones(50)])\n",
    "A = np.column_stack([np.ones(150),iris])\n",
    "theta = solve_via_backsub(A,2*y-1)\n",
    "print(theta)\n",
    "yhat = A @ theta >0  #(if true then entry=1;else entry=-1)\n",
    "C = confusion_matrix(y,yhat)\n",
    "print(C)\n",
    "print(error_rate(y,yhat))\n",
    "print(np.average(y!=yhat)) #that is error_rate"
   ]
  },
  {
   "cell_type": "code",
   "execution_count": 3,
   "id": "32853420",
   "metadata": {},
   "outputs": [
    {
     "name": "stdout",
     "output_type": "stream",
     "text": [
      "[[10.  4.  5. 11.]\n",
      " [ 4.  9.  5.  7.]\n",
      " [ 4.  6.  5.  4.]\n",
      " [ 9.  6.  5.  6.]]\n",
      "0.7 0.7\n",
      "[2, 0, 0, 4]\n",
      "[[0. 0. 1. 0.]\n",
      " [0. 0. 1. 0.]\n",
      " [1. 0. 0. 0.]\n",
      " [0. 1. 0. 0.]\n",
      " [1. 0. 0. 0.]\n",
      " [1. 0. 0. 0.]]\n",
      "[[-1. -1.  1. -1.]\n",
      " [-1. -1.  1. -1.]\n",
      " [ 1. -1. -1. -1.]\n",
      " [-1.  1. -1. -1.]\n",
      " [ 1. -1. -1. -1.]\n",
      " [ 1. -1. -1. -1.]]\n"
     ]
    }
   ],
   "source": [
    "#14.3 multi-class classifiers\n",
    "#1) Multi-class error rate and confusion matrix\n",
    "error_rate = lambda y,yhat:np.average(y!=yhat)\n",
    "def confusion_matrix(y,yhat,K):\n",
    "    C = np.zeros((K,K))\n",
    "    for i in range(K):\n",
    "        for j in range(K):\n",
    "            C[i,j] = sum((y == i+1) & (yhat == j+1))\n",
    "    return C\n",
    "#test for K = 4 on random vectors of length 100\n",
    "K = 4\n",
    "y = np.random.randint(1,K+1,size=100)\n",
    "yhat = np.random.randint(1,K+1,size=100)\n",
    "C = confusion_matrix(y,yhat,K)\n",
    "print(C)\n",
    "print(error_rate(y,yhat),1-sum(np.diag(C))/np.sum(C))\n",
    "\n",
    "#2) Least squares multi-class classifier\n",
    "row_argmax = lambda u:[np.argmax(u[i,:]) for i in range(len(u))] #function np.argmax(u) finds the index of the largest entry in the row or column vector u.\n",
    "A = np.random.normal(size = (4,5))\n",
    "print(row_argmax(A))\n",
    "fhat = lambda x,theta:row_argmax(x @ theta)\n",
    "\n",
    "#3) matrix least squares\n",
    "def one_hot(ycl,K):\n",
    "    N = len(ycl)\n",
    "    Y = np.zeros((N,K))\n",
    "    for j in range(K):\n",
    "        Y[np.where(ycl == j),j] = 1\n",
    "    return Y\n",
    "K = 4\n",
    "ycl = np.random.randint(K,size = 6)\n",
    "Y = one_hot(ycl,K)\n",
    "print(Y)\n",
    "print(2*Y - 1)\n",
    "\n",
    "#using the function we have defined, the matrix least sqaures multi-class classifier can be computed in a few lines.\n",
    "def ls_multiclass(x,ycl,K):\n",
    "    #n,N = x.shape #n is the number of examples, N is the number of features\n",
    "    #theta = solve_via_backsub(x, 2*one_hot(ycl,K) -1)\n",
    "    theta = np.linalg.pinv(x) @ (2*one_hot(ycl,K) -1) \n",
    "    yhat = 1 + np.array(row_argmax(x @ theta))\n",
    "    return theta,yhat"
   ]
  },
  {
   "cell_type": "code",
   "execution_count": 4,
   "id": "dcdff20f",
   "metadata": {
    "scrolled": true
   },
   "outputs": [
    {
     "name": "stdout",
     "output_type": "stream",
     "text": [
      "[[40.  0.  0.]\n",
      " [ 0. 27. 13.]\n",
      " [ 0.  4. 36.]]\n",
      "0.14166666666666666\n",
      "[[10.  0.  0.]\n",
      " [ 0.  9.  1.]\n",
      " [ 0.  1.  9.]]\n",
      "0.06666666666666667\n"
     ]
    }
   ],
   "source": [
    "def iris_data():\n",
    "    \"\"\"\n",
    "    iris_data()\n",
    "    Returns a dictionary `D` with the Iris flower data set, discussed in\n",
    "    sections 14.2.1 and 14.3.2.  The items in the dictionary are:\n",
    "    * `D[\"setosa\"]`:  a 50 x 4 matrix with 50 examples of Iris Setosa\n",
    "    * `D[\"versicolor\"]`: a 50 x 4 matrix with 50 examples of Iris Versicolor\n",
    "    * `D[\"virginica\"]`: a 50 x 4 matrix with 50 examples of Iris Virginica.\n",
    "    The columns give values for four features:\n",
    "    1. sepal length in cm\n",
    "    2. sepal width in cm\n",
    "    3. petal length in cm\n",
    "    4. petal width in cm.\n",
    "    \"\"\"\n",
    "    # 50 examples of Iris Setosa\n",
    "    setosa = [ \n",
    "    [5.1, 3.5, 1.4, 0.2], \n",
    "    [4.9, 3.0, 1.4, 0.2],\n",
    "    [4.7, 3.2, 1.3, 0.2], \n",
    "    [4.6, 3.1, 1.5, 0.2], \n",
    "    [5.0, 3.6, 1.4, 0.2], \n",
    "    [5.4, 3.9, 1.7, 0.4], \n",
    "    [4.6, 3.4, 1.4, 0.3], \n",
    "    [5.0, 3.4, 1.5, 0.2],\n",
    "    [4.4, 2.9, 1.4, 0.2], \n",
    "    [4.9, 3.1, 1.5, 0.1], \n",
    "    [5.4, 3.7, 1.5, 0.2], \n",
    "    [4.8, 3.4, 1.6, 0.2], \n",
    "    [4.8, 3.0, 1.4, 0.1], \n",
    "    [4.3, 3.0, 1.1, 0.1], \n",
    "    [5.8, 4.0, 1.2, 0.2], \n",
    "    [5.7, 4.4, 1.5, 0.4], \n",
    "    [5.4, 3.9, 1.3, 0.4], \n",
    "    [5.1, 3.5, 1.4, 0.3],\n",
    "    [5.7, 3.8, 1.7, 0.3], \n",
    "    [5.1, 3.8, 1.5, 0.3],\n",
    "    [5.4, 3.4, 1.7, 0.2], \n",
    "    [5.1, 3.7, 1.5, 0.4], \n",
    "    [4.6, 3.6, 1.0, 0.2], \n",
    "    [5.1, 3.3, 1.7, 0.5], \n",
    "    [4.8, 3.4, 1.9, 0.2], \n",
    "    [5.0, 3.0, 1.6, 0.2], \n",
    "    [5.0, 3.4, 1.6, 0.4], \n",
    "    [5.2, 3.5, 1.5, 0.2], \n",
    "    [5.2, 3.4, 1.4, 0.2], \n",
    "    [4.7, 3.2, 1.6, 0.2], \n",
    "    [4.8, 3.1, 1.6, 0.2], \n",
    "    [5.4, 3.4, 1.5, 0.4], \n",
    "    [5.2, 4.1, 1.5, 0.1], \n",
    "    [5.5, 4.2, 1.4, 0.2], \n",
    "    [4.9, 3.1, 1.5, 0.2],  \n",
    "    [5.0, 3.2, 1.2, 0.2], \n",
    "    [5.5, 3.5, 1.3, 0.2], \n",
    "    [4.9, 3.6, 1.4, 0.1], \n",
    "    [4.4, 3.0, 1.3, 0.2], \n",
    "    [5.1, 3.4, 1.5, 0.2], \n",
    "    [5.0, 3.5, 1.3, 0.3], \n",
    "    [4.5, 2.3, 1.3, 0.3], \n",
    "    [4.4, 3.2, 1.3, 0.2], \n",
    "    [5.0, 3.5, 1.6, 0.6], \n",
    "    [5.1, 3.8, 1.9, 0.4], \n",
    "    [4.8, 3.0, 1.4, 0.3], \n",
    "    [5.1, 3.8, 1.6, 0.2], \n",
    "    [4.6, 3.2, 1.4, 0.2], \n",
    "    [5.3, 3.7, 1.5, 0.2], \n",
    "    [5.0, 3.3, 1.4, 0.2]]\n",
    "    # 50 examples of Iris Versicolor\n",
    "    versicolor = [ \n",
    "    [7.0, 3.2, 4.7, 1.4], \n",
    "    [6.4, 3.2, 4.5, 1.5], \n",
    "    [6.9, 3.1, 4.9, 1.5], \n",
    "    [5.5, 2.3, 4.0, 1.3], \n",
    "    [6.5, 2.8, 4.6, 1.5], \n",
    "    [5.7, 2.8, 4.5, 1.3], \n",
    "    [6.3, 3.3, 4.7, 1.6], \n",
    "    [4.9, 2.4, 3.3, 1.0], \n",
    "    [6.6, 2.9, 4.6, 1.3], \n",
    "    [5.2, 2.7, 3.9, 1.4], \n",
    "    [5.0, 2.0, 3.5, 1.0], \n",
    "    [5.9, 3.0, 4.2, 1.5], \n",
    "    [6.0, 2.2, 4.0, 1.0], \n",
    "    [6.1, 2.9, 4.7, 1.4], \n",
    "    [5.6, 2.9, 3.6, 1.3], \n",
    "    [6.7, 3.1, 4.4, 1.4], \n",
    "    [5.6, 3.0, 4.5, 1.5], \n",
    "    [5.8, 2.7, 4.1, 1.0], \n",
    "    [6.2, 2.2, 4.5, 1.5], \n",
    "    [5.6, 2.5, 3.9, 1.1], \n",
    "    [5.9, 3.2, 4.8, 1.8], \n",
    "    [6.1, 2.8, 4.0, 1.3], \n",
    "    [6.3, 2.5, 4.9, 1.5], \n",
    "    [6.1, 2.8, 4.7, 1.2], \n",
    "    [6.4, 2.9, 4.3, 1.3], \n",
    "    [6.6, 3.0, 4.4, 1.4], \n",
    "    [6.8, 2.8, 4.8, 1.4], \n",
    "    [6.7, 3.0, 5.0, 1.7], \n",
    "    [6.0, 2.9, 4.5, 1.5], \n",
    "    [5.7, 2.6, 3.5, 1.0], \n",
    "    [5.5, 2.4, 3.8, 1.1], \n",
    "    [5.5, 2.4, 3.7, 1.0], \n",
    "    [5.8, 2.7, 3.9, 1.2], \n",
    "    [6.0, 2.7, 5.1, 1.6], \n",
    "    [5.4, 3.0, 4.5, 1.5], \n",
    "    [6.0, 3.4, 4.5, 1.6], \n",
    "    [6.7, 3.1, 4.7, 1.5], \n",
    "    [6.3, 2.3, 4.4, 1.3], \n",
    "    [5.6, 3.0, 4.1, 1.3], \n",
    "    [5.5, 2.5, 4.0, 1.3], \n",
    "    [5.5, 2.6, 4.4, 1.2], \n",
    "    [6.1, 3.0, 4.6, 1.4], \n",
    "    [5.8, 2.6, 4.0, 1.2], \n",
    "    [5.0, 2.3, 3.3, 1.0], \n",
    "    [5.6, 2.7, 4.2, 1.3], \n",
    "    [5.7, 3.0, 4.2, 1.2], \n",
    "    [5.7, 2.9, 4.2, 1.3], \n",
    "    [6.2, 2.9, 4.3, 1.3], \n",
    "    [5.1, 2.5, 3.0, 1.1], \n",
    "    [5.7, 2.8, 4.1, 1.3]]\n",
    "    # 50 examples of Iris Virginica\n",
    "    virginica = [ \n",
    "    [6.3, 3.3, 6.0, 2.5], \n",
    "    [5.8, 2.7, 5.1, 1.9], \n",
    "    [7.1, 3.0, 5.9, 2.1], \n",
    "    [6.3, 2.9, 5.6, 1.8], \n",
    "    [6.5, 3.0, 5.8, 2.2], \n",
    "    [7.6, 3.0, 6.6, 2.1], \n",
    "    [4.9, 2.5, 4.5, 1.7], \n",
    "    [7.3, 2.9, 6.3, 1.8], \n",
    "    [6.7, 2.5, 5.8, 1.8], \n",
    "    [7.2, 3.6, 6.1, 2.5], \n",
    "    [6.5, 3.2, 5.1, 2.0], \n",
    "    [6.4, 2.7, 5.3, 1.9], \n",
    "    [6.8, 3.0, 5.5, 2.1], \n",
    "    [5.7, 2.5, 5.0, 2.0], \n",
    "    [5.8, 2.8, 5.1, 2.4], \n",
    "    [6.4, 3.2, 5.3, 2.3], \n",
    "    [6.5, 3.0, 5.5, 1.8], \n",
    "    [7.7, 3.8, 6.7, 2.2], \n",
    "    [7.7, 2.6, 6.9, 2.3], \n",
    "    [6.0, 2.2, 5.0, 1.5], \n",
    "    [6.9, 3.2, 5.7, 2.3], \n",
    "    [5.6, 2.8, 4.9, 2.0], \n",
    "    [7.7, 2.8, 6.7, 2.0], \n",
    "    [6.3, 2.7, 4.9, 1.8], \n",
    "    [6.7, 3.3, 5.7, 2.1], \n",
    "    [7.2, 3.2, 6.0, 1.8], \n",
    "    [6.2, 2.8, 4.8, 1.8], \n",
    "    [6.1, 3.0, 4.9, 1.8], \n",
    "    [6.4, 2.8, 5.6, 2.1], \n",
    "    [7.2, 3.0, 5.8, 1.6], \n",
    "    [7.4, 2.8, 6.1, 1.9], \n",
    "    [7.9, 3.8, 6.4, 2.0], \n",
    "    [6.4, 2.8, 5.6, 2.2], \n",
    "    [6.3, 2.8, 5.1, 1.5], \n",
    "    [6.1, 2.6, 5.6, 1.4], \n",
    "    [7.7, 3.0, 6.1, 2.3], \n",
    "    [6.3, 3.4, 5.6, 2.4], \n",
    "    [6.4, 3.1, 5.5, 1.8], \n",
    "    [6.0, 3.0, 4.8, 1.8], \n",
    "    [6.9, 3.1, 5.4, 2.1], \n",
    "    [6.7, 3.1, 5.6, 2.4], \n",
    "    [6.9, 3.1, 5.1, 2.3], \n",
    "    [5.8, 2.7, 5.1, 1.9], \n",
    "    [6.8, 3.2, 5.9, 2.3], \n",
    "    [6.7, 3.3, 5.7, 2.5], \n",
    "    [6.7, 3.0, 5.2, 2.3], \n",
    "    [6.3, 2.5, 5.0, 1.9], \n",
    "    [6.5, 3.0, 5.2, 2.0], \n",
    "    [6.2, 3.4, 5.4, 2.3], \n",
    "    [5.9, 3.0, 5.1, 1.8]]\n",
    "    return {\"setosa\": setosa, \"versicolor\": versicolor,\"virginica\": virginica}\n",
    "\n",
    "#4) Iris flower classification\n",
    "D = iris_data()\n",
    "setosa = np.array(D['setosa'])\n",
    "versicolor = np.array(D['versicolor'])\n",
    "virginica = np.array(D['virginica'])\n",
    "#pick three random permutations of 1,...,50\n",
    "I1 = np.random.permutation(50) #打乱\n",
    "I2 = np.random.permutation(50)\n",
    "I3 = np.random.permutation(50)\n",
    "# training set is 40 randomly picked examples per class\n",
    "xtrain = np.vstack([setosa[I1[:40],:],versicolor[I2[:40],:],virginica[I3[:40],:]])\n",
    "#add contant feature one\n",
    "xtrain = np.column_stack([np.ones(120),xtrain])\n",
    "# the true labels for train set are a sequence of 1s, 2s and 3s\n",
    "# since the examples in Xtrain are stacked in order\n",
    "ytrain = np.hstack([np.ones(40),2*np.ones(40),3*np.ones(40)])-1  #必须要-1，否则在ls_multiclass中对应位置偏移\n",
    "# test set is remaining 10 examples for each class\n",
    "xtest = np.vstack([setosa[I1[40:],:], versicolor[I2[40:],:],virginica[I3[40:],:]])\n",
    "xtest = np.column_stack([np.ones(30), xtest])\n",
    "ytest = np.hstack([np.ones(10), 2*np.ones(10), 3*np.ones(10)])\n",
    "theta,yhat = ls_multiclass(xtrain,ytrain,3)\n",
    "ctrain = confusion_matrix(ytrain+1,yhat,3)  #ytrain+1使ytrain处于1-3之间\n",
    "print(ctrain)\n",
    "\n",
    "error_train = error_rate(ytrain+1,yhat)  #ytrain+1使ytrain处于1-3之间\n",
    "print(error_train)\n",
    "\n",
    "yhat = np.array(row_argmax(xtest @ theta)) + 1\n",
    "ctest = confusion_matrix(ytest,yhat,3)\n",
    "print(ctest)\n",
    "\n",
    "error_test = error_rate(ytest,yhat)\n",
    "print(error_test)\n",
    "\n",
    "#本题的代码有误，矩阵的最小二乘解不适用函数solve_via_backsub，在矩阵规格上出现问题。但是现在有点累，过一会儿再写\n",
    "#yes!搞出来啦！我真棒！！！"
   ]
  },
  {
   "cell_type": "code",
   "execution_count": 36,
   "id": "deeb8bb4",
   "metadata": {},
   "outputs": [
    {
     "data": {
      "image/png": "[encoded data removed]",
      "text/plain": [
       "<Figure size 432x288 with 9 Axes>"
      ]
     },
     "metadata": {
      "needs_background": "light"
     },
     "output_type": "display_data"
    },
    {
     "data": {
      "image/png": "[encoded data removed]",
      "text/plain": [
       "<Figure size 432x288 with 1 Axes>"
      ]
     },
     "metadata": {
      "needs_background": "light"
     },
     "output_type": "display_data"
    },
    {
     "data": {
      "image/png": "[encoded data removed]",
      "text/plain": [
       "<Figure size 432x288 with 1 Axes>"
      ]
     },
     "metadata": {
      "needs_background": "light"
     },
     "output_type": "display_data"
    }
   ],
   "source": [
    "#exercise 14.6 \n",
    "import numpy as np\n",
    "import random\n",
    "\n",
    "# vandermonde matrix\n",
    "def vandermonde(t,n):\n",
    "    m = len(t)\n",
    "    V = np.zeros((m,n))\n",
    "    for i in range(m):\n",
    "        for j in range(n):\n",
    "            V[i,j] = t[i]**(j)\n",
    "    return V\n",
    "\n",
    "x = np.linspace(-1,1,num=200)\n",
    "y = np.array([1 if -0.5<x[i]<0.1 or 0.5<x[i] else -1 for i in range(200)])\n",
    "theta=[[] for i in range(9)]\n",
    "\n",
    "polyfit = lambda t,y,p: solve_via_backsub(vandermonde(t,p),y)\n",
    "for i in range(1,10):\n",
    "    theta[i-1]=polyfit(x,y,i)\n",
    "\n",
    "import matplotlib.pyplot as plt\n",
    "polyeval = lambda theta,x:vandermonde(x,len(theta)) @ theta #此处x的维数不同\n",
    "fig = plt.figure()\n",
    "plt.ylim(-2,2)\n",
    "\n",
    "c=random.random()\n",
    "for i in range(1,10):\n",
    "    plt.subplot(3,3,i)  \n",
    "    plt.vlines(-0.5,-2,2,linestyle = '--',colors='gray',linewidth=0.7)\n",
    "    plt.vlines(0.1,-2,2,linestyle = '--',colors='gray',linewidth=0.7)\n",
    "    plt.vlines(0.5,-2,2,linestyle = '--',colors='gray',linewidth=0.7)\n",
    "    plt.plot(x, polyeval(theta[i-1],x),'r') # the fitting polynomials\n",
    "    plt.plot(x,[1 if polyeval(theta[i-1],x)[j]>0 else -1 for j in range(200)],'b')\n",
    "plt.show()\n",
    "\n",
    "plt.plot(x,polyeval(theta[3],x),'r')\n",
    "plt.plot(x,5*(x+0.5)*(x-0.1)*(x-0.5),'b')\n",
    "plt.ylim(-1.5,1.5)\n",
    "#plt.plot(x,[1 if 5*(polyeval(theta[2],x)[j]+0.5)*(polyeval(theta[2],x)[j]-0.1)*(polyeval(theta[2],x)[j]-0.5)>0 else -1 for j in range(200)],'b')\n",
    "plt.show()\n",
    "\n",
    "error_train=np.zeros(9)\n",
    "for p in range(1,10):\n",
    "    A = vandermonde(x,p)\n",
    "    error_train[p-1] = np.linalg.norm(A @ theta[p-1] - y)/n**0.5                      \n",
    "\n",
    "plt.ion()\n",
    "plt.plot(np.arange(9),error_train,'b-o')\n",
    "plt.xlabel('Degree')\n",
    "plt.ylabel('RMS error')\n",
    "plt.show()"
   ]
  },
  {
   "cell_type": "code",
   "execution_count": 74,
   "id": "96db07e6",
   "metadata": {},
   "outputs": [
    {
     "name": "stderr",
     "output_type": "stream",
     "text": [
      "C:\\Users\\15829\\AppData\\Local\\Temp\\ipykernel_14900\\2518564991.py:7: VisibleDeprecationWarning: Creating an ndarray from ragged nested sequences (which is a list-or-tuple of lists-or-tuples-or ndarrays with different lengths or shapes) is deprecated. If you meant to do this, you must specify 'dtype=object' when creating the ndarray.\n",
      "  x_hat = np.array([[np.ones(1),x[i][0],x[i][1],x[i][0]**2,x[i][0]*x[i][1],x[i][1]**2] for i in range(200)])\n"
     ]
    },
    {
     "data": {
      "text/plain": [
       "<matplotlib.collections.PathCollection at 0x26ab59d8130>"
      ]
     },
     "execution_count": 74,
     "metadata": {},
     "output_type": "execute_result"
    },
    {
     "data": {
      "image/png": "[encoded data removed]",
      "text/plain": [
       "<Figure size 432x288 with 1 Axes>"
      ]
     },
     "metadata": {
      "needs_background": "light"
     },
     "output_type": "display_data"
    }
   ],
   "source": [
    "#exercise 14.7\n",
    "import random\n",
    "import numpy as np\n",
    "import matplotlib.pyplot as plt\n",
    "\n",
    "x = 2*np.random.random((200,2))-1\n",
    "x_hat = np.array([[np.ones(1),x[i][0],x[i][1],x[i][0]**2,x[i][0]*x[i][1],x[i][1]**2] for i in range(200)])\n",
    "y = np.array([1 if x[i][0]*x[i][1]>0 else -1 for i in range(200)])\n",
    "theta = solve_via_backsub(x_hat,y)\n",
    "\n",
    "plt.ion()\n",
    "plt.vlines(0,-1,1,linestyle = '-',colors='gray',linewidth=0.7)\n",
    "plt.hlines(0,-1,1,linestyle = '-',colors='gray',linewidth=0.7)\n",
    "x_x = np.array([x[i][0] for i in range(200)])\n",
    "x_y = np.array([x[i][1] for i in range(200)])\n",
    "plt.scatter(x_x,x_y)"
   ]
  },
  {
   "cell_type": "code",
   "execution_count": null,
   "id": "4d9bfde6",
   "metadata": {},
   "outputs": [],
   "source": []
  }
 ],
 "metadata": {
  "kernelspec": {
   "display_name": "Python 3 (ipykernel)",
   "language": "python",
   "name": "python3"
  },
  "language_info": {
   "codemirror_mode": {
    "name": "ipython",
    "version": 3
   },
   "file_extension": ".py",
   "mimetype": "text/x-python",
   "name": "python",
   "nbconvert_exporter": "python",
   "pygments_lexer": "ipython3",
   "version": "3.9.7"
  }
 },
 "nbformat": 4,
 "nbformat_minor": 5
}
