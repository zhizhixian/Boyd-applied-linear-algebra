{
 "cells": [
  {
   "cell_type": "code",
   "execution_count": 2,
   "id": "fc56d0c3",
   "metadata": {},
   "outputs": [],
   "source": [
    "#16 constrained least squares\n",
    "\n",
    "#1)use the gram-schmidt algorithm\n",
    "import numpy as np\n",
    "def gram_schmidt(a):\n",
    "    q=[]\n",
    "    for i in range(len(a)):\n",
    "        #orthogonalization\n",
    "        q_tilde=a[i]\n",
    "        for j in range(len(q)):\n",
    "            q_tilde = q_tilde - (q[j]@a[i])*q[j]\n",
    "        q_tilde = q_tilde / np.sqrt(sum(q_tilde**2))\n",
    "        q.append(q_tilde) #此处q[i]代表Q的第i行\n",
    "    return q\n",
    "\n",
    "#2)QR factorization\n",
    "def QR_factorization(A):\n",
    "    Q_transpose = np.array(gram_schmidt(A.T))\n",
    "    R = Q_transpose @ A\n",
    "    Q = Q_transpose.T\n",
    "    return Q,R\n",
    "\n",
    "# vandermonde matrix\n",
    "def vandermonde(t,n):\n",
    "    m = len(t)\n",
    "    V = np.zeros((m,n))\n",
    "    for i in range(m):\n",
    "        for j in range(n):\n",
    "            V[i,j] = t[i]**(j)\n",
    "    return V\n",
    "\n",
    "#5)back substitution\n",
    "def back_subst(R,b_tilde): #there R is a upper matrix\n",
    "    n = R.shape[0]\n",
    "    x = np.zeros(n)\n",
    "    for i in reversed(range(n)):\n",
    "        x[i] = b_tilde[i]\n",
    "        for j in range(i+1,n):\n",
    "            x[i] = x[i] - R[i,j]*x[j]\n",
    "        x[i] = x[i]/R[i,i]\n",
    "    return x\n",
    "\n",
    "#6)solving system of linear equations, here x is the pseudo-matrix.\n",
    "def solve_via_backsub(A,b):\n",
    "    Q,R = QR_factorization(A)\n",
    "    b_tilde = Q.T @ b\n",
    "    x= back_subst(R,b_tilde)\n",
    "    return x\n",
    "\n",
    "\n",
    "#16.2 solution \n",
    "#forming the KKT matrix and solve it\n",
    "def cls_solve_kkt(A,b,C,d):\n",
    "    m,n = A.shape\n",
    "    p,n = C.shape\n",
    "    #gram matrix\n",
    "    G = A.T @ A\n",
    "    #kkt matrix\n",
    "    KKT = np.vstack([np.hstack([2*G,C.T]),np.hstack([C,np.zeros((p,p))])])\n",
    "    xzhat = solve_via_backsub(KKT,np.hstack([2*A.T@b,d]))\n",
    "    return xzhat[:n]\n",
    "\n",
    "#solving constrained least squares via QR\n",
    "import numpy as np\n",
    "def cls_solve(A,b,C,d):\n",
    "    m,n = A.shape\n",
    "    p,n = C.shape\n",
    "    Q,R = np.linalg.qr(np.vstack([A,C]))\n",
    "    Q1 = Q[:m,:]\n",
    "    Q2 = Q[m:,:]\n",
    "    Qtil,Rtil = np.linalg.qr(Q2.T)\n",
    "    w = solve_via_backsub(Rtil,(2*Qtil.T@Q1.T@b-2*solve_via_backsub(Rtil.T,d)))\n",
    "    xhat = solve_via_backsub(R,(Q1.T@b-Q2.T@w/2))\n",
    "    return xhat\n",
    "\n",
    "#Sparse constrained least sqaures\n",
    "def cls_solve_sparse(A,b,C,d):\n",
    "    m,n = A.shape\n",
    "    p,n = C.shape\n",
    "    bigA = np.vstack([np.hstack([np.zeros((n,n)),A.T,C.T]),\n",
    "                                 np.hstack([A,-np.eye(m)/2,np.zeros((m,p))]),\n",
    "                                 np.hstack([C,np.zeros((p,m)),np.zeros((p,p))])])\n",
    "    xyzhat = solve_via_backsub(bigA,np.hstack([np.zeros(n),b,d]))\n",
    "    xhat = xyzhat[:n]\n",
    "    return xhat"
   ]
  },
  {
   "cell_type": "code",
   "execution_count": 3,
   "id": "dfdac137",
   "metadata": {},
   "outputs": [
    {
     "data": {
      "image/png": "[encoded data removed]",
      "text/plain": [
       "<Figure size 432x288 with 1 Axes>"
      ]
     },
     "metadata": {
      "needs_background": "light"
     },
     "output_type": "display_data"
    }
   ],
   "source": [
    "#piecewise polynomial: here we take a=0\n",
    "M = 70\n",
    "N = 2*M\n",
    "xleft = np.random.random(M) - 1\n",
    "xright = np.random.random(M)\n",
    "x = np.hstack([xleft,xright])\n",
    "y = np.power(x,3) - x + 0.4/(1+25*np.power(x,2)) + 0.05*np.random.normal(size = N)\n",
    "n = 4\n",
    "A = np.vstack([np.hstack([vandermonde(xleft,n),np.zeros((M,n))]),np.hstack([np.zeros((M,n)),vandermonde(xright,n)])])\n",
    "b = y\n",
    "C = np.vstack((np.hstack([1,np.zeros(n-1),-1,np.zeros(n-1)]),np.hstack([0,1,np.zeros(n-2),0,-1,np.zeros(n-2)])))\n",
    "d = np.zeros(2)\n",
    "theta = cls_solve(A,b,C,d)\n",
    "\n",
    "import matplotlib.pyplot as plt\n",
    "plt.ion()\n",
    "#Evaluate and plot for 200 equidistant point on each side.\n",
    "Npl = 200\n",
    "x_left = np.linspace(-1,0,Npl)\n",
    "y_left = vandermonde(x_left,4) @ theta[:n]\n",
    "x_right = np.linspace(0,1,Npl)\n",
    "y_right = vandermonde(x_right,4) @ theta[n:]\n",
    "plt.scatter(x,y)\n",
    "plt.plot(x_left,y_left,'orange')\n",
    "plt.plot(x_right,y_right,'green')\n",
    "plt.show()"
   ]
  },
  {
   "cell_type": "code",
   "execution_count": 4,
   "id": "397a3a4a",
   "metadata": {},
   "outputs": [
    {
     "name": "stdout",
     "output_type": "stream",
     "text": [
      "[315.16818459 109.86643348 858.96538193]\n",
      "[ 0.05454545  0.04242424  0.03030303  0.01818182  0.00606061 -0.00606061\n",
      " -0.01818182 -0.03030303 -0.04242424 -0.05454545]\n",
      "[6.66133815e-16 9.00945984e-14]\n"
     ]
    }
   ],
   "source": [
    "#advertising budget\n",
    "n = 3\n",
    "m = 10\n",
    "R = np.array([[0.97,1.86,0.41], [1.23,2.18,0.53],\n",
    "              [0.80,1.24,0.62], [1.29,0.98,0.51], [1.10,1.23,0.69],\n",
    "              [0.67,0.34,0.54], [0.87,0.26,0.62], [1.10,0.16,0.48],\n",
    "              [1.92,0.22,0.71], [1.29,0.12,0.62]])\n",
    "print(cls_solve(R,1e3*np.ones(m),np.ones((1,n)),np.array([1284])))\n",
    "\n",
    "#Minimum norm force sequence\n",
    "A = np.eye(10)\n",
    "b = np.zeros(10)  #the sum of squares of the force\n",
    "C = np.vstack([np.ones((1,10)),np.arange(9.5,0.4,-1).T])\n",
    "d = np.array([0,1])\n",
    "print(cls_solve(A,b,C,d))\n",
    "\n",
    "#solving the KKT form\n",
    "A = np.random.normal(size = (10,5))\n",
    "b = np.random.normal(size = 10)\n",
    "C = np.random.normal(size = (2,5))\n",
    "d = np.random.normal(size = 2)\n",
    "x = cls_solve_kkt(A,b,C,d)\n",
    "#check that residual iss small\n",
    "print(C@x - d)"
   ]
  },
  {
   "cell_type": "code",
   "execution_count": 5,
   "id": "e0e8a54f",
   "metadata": {},
   "outputs": [
    {
     "name": "stdout",
     "output_type": "stream",
     "text": [
      "9.011333963579735e-15\n",
      "8.046830286441121e-14\n",
      "3.6236660881678586e-15\n",
      "7.622900260779644e-16\n",
      "3.686587734846224e-15\n"
     ]
    }
   ],
   "source": [
    "#16.3 solving constrained least sqaures via QR\n",
    "# compare with KKT method\n",
    "m = 10\n",
    "n = 5\n",
    "p = 2\n",
    "A = np.random.normal(size = (m,n))\n",
    "b = np.random.normal(size = m)\n",
    "C = np.random.normal(size = (p,n))\n",
    "d = np.random.normal(size = p)\n",
    "xKKT = cls_solve_kkt(A,b,C,d)\n",
    "xQR = cls_solve(A,b,C,d)\n",
    "#compare solutions\n",
    "print(np.linalg.norm(xKKT-xQR))\n",
    "\n",
    "#example of sparse matrix\n",
    "m = 100\n",
    "n = 50\n",
    "p = 10\n",
    "A = np.random.normal(size = (m,n))\n",
    "b = np.random.normal(size = m)\n",
    "C = np.random.normal(size = (p,n))\n",
    "d = np.random.normal(size = p)\n",
    "x1 = cls_solve(A, b, C, d)\n",
    "x2 = cls_solve_sparse(A, b, C, d)\n",
    "# compare solutions\n",
    "print(np.linalg.norm(x1 - x2))\n",
    "\n",
    "#solving least norm problem\n",
    "p = 50\n",
    "n = 500\n",
    "C = np.random.normal(size = (p,n))\n",
    "d = np.random.normal(size = p)\n",
    "#solve via least norm analytical solution\n",
    "x1 = C.T @ np.linalg.inv(C @ C.T) @ d\n",
    "#solve using cls_solve which uses KKT\n",
    "x2 = cls_solve(np.eye(n),np.zeros(n),C,d)\n",
    "#using pseudo inverse\n",
    "x3 = np.linalg.pinv(C) @ d\n",
    "print(np.linalg.norm(x1-x2))\n",
    "print(np.linalg.norm(x1-x3))\n",
    "print(np.linalg.norm(x3-x2))"
   ]
  },
  {
   "cell_type": "code",
   "execution_count": 14,
   "id": "6f741d8c",
   "metadata": {},
   "outputs": [
    {
     "name": "stdout",
     "output_type": "stream",
     "text": [
      "[-3.84592537e-16 -9.27672104e-16  1.83333333e+00  3.33333333e-01\n",
      " -1.16666667e+00]\n"
     ]
    },
    {
     "name": "stderr",
     "output_type": "stream",
     "text": [
      "C:\\Users\\15829\\AppData\\Local\\Temp\\ipykernel_9896\\2832978600.py:13: VisibleDeprecationWarning: Creating an ndarray from ragged nested sequences (which is a list-or-tuple of lists-or-tuples-or ndarrays with different lengths or shapes) is deprecated. If you meant to do this, you must specify 'dtype=object' when creating the ndarray.\n",
      "  plt.plot(x,x_1@theta)\n"
     ]
    },
    {
     "data": {
      "image/png": "[encoded data removed]",
      "text/plain": [
       "<Figure size 432x288 with 1 Axes>"
      ]
     },
     "metadata": {
      "needs_background": "light"
     },
     "output_type": "display_data"
    }
   ],
   "source": [
    "#exercise 16.12 Least norm polynomial interpolation\n",
    "A = np.eye(5) \n",
    "b = np.zeros(5)\n",
    "C = np.vstack([np.hstack([1,np.zeros(4)]),np.hstack([0,1,np.zeros(3)]),np.ones(5),np.hstack([0,1,2,3,4])])\n",
    "d = np.array([0,0,1,0])\n",
    "theta = cls_solve(A,b,C,d)\n",
    "print(theta)\n",
    "\n",
    "import matplotlib.pyplot as plt\n",
    "plt.ion()\n",
    "x = np.linspace(-0.2,1.2,200)\n",
    "x_1 = [1,x,x**2,x**3,x**4]\n",
    "plt.plot(x,x_1@theta)\n",
    "plt.grid()\n",
    "plt.xlabel('t')\n",
    "plt.ylabel('p(t)')\n",
    "plt.show()"
   ]
  },
  {
   "cell_type": "code",
   "execution_count": 8,
   "id": "64254416",
   "metadata": {},
   "outputs": [
    {
     "name": "stdout",
     "output_type": "stream",
     "text": [
      "10650.985305383945 10624.59130571181\n"
     ]
    },
    {
     "data": {
      "image/png": "[encoded data removed]",
      "text/plain": [
       "<Figure size 432x288 with 1 Axes>"
      ]
     },
     "metadata": {
      "needs_background": "light"
     },
     "output_type": "display_data"
    }
   ],
   "source": [
    "#17 Constrained least sqaures applications\n",
    "#17.1 Portfolio optimization\n",
    "# we form the cumulative product of the vector with entries 1+rt with the function np.cumprod()\n",
    "import numpy as np\n",
    "cum_value = lambda r:10000*np.cumprod(1+r)\n",
    "T = 250\n",
    "#Generate random returns sequence with 10% annualized return, 5% annualized risk\n",
    "mu = 0.10/250\n",
    "sigma = 0.05/np.sqrt(250)\n",
    "r = mu + sigma*np.random.normal(size = T)\n",
    "v = cum_value(r)\n",
    "#compute final value and average return\n",
    "print(v[T-1],v[0]*(1+sum(r)))\n",
    "\n",
    "import matplotlib.pyplot as plt\n",
    "plt.ion()\n",
    "plt.plot(np.arange(T),v)\n",
    "plt.xlabel('t')\n",
    "plt.ylabel('v_t')\n",
    "plt.show()\n"
   ]
  },
  {
   "cell_type": "code",
   "execution_count": 9,
   "id": "d8656d73",
   "metadata": {},
   "outputs": [
    {
     "ename": "FileNotFoundError",
     "evalue": "[Errno 2] No such file or directory: 'portfolio_data.csv'",
     "output_type": "error",
     "traceback": [
      "\u001b[1;31m---------------------------------------------------------------------------\u001b[0m",
      "\u001b[1;31mFileNotFoundError\u001b[0m                         Traceback (most recent call last)",
      "Input \u001b[1;32mIn [9]\u001b[0m, in \u001b[0;36m<cell line: 53>\u001b[1;34m()\u001b[0m\n\u001b[0;32m     51\u001b[0m     w \u001b[38;5;241m=\u001b[39m wz1z2[:n]\n\u001b[0;32m     52\u001b[0m     \u001b[38;5;28;01mreturn\u001b[39;00m w\n\u001b[1;32m---> 53\u001b[0m R,Rtest \u001b[38;5;241m=\u001b[39m \u001b[43mportfolio_data\u001b[49m\u001b[43m(\u001b[49m\u001b[43m)\u001b[49m\n\u001b[0;32m     54\u001b[0m T,n \u001b[38;5;241m=\u001b[39m R\u001b[38;5;241m.\u001b[39mshape\n\u001b[0;32m     55\u001b[0m rho \u001b[38;5;241m=\u001b[39m \u001b[38;5;241m0.1\u001b[39m\u001b[38;5;241m/\u001b[39m\u001b[38;5;241m250\u001b[39m \u001b[38;5;66;03m# ask for 10% annual return\u001b[39;00m\n",
      "Input \u001b[1;32mIn [9]\u001b[0m, in \u001b[0;36mportfolio_data\u001b[1;34m()\u001b[0m\n\u001b[0;32m      5\u001b[0m \u001b[38;5;124;03m\"\"\"\u001b[39;00m\n\u001b[0;32m      6\u001b[0m \u001b[38;5;124;03mportfolio_data()       \u001b[39;00m\n\u001b[0;32m      7\u001b[0m \n\u001b[1;32m   (...)\u001b[0m\n\u001b[0;32m     14\u001b[0m \u001b[38;5;124;03mof 500 days.\u001b[39;00m\n\u001b[0;32m     15\u001b[0m \u001b[38;5;124;03m\"\"\"\u001b[39;00m\n\u001b[0;32m     16\u001b[0m \u001b[38;5;66;03m# 20 columns for:\u001b[39;00m\n\u001b[0;32m     17\u001b[0m \u001b[38;5;66;03m# \"American Express Company\",\u001b[39;00m\n\u001b[0;32m     18\u001b[0m \u001b[38;5;66;03m# \"Bank of America Corporation\",\u001b[39;00m\n\u001b[1;32m   (...)\u001b[0m\n\u001b[0;32m     35\u001b[0m \u001b[38;5;66;03m# \"Verizon Communications Inc.\", \u001b[39;00m\n\u001b[0;32m     36\u001b[0m \u001b[38;5;66;03m# \"US Dollar\"\u001b[39;00m\n\u001b[1;32m---> 38\u001b[0m prices \u001b[38;5;241m=\u001b[39m \u001b[43mpd\u001b[49m\u001b[38;5;241;43m.\u001b[39;49m\u001b[43mread_csv\u001b[49m\u001b[43m(\u001b[49m\u001b[38;5;124;43m\"\u001b[39;49m\u001b[38;5;124;43mportfolio_data.csv\u001b[39;49m\u001b[38;5;124;43m\"\u001b[39;49m\u001b[43m,\u001b[49m\u001b[43m \u001b[49m\u001b[43msep\u001b[49m\u001b[38;5;241;43m=\u001b[39;49m\u001b[38;5;124;43m\"\u001b[39;49m\u001b[38;5;124;43m,\u001b[39;49m\u001b[38;5;124;43m\"\u001b[39;49m\u001b[43m,\u001b[49m\u001b[43m \u001b[49m\u001b[43mheader\u001b[49m\u001b[38;5;241;43m=\u001b[39;49m\u001b[38;5;28;43;01mNone\u001b[39;49;00m\u001b[43m)\u001b[49m\n\u001b[0;32m     39\u001b[0m prices\u001b[38;5;241m.\u001b[39mcolumns \u001b[38;5;241m=\u001b[39m [\u001b[38;5;124m\"\u001b[39m\u001b[38;5;124mAmerican Express Company\u001b[39m\u001b[38;5;124m\"\u001b[39m,\u001b[38;5;124m\"\u001b[39m\u001b[38;5;124mBank of America Corporation\u001b[39m\u001b[38;5;124m\"\u001b[39m,\u001b[38;5;124m\"\u001b[39m\u001b[38;5;124mBP plc\u001b[39m\u001b[38;5;124m\"\u001b[39m, \u001b[38;5;124m\"\u001b[39m\u001b[38;5;124mBroadcom Corp.\u001b[39m\u001b[38;5;124m\"\u001b[39m,\u001b[38;5;124m\"\u001b[39m\u001b[38;5;124mCostco Wholesale Corporation\u001b[39m\u001b[38;5;124m\"\u001b[39m, \u001b[38;5;124m\"\u001b[39m\u001b[38;5;124mCisco Systems, Inc.\u001b[39m\u001b[38;5;124m\"\u001b[39m, \u001b[38;5;124m\"\u001b[39m\u001b[38;5;124mThe Walt Disney Company\u001b[39m\u001b[38;5;124m\"\u001b[39m, \u001b[38;5;124m\"\u001b[39m\u001b[38;5;124mThe Goldman Sachs Group, Inc.\u001b[39m\u001b[38;5;124m\"\u001b[39m,\u001b[38;5;124m\"\u001b[39m\u001b[38;5;124mHewlett-Packard Company\u001b[39m\u001b[38;5;124m\"\u001b[39m, \u001b[38;5;124m\"\u001b[39m\u001b[38;5;124mIntel Corporation\u001b[39m\u001b[38;5;124m\"\u001b[39m, \u001b[38;5;124m\"\u001b[39m\u001b[38;5;124mThe Coca-Cola Company\u001b[39m\u001b[38;5;124m\"\u001b[39m, \u001b[38;5;124m\"\u001b[39m\u001b[38;5;124m3M Company\u001b[39m\u001b[38;5;124m\"\u001b[39m, \u001b[38;5;124m\"\u001b[39m\u001b[38;5;124mMicrosoft Corporation\u001b[39m\u001b[38;5;124m\"\u001b[39m, \u001b[38;5;124m\"\u001b[39m\u001b[38;5;124mNike, Inc.\u001b[39m\u001b[38;5;124m\"\u001b[39m, \u001b[38;5;124m\"\u001b[39m\u001b[38;5;124mQUALCOMM Incorporated\u001b[39m\u001b[38;5;124m\"\u001b[39m, \u001b[38;5;124m\"\u001b[39m\u001b[38;5;124mStarbucks Corporation\u001b[39m\u001b[38;5;124m\"\u001b[39m, \u001b[38;5;124m\"\u001b[39m\u001b[38;5;124mAT&T, Inc.\u001b[39m\u001b[38;5;124m\"\u001b[39m, \u001b[38;5;124m\"\u001b[39m\u001b[38;5;124mTiffany & Co.\u001b[39m\u001b[38;5;124m\"\u001b[39m, \u001b[38;5;124m\"\u001b[39m\u001b[38;5;124mVerizon Communications Inc.\u001b[39m\u001b[38;5;124m\"\u001b[39m, \u001b[38;5;124m\"\u001b[39m\u001b[38;5;124mUS Dollar\u001b[39m\u001b[38;5;124m\"\u001b[39m]\n\u001b[0;32m     40\u001b[0m p_changes \u001b[38;5;241m=\u001b[39m np\u001b[38;5;241m.\u001b[39marray(prices\u001b[38;5;241m.\u001b[39miloc[\u001b[38;5;241m1\u001b[39m:,:]) \u001b[38;5;241m-\u001b[39m np\u001b[38;5;241m.\u001b[39marray(prices\u001b[38;5;241m.\u001b[39miloc[:\u001b[38;5;241m-\u001b[39m\u001b[38;5;241m1\u001b[39m,:]);\n",
      "File \u001b[1;32m~\\anaconda3\\lib\\site-packages\\pandas\\util\\_decorators.py:311\u001b[0m, in \u001b[0;36mdeprecate_nonkeyword_arguments.<locals>.decorate.<locals>.wrapper\u001b[1;34m(*args, **kwargs)\u001b[0m\n\u001b[0;32m    305\u001b[0m \u001b[38;5;28;01mif\u001b[39;00m \u001b[38;5;28mlen\u001b[39m(args) \u001b[38;5;241m>\u001b[39m num_allow_args:\n\u001b[0;32m    306\u001b[0m     warnings\u001b[38;5;241m.\u001b[39mwarn(\n\u001b[0;32m    307\u001b[0m         msg\u001b[38;5;241m.\u001b[39mformat(arguments\u001b[38;5;241m=\u001b[39marguments),\n\u001b[0;32m    308\u001b[0m         \u001b[38;5;167;01mFutureWarning\u001b[39;00m,\n\u001b[0;32m    309\u001b[0m         stacklevel\u001b[38;5;241m=\u001b[39mstacklevel,\n\u001b[0;32m    310\u001b[0m     )\n\u001b[1;32m--> 311\u001b[0m \u001b[38;5;28;01mreturn\u001b[39;00m func(\u001b[38;5;241m*\u001b[39margs, \u001b[38;5;241m*\u001b[39m\u001b[38;5;241m*\u001b[39mkwargs)\n",
      "File \u001b[1;32m~\\anaconda3\\lib\\site-packages\\pandas\\io\\parsers\\readers.py:680\u001b[0m, in \u001b[0;36mread_csv\u001b[1;34m(filepath_or_buffer, sep, delimiter, header, names, index_col, usecols, squeeze, prefix, mangle_dupe_cols, dtype, engine, converters, true_values, false_values, skipinitialspace, skiprows, skipfooter, nrows, na_values, keep_default_na, na_filter, verbose, skip_blank_lines, parse_dates, infer_datetime_format, keep_date_col, date_parser, dayfirst, cache_dates, iterator, chunksize, compression, thousands, decimal, lineterminator, quotechar, quoting, doublequote, escapechar, comment, encoding, encoding_errors, dialect, error_bad_lines, warn_bad_lines, on_bad_lines, delim_whitespace, low_memory, memory_map, float_precision, storage_options)\u001b[0m\n\u001b[0;32m    665\u001b[0m kwds_defaults \u001b[38;5;241m=\u001b[39m _refine_defaults_read(\n\u001b[0;32m    666\u001b[0m     dialect,\n\u001b[0;32m    667\u001b[0m     delimiter,\n\u001b[1;32m   (...)\u001b[0m\n\u001b[0;32m    676\u001b[0m     defaults\u001b[38;5;241m=\u001b[39m{\u001b[38;5;124m\"\u001b[39m\u001b[38;5;124mdelimiter\u001b[39m\u001b[38;5;124m\"\u001b[39m: \u001b[38;5;124m\"\u001b[39m\u001b[38;5;124m,\u001b[39m\u001b[38;5;124m\"\u001b[39m},\n\u001b[0;32m    677\u001b[0m )\n\u001b[0;32m    678\u001b[0m kwds\u001b[38;5;241m.\u001b[39mupdate(kwds_defaults)\n\u001b[1;32m--> 680\u001b[0m \u001b[38;5;28;01mreturn\u001b[39;00m \u001b[43m_read\u001b[49m\u001b[43m(\u001b[49m\u001b[43mfilepath_or_buffer\u001b[49m\u001b[43m,\u001b[49m\u001b[43m \u001b[49m\u001b[43mkwds\u001b[49m\u001b[43m)\u001b[49m\n",
      "File \u001b[1;32m~\\anaconda3\\lib\\site-packages\\pandas\\io\\parsers\\readers.py:575\u001b[0m, in \u001b[0;36m_read\u001b[1;34m(filepath_or_buffer, kwds)\u001b[0m\n\u001b[0;32m    572\u001b[0m _validate_names(kwds\u001b[38;5;241m.\u001b[39mget(\u001b[38;5;124m\"\u001b[39m\u001b[38;5;124mnames\u001b[39m\u001b[38;5;124m\"\u001b[39m, \u001b[38;5;28;01mNone\u001b[39;00m))\n\u001b[0;32m    574\u001b[0m \u001b[38;5;66;03m# Create the parser.\u001b[39;00m\n\u001b[1;32m--> 575\u001b[0m parser \u001b[38;5;241m=\u001b[39m TextFileReader(filepath_or_buffer, \u001b[38;5;241m*\u001b[39m\u001b[38;5;241m*\u001b[39mkwds)\n\u001b[0;32m    577\u001b[0m \u001b[38;5;28;01mif\u001b[39;00m chunksize \u001b[38;5;129;01mor\u001b[39;00m iterator:\n\u001b[0;32m    578\u001b[0m     \u001b[38;5;28;01mreturn\u001b[39;00m parser\n",
      "File \u001b[1;32m~\\anaconda3\\lib\\site-packages\\pandas\\io\\parsers\\readers.py:934\u001b[0m, in \u001b[0;36mTextFileReader.__init__\u001b[1;34m(self, f, engine, **kwds)\u001b[0m\n\u001b[0;32m    931\u001b[0m     \u001b[38;5;28mself\u001b[39m\u001b[38;5;241m.\u001b[39moptions[\u001b[38;5;124m\"\u001b[39m\u001b[38;5;124mhas_index_names\u001b[39m\u001b[38;5;124m\"\u001b[39m] \u001b[38;5;241m=\u001b[39m kwds[\u001b[38;5;124m\"\u001b[39m\u001b[38;5;124mhas_index_names\u001b[39m\u001b[38;5;124m\"\u001b[39m]\n\u001b[0;32m    933\u001b[0m \u001b[38;5;28mself\u001b[39m\u001b[38;5;241m.\u001b[39mhandles: IOHandles \u001b[38;5;241m|\u001b[39m \u001b[38;5;28;01mNone\u001b[39;00m \u001b[38;5;241m=\u001b[39m \u001b[38;5;28;01mNone\u001b[39;00m\n\u001b[1;32m--> 934\u001b[0m \u001b[38;5;28mself\u001b[39m\u001b[38;5;241m.\u001b[39m_engine \u001b[38;5;241m=\u001b[39m \u001b[38;5;28;43mself\u001b[39;49m\u001b[38;5;241;43m.\u001b[39;49m\u001b[43m_make_engine\u001b[49m\u001b[43m(\u001b[49m\u001b[43mf\u001b[49m\u001b[43m,\u001b[49m\u001b[43m \u001b[49m\u001b[38;5;28;43mself\u001b[39;49m\u001b[38;5;241;43m.\u001b[39;49m\u001b[43mengine\u001b[49m\u001b[43m)\u001b[49m\n",
      "File \u001b[1;32m~\\anaconda3\\lib\\site-packages\\pandas\\io\\parsers\\readers.py:1218\u001b[0m, in \u001b[0;36mTextFileReader._make_engine\u001b[1;34m(self, f, engine)\u001b[0m\n\u001b[0;32m   1214\u001b[0m     mode \u001b[38;5;241m=\u001b[39m \u001b[38;5;124m\"\u001b[39m\u001b[38;5;124mrb\u001b[39m\u001b[38;5;124m\"\u001b[39m\n\u001b[0;32m   1215\u001b[0m \u001b[38;5;66;03m# error: No overload variant of \"get_handle\" matches argument types\u001b[39;00m\n\u001b[0;32m   1216\u001b[0m \u001b[38;5;66;03m# \"Union[str, PathLike[str], ReadCsvBuffer[bytes], ReadCsvBuffer[str]]\"\u001b[39;00m\n\u001b[0;32m   1217\u001b[0m \u001b[38;5;66;03m# , \"str\", \"bool\", \"Any\", \"Any\", \"Any\", \"Any\", \"Any\"\u001b[39;00m\n\u001b[1;32m-> 1218\u001b[0m \u001b[38;5;28mself\u001b[39m\u001b[38;5;241m.\u001b[39mhandles \u001b[38;5;241m=\u001b[39m \u001b[43mget_handle\u001b[49m\u001b[43m(\u001b[49m\u001b[43m  \u001b[49m\u001b[38;5;66;43;03m# type: ignore[call-overload]\u001b[39;49;00m\n\u001b[0;32m   1219\u001b[0m \u001b[43m    \u001b[49m\u001b[43mf\u001b[49m\u001b[43m,\u001b[49m\n\u001b[0;32m   1220\u001b[0m \u001b[43m    \u001b[49m\u001b[43mmode\u001b[49m\u001b[43m,\u001b[49m\n\u001b[0;32m   1221\u001b[0m \u001b[43m    \u001b[49m\u001b[43mencoding\u001b[49m\u001b[38;5;241;43m=\u001b[39;49m\u001b[38;5;28;43mself\u001b[39;49m\u001b[38;5;241;43m.\u001b[39;49m\u001b[43moptions\u001b[49m\u001b[38;5;241;43m.\u001b[39;49m\u001b[43mget\u001b[49m\u001b[43m(\u001b[49m\u001b[38;5;124;43m\"\u001b[39;49m\u001b[38;5;124;43mencoding\u001b[39;49m\u001b[38;5;124;43m\"\u001b[39;49m\u001b[43m,\u001b[49m\u001b[43m \u001b[49m\u001b[38;5;28;43;01mNone\u001b[39;49;00m\u001b[43m)\u001b[49m\u001b[43m,\u001b[49m\n\u001b[0;32m   1222\u001b[0m \u001b[43m    \u001b[49m\u001b[43mcompression\u001b[49m\u001b[38;5;241;43m=\u001b[39;49m\u001b[38;5;28;43mself\u001b[39;49m\u001b[38;5;241;43m.\u001b[39;49m\u001b[43moptions\u001b[49m\u001b[38;5;241;43m.\u001b[39;49m\u001b[43mget\u001b[49m\u001b[43m(\u001b[49m\u001b[38;5;124;43m\"\u001b[39;49m\u001b[38;5;124;43mcompression\u001b[39;49m\u001b[38;5;124;43m\"\u001b[39;49m\u001b[43m,\u001b[49m\u001b[43m \u001b[49m\u001b[38;5;28;43;01mNone\u001b[39;49;00m\u001b[43m)\u001b[49m\u001b[43m,\u001b[49m\n\u001b[0;32m   1223\u001b[0m \u001b[43m    \u001b[49m\u001b[43mmemory_map\u001b[49m\u001b[38;5;241;43m=\u001b[39;49m\u001b[38;5;28;43mself\u001b[39;49m\u001b[38;5;241;43m.\u001b[39;49m\u001b[43moptions\u001b[49m\u001b[38;5;241;43m.\u001b[39;49m\u001b[43mget\u001b[49m\u001b[43m(\u001b[49m\u001b[38;5;124;43m\"\u001b[39;49m\u001b[38;5;124;43mmemory_map\u001b[39;49m\u001b[38;5;124;43m\"\u001b[39;49m\u001b[43m,\u001b[49m\u001b[43m \u001b[49m\u001b[38;5;28;43;01mFalse\u001b[39;49;00m\u001b[43m)\u001b[49m\u001b[43m,\u001b[49m\n\u001b[0;32m   1224\u001b[0m \u001b[43m    \u001b[49m\u001b[43mis_text\u001b[49m\u001b[38;5;241;43m=\u001b[39;49m\u001b[43mis_text\u001b[49m\u001b[43m,\u001b[49m\n\u001b[0;32m   1225\u001b[0m \u001b[43m    \u001b[49m\u001b[43merrors\u001b[49m\u001b[38;5;241;43m=\u001b[39;49m\u001b[38;5;28;43mself\u001b[39;49m\u001b[38;5;241;43m.\u001b[39;49m\u001b[43moptions\u001b[49m\u001b[38;5;241;43m.\u001b[39;49m\u001b[43mget\u001b[49m\u001b[43m(\u001b[49m\u001b[38;5;124;43m\"\u001b[39;49m\u001b[38;5;124;43mencoding_errors\u001b[39;49m\u001b[38;5;124;43m\"\u001b[39;49m\u001b[43m,\u001b[49m\u001b[43m \u001b[49m\u001b[38;5;124;43m\"\u001b[39;49m\u001b[38;5;124;43mstrict\u001b[39;49m\u001b[38;5;124;43m\"\u001b[39;49m\u001b[43m)\u001b[49m\u001b[43m,\u001b[49m\n\u001b[0;32m   1226\u001b[0m \u001b[43m    \u001b[49m\u001b[43mstorage_options\u001b[49m\u001b[38;5;241;43m=\u001b[39;49m\u001b[38;5;28;43mself\u001b[39;49m\u001b[38;5;241;43m.\u001b[39;49m\u001b[43moptions\u001b[49m\u001b[38;5;241;43m.\u001b[39;49m\u001b[43mget\u001b[49m\u001b[43m(\u001b[49m\u001b[38;5;124;43m\"\u001b[39;49m\u001b[38;5;124;43mstorage_options\u001b[39;49m\u001b[38;5;124;43m\"\u001b[39;49m\u001b[43m,\u001b[49m\u001b[43m \u001b[49m\u001b[38;5;28;43;01mNone\u001b[39;49;00m\u001b[43m)\u001b[49m\u001b[43m,\u001b[49m\n\u001b[0;32m   1227\u001b[0m \u001b[43m\u001b[49m\u001b[43m)\u001b[49m\n\u001b[0;32m   1228\u001b[0m \u001b[38;5;28;01massert\u001b[39;00m \u001b[38;5;28mself\u001b[39m\u001b[38;5;241m.\u001b[39mhandles \u001b[38;5;129;01mis\u001b[39;00m \u001b[38;5;129;01mnot\u001b[39;00m \u001b[38;5;28;01mNone\u001b[39;00m\n\u001b[0;32m   1229\u001b[0m f \u001b[38;5;241m=\u001b[39m \u001b[38;5;28mself\u001b[39m\u001b[38;5;241m.\u001b[39mhandles\u001b[38;5;241m.\u001b[39mhandle\n",
      "File \u001b[1;32m~\\anaconda3\\lib\\site-packages\\pandas\\io\\common.py:786\u001b[0m, in \u001b[0;36mget_handle\u001b[1;34m(path_or_buf, mode, encoding, compression, memory_map, is_text, errors, storage_options)\u001b[0m\n\u001b[0;32m    781\u001b[0m \u001b[38;5;28;01melif\u001b[39;00m \u001b[38;5;28misinstance\u001b[39m(handle, \u001b[38;5;28mstr\u001b[39m):\n\u001b[0;32m    782\u001b[0m     \u001b[38;5;66;03m# Check whether the filename is to be opened in binary mode.\u001b[39;00m\n\u001b[0;32m    783\u001b[0m     \u001b[38;5;66;03m# Binary mode does not support 'encoding' and 'newline'.\u001b[39;00m\n\u001b[0;32m    784\u001b[0m     \u001b[38;5;28;01mif\u001b[39;00m ioargs\u001b[38;5;241m.\u001b[39mencoding \u001b[38;5;129;01mand\u001b[39;00m \u001b[38;5;124m\"\u001b[39m\u001b[38;5;124mb\u001b[39m\u001b[38;5;124m\"\u001b[39m \u001b[38;5;129;01mnot\u001b[39;00m \u001b[38;5;129;01min\u001b[39;00m ioargs\u001b[38;5;241m.\u001b[39mmode:\n\u001b[0;32m    785\u001b[0m         \u001b[38;5;66;03m# Encoding\u001b[39;00m\n\u001b[1;32m--> 786\u001b[0m         handle \u001b[38;5;241m=\u001b[39m \u001b[38;5;28;43mopen\u001b[39;49m\u001b[43m(\u001b[49m\n\u001b[0;32m    787\u001b[0m \u001b[43m            \u001b[49m\u001b[43mhandle\u001b[49m\u001b[43m,\u001b[49m\n\u001b[0;32m    788\u001b[0m \u001b[43m            \u001b[49m\u001b[43mioargs\u001b[49m\u001b[38;5;241;43m.\u001b[39;49m\u001b[43mmode\u001b[49m\u001b[43m,\u001b[49m\n\u001b[0;32m    789\u001b[0m \u001b[43m            \u001b[49m\u001b[43mencoding\u001b[49m\u001b[38;5;241;43m=\u001b[39;49m\u001b[43mioargs\u001b[49m\u001b[38;5;241;43m.\u001b[39;49m\u001b[43mencoding\u001b[49m\u001b[43m,\u001b[49m\n\u001b[0;32m    790\u001b[0m \u001b[43m            \u001b[49m\u001b[43merrors\u001b[49m\u001b[38;5;241;43m=\u001b[39;49m\u001b[43merrors\u001b[49m\u001b[43m,\u001b[49m\n\u001b[0;32m    791\u001b[0m \u001b[43m            \u001b[49m\u001b[43mnewline\u001b[49m\u001b[38;5;241;43m=\u001b[39;49m\u001b[38;5;124;43m\"\u001b[39;49m\u001b[38;5;124;43m\"\u001b[39;49m\u001b[43m,\u001b[49m\n\u001b[0;32m    792\u001b[0m \u001b[43m        \u001b[49m\u001b[43m)\u001b[49m\n\u001b[0;32m    793\u001b[0m     \u001b[38;5;28;01melse\u001b[39;00m:\n\u001b[0;32m    794\u001b[0m         \u001b[38;5;66;03m# Binary mode\u001b[39;00m\n\u001b[0;32m    795\u001b[0m         handle \u001b[38;5;241m=\u001b[39m \u001b[38;5;28mopen\u001b[39m(handle, ioargs\u001b[38;5;241m.\u001b[39mmode)\n",
      "\u001b[1;31mFileNotFoundError\u001b[0m: [Errno 2] No such file or directory: 'portfolio_data.csv'"
     ]
    }
   ],
   "source": [
    "#Portfolio optimization\n",
    "def port_opt(R,rho):\n",
    "    T,n = R.shape\n",
    "    mu = np.sum(R,axis = 0).T/T\n",
    "    KKT = np.vstack([np.column_stack([2*R.T@R,np.ones(n),mu.T]),np.hstack([np.ones(n).T,0,0]),np.hstack([mu,0,0])])\n",
    "    wz1z2 = solve_via_backsub(KKT,np.hstack([2*rho.T*mu,1,rho]))\n",
    "    w = wz1z2[:n]\n",
    "    return w\n",
    "\n",
    "R,Rtest = portfolio_data()\n",
    "T,n = R.shape\n",
    "rho = 0.1/250 # ask for 10% annual return\n",
    "w = port_opt(R,rho)\n",
    "r = R @ w # portfolio return time series\n",
    "pf_return = 250*sum(r)/len(r)\n",
    "pf_risk = np.sqrt(T)*np.std(r)\n",
    "print(pf_return)\n",
    "print(pf_risk)\n",
    "\n",
    "import matplotlib.pyplot as plt\n",
    "plt.ion()\n",
    "cum_value = lambda r: 10000*np.cumprod(1+r)\n",
    "# 10% annual return\n",
    "rho = 0,1/250\n",
    "w = proy_opt(R,rho)\n",
    "r = R @ w\n",
    "plt.plot(np.arange(T),cum_value(r),'blue')"
   ]
  },
  {
   "cell_type": "code",
   "execution_count": null,
   "id": "28c2181d",
   "metadata": {},
   "outputs": [],
   "source": [
    "#17.2 linear quadratic control\n",
    "#Kronecker product:use the function 'np.kron(G,H)'\n",
    "H = np.random.normal(size = (2,2))\n",
    "print(np.kron(np.eye(3),H))\n",
    "\n",
    "\n",
    "\n",
    "\n",
    "\n",
    "\n",
    "\n",
    "\n",
    "\n",
    "\n",
    "\n",
    "\n",
    "\n",
    "\n",
    "\n",
    "\n",
    "\n",
    "\n",
    "\n",
    "\n",
    "\n",
    "\n"
   ]
  }
 ],
 "metadata": {
  "kernelspec": {
   "display_name": "Python 3 (ipykernel)",
   "language": "python",
   "name": "python3"
  },
  "language_info": {
   "codemirror_mode": {
    "name": "ipython",
    "version": 3
   },
   "file_extension": ".py",
   "mimetype": "text/x-python",
   "name": "python",
   "nbconvert_exporter": "python",
   "pygments_lexer": "ipython3",
   "version": "3.9.7"
  }
 },
 "nbformat": 4,
 "nbformat_minor": 5
}
