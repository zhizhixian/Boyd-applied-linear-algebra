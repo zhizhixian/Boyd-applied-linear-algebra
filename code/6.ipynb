{
 "cells": [
  {
   "cell_type": "code",
   "execution_count": 2,
   "id": "93e6cad3",
   "metadata": {},
   "outputs": [
    {
     "data": {
      "text/plain": [
       "(3, 4)"
      ]
     },
     "execution_count": 2,
     "metadata": {},
     "output_type": "execute_result"
    }
   ],
   "source": [
    "import numpy as np\n",
    "a=np.array([[0,1,-2.3,0.1],[1.3,4,-0.1,1],[4.1,-1,0,1.7]])\n",
    "a.shape"
   ]
  },
  {
   "cell_type": "code",
   "execution_count": 3,
   "id": "5bd6d7cc",
   "metadata": {},
   "outputs": [
    {
     "name": "stdout",
     "output_type": "stream",
     "text": [
      "m: 3\n",
      "n: 4\n"
     ]
    }
   ],
   "source": [
    "m,n=a.shape\n",
    "print('m:',m)\n",
    "print('n:',n)"
   ]
  },
  {
   "cell_type": "code",
   "execution_count": 5,
   "id": "d2852051",
   "metadata": {},
   "outputs": [
    {
     "data": {
      "text/plain": [
       "False"
      ]
     },
     "execution_count": 5,
     "metadata": {},
     "output_type": "execute_result"
    }
   ],
   "source": [
    "tall=lambda x: a.shape[0]>a.shape[1]\n",
    "tall(a)"
   ]
  },
  {
   "cell_type": "code",
   "execution_count": 3,
   "id": "4fe9dc8f",
   "metadata": {},
   "outputs": [
    {
     "name": "stdout",
     "output_type": "stream",
     "text": [
      "m: 3\n",
      "n: 4\n"
     ]
    },
    {
     "data": {
      "text/plain": [
       "-2.3"
      ]
     },
     "execution_count": 3,
     "metadata": {},
     "output_type": "execute_result"
    }
   ],
   "source": [
    "import numpy as np\n",
    "a=np.array([[0,1,-2.3,0.1],[1.3,4,-0.1,1],[4.1,-1,0,1.7]])\n",
    "print('m:',len(a))\n",
    "print('n:',len(a[0]))\n",
    "a[0,2]"
   ]
  },
  {
   "cell_type": "code",
   "execution_count": 4,
   "id": "e1570215",
   "metadata": {},
   "outputs": [
    {
     "data": {
      "text/plain": [
       "array([[ 0. ,  1. ,  7.5,  0.1],\n",
       "       [ 1.3,  4. , -0.1,  1. ],\n",
       "       [ 4.1, -1. ,  0. ,  1.7]])"
      ]
     },
     "execution_count": 4,
     "metadata": {},
     "output_type": "execute_result"
    }
   ],
   "source": [
    "a=np.array([[0,1,-2.3,0.1],[1.3,4,-0.1,1],[4.1,-1,0,1.7]])\n",
    "a[0,2]=7.5\n",
    "a"
   ]
  },
  {
   "cell_type": "code",
   "execution_count": 6,
   "id": "795aa502",
   "metadata": {},
   "outputs": [
    {
     "data": {
      "text/plain": [
       "array([[ True,  True,  True,  True],\n",
       "       [ True,  True,  True,  True],\n",
       "       [ True,  True,  True,  True]])"
      ]
     },
     "execution_count": 6,
     "metadata": {},
     "output_type": "execute_result"
    }
   ],
   "source": [
    "b=a.copy()\n",
    "a==b"
   ]
  },
  {
   "cell_type": "code",
   "execution_count": 7,
   "id": "9d18a308",
   "metadata": {},
   "outputs": [
    {
     "data": {
      "text/plain": [
       "11"
      ]
     },
     "execution_count": 7,
     "metadata": {},
     "output_type": "execute_result"
    }
   ],
   "source": [
    "b[0,3]=100\n",
    "np.sum(a==b)"
   ]
  },
  {
   "cell_type": "code",
   "execution_count": 9,
   "id": "7142f723",
   "metadata": {},
   "outputs": [
    {
     "data": {
      "text/plain": [
       "False"
      ]
     },
     "execution_count": 9,
     "metadata": {},
     "output_type": "execute_result"
    }
   ],
   "source": [
    "a=[[0,1,-2.3,0.1],[1.3,4,-0.1,1],[4.1,-1,0,1.7]]\n",
    "b=[[1,1,-2.3,0.1],[1.3,4,-0.1,1],[4.1,-1,0,1.7]]\n",
    "a==b"
   ]
  },
  {
   "cell_type": "code",
   "execution_count": 15,
   "id": "4f06a51c",
   "metadata": {},
   "outputs": [
    {
     "data": {
      "text/plain": [
       "(1, 3)"
      ]
     },
     "execution_count": 15,
     "metadata": {},
     "output_type": "execute_result"
    }
   ],
   "source": [
    "# a 3 vector\n",
    "a=np.array([-2.1,-3,0])\n",
    "a.shape"
   ]
  },
  {
   "cell_type": "code",
   "execution_count": 19,
   "id": "9a071ef3",
   "metadata": {},
   "outputs": [
    {
     "data": {
      "text/plain": [
       "(3, 1)"
      ]
     },
     "execution_count": 19,
     "metadata": {},
     "output_type": "execute_result"
    }
   ],
   "source": [
    "# a 3-vector or a 3 by 1 matrix\n",
    "b=np.array([[-2.1],[-3],[0]])\n",
    "b.shape"
   ]
  },
  {
   "cell_type": "code",
   "execution_count": 20,
   "id": "fc6ff189",
   "metadata": {},
   "outputs": [
    {
     "data": {
      "text/plain": [
       "array([-2.1, -3. ,  0. ])"
      ]
     },
     "execution_count": 20,
     "metadata": {},
     "output_type": "execute_result"
    }
   ],
   "source": [
    "b.reshape(3)"
   ]
  },
  {
   "cell_type": "code",
   "execution_count": 17,
   "id": "0405f58c",
   "metadata": {},
   "outputs": [
    {
     "data": {
      "text/plain": [
       "(1, 3)"
      ]
     },
     "execution_count": 17,
     "metadata": {},
     "output_type": "execute_result"
    }
   ],
   "source": [
    "# a 3-row vector or a 1 by 3 matrix\n",
    "c=np.array([[-2.1,-3,0]])\n",
    "c.shape"
   ]
  },
  {
   "cell_type": "code",
   "execution_count": 21,
   "id": "e05512f0",
   "metadata": {},
   "outputs": [
    {
     "data": {
      "text/plain": [
       "array([[2, 1],\n",
       "       [0, 1]])"
      ]
     },
     "execution_count": 21,
     "metadata": {},
     "output_type": "execute_result"
    }
   ],
   "source": [
    "a=np.array([[-1,0,2,1],[2,-3,0,1],[0,4,2,1]])\n",
    "a[0:2,2:4]"
   ]
  },
  {
   "cell_type": "code",
   "execution_count": 22,
   "id": "29866313",
   "metadata": {},
   "outputs": [
    {
     "data": {
      "text/plain": [
       "array([2, 0, 2])"
      ]
     },
     "execution_count": 22,
     "metadata": {},
     "output_type": "execute_result"
    }
   ],
   "source": [
    "#third col of A\n",
    "a[:,2]"
   ]
  },
  {
   "cell_type": "code",
   "execution_count": 23,
   "id": "60b06742",
   "metadata": {},
   "outputs": [
    {
     "data": {
      "text/plain": [
       "array([ 2, -3,  0,  1])"
      ]
     },
     "execution_count": 23,
     "metadata": {},
     "output_type": "execute_result"
    }
   ],
   "source": [
    "#second row of A, returned as vector\n",
    "a[1,:]"
   ]
  },
  {
   "cell_type": "code",
   "execution_count": 24,
   "id": "452531f1",
   "metadata": {},
   "outputs": [
    {
     "data": {
      "text/plain": [
       "array([[-1,  0],\n",
       "       [ 2,  1],\n",
       "       [ 2, -3],\n",
       "       [ 0,  1],\n",
       "       [ 0,  4],\n",
       "       [ 2,  1]])"
      ]
     },
     "execution_count": 24,
     "metadata": {},
     "output_type": "execute_result"
    }
   ],
   "source": [
    "a.reshape(6,2)"
   ]
  },
  {
   "cell_type": "code",
   "execution_count": 25,
   "id": "7fef8262",
   "metadata": {},
   "outputs": [
    {
     "ename": "ValueError",
     "evalue": "cannot reshape array of size 12 into shape (2,3)",
     "output_type": "error",
     "traceback": [
      "\u001b[1;31m---------------------------------------------------------------------------\u001b[0m",
      "\u001b[1;31mValueError\u001b[0m                                Traceback (most recent call last)",
      "\u001b[1;32m~\\AppData\\Local\\Temp/ipykernel_5340/1173217072.py\u001b[0m in \u001b[0;36m<module>\u001b[1;34m\u001b[0m\n\u001b[1;32m----> 1\u001b[1;33m \u001b[0ma\u001b[0m\u001b[1;33m.\u001b[0m\u001b[0mreshape\u001b[0m\u001b[1;33m(\u001b[0m\u001b[1;36m2\u001b[0m\u001b[1;33m,\u001b[0m\u001b[1;36m3\u001b[0m\u001b[1;33m)\u001b[0m\u001b[1;33m\u001b[0m\u001b[1;33m\u001b[0m\u001b[0m\n\u001b[0m",
      "\u001b[1;31mValueError\u001b[0m: cannot reshape array of size 12 into shape (2,3)"
     ]
    }
   ],
   "source": [
    "a.reshape(2,3)"
   ]
  },
  {
   "cell_type": "code",
   "execution_count": 32,
   "id": "39177020",
   "metadata": {},
   "outputs": [
    {
     "data": {
      "text/plain": [
       "array([[ 1,  2,  3, -1],\n",
       "       [ 2,  2,  1,  4],\n",
       "       [ 3,  1,  4,  4]])"
      ]
     },
     "execution_count": 32,
     "metadata": {},
     "output_type": "execute_result"
    }
   ],
   "source": [
    "b=np.array([1,2,3])\n",
    "c=np.array([-1])\n",
    "d=np.array([[2,2,1],[3,1,4]])\n",
    "e=np.array([[4],[4]])\n",
    "#construct 3 by 4 block matrix\n",
    "a=np.block([[b,c],[d,e]])\n",
    "a"
   ]
  },
  {
   "cell_type": "code",
   "execution_count": 33,
   "id": "fb98a2e8",
   "metadata": {},
   "outputs": [
    {
     "name": "stdout",
     "output_type": "stream",
     "text": [
      "matrix A : [[1 2]\n",
      " [4 5]\n",
      " [2 5]]\n",
      "dimension of A: (3, 2)\n",
      "matrix B : [1 2 4 5 2 5]\n",
      "dimension of B: (6,)\n"
     ]
    }
   ],
   "source": [
    "a=[1,2]\n",
    "b=[4,5]\n",
    "c=[2,5]\n",
    "A=np.vstack([a,b,c])\n",
    "B=np.hstack([a,b,c])\n",
    "print('matrix A :',A)\n",
    "print('dimension of A:',A.shape)\n",
    "print('matrix B :',B)\n",
    "print('dimension of B:',B.shape)"
   ]
  },
  {
   "cell_type": "code",
   "execution_count": 34,
   "id": "78257917",
   "metadata": {},
   "outputs": [
    {
     "name": "stdout",
     "output_type": "stream",
     "text": [
      "matrix of A : [[1]\n",
      " [2]\n",
      " [2]\n",
      " [5]\n",
      " [3]\n",
      " [6]]\n",
      "dimension of A: (6, 1)\n",
      "matrix of B : [[1 2 3]\n",
      " [2 5 6]]\n",
      "dimension of B: (2, 3)\n"
     ]
    }
   ],
   "source": [
    "a=[[1],[2]]\n",
    "b=[[2],[5]]\n",
    "c=[[3],[6]]\n",
    "A=np.vstack([a,b,c])\n",
    "B=np.hstack([a,b,c])\n",
    "print('matrix of A :',A)\n",
    "print('dimension of A:',A.shape)\n",
    "print('matrix of B :',B)\n",
    "print('dimension of B:',B.shape)"
   ]
  },
  {
   "cell_type": "code",
   "execution_count": 36,
   "id": "cab059c3",
   "metadata": {},
   "outputs": [
    {
     "data": {
      "text/plain": [
       "array([[-1., -0., -0.,  0.],\n",
       "       [-0., -1., -0.,  0.],\n",
       "       [-0., -0., -1.,  0.]])"
      ]
     },
     "execution_count": 36,
     "metadata": {},
     "output_type": "execute_result"
    }
   ],
   "source": [
    "np.c_[-np.identity(3),np.zeros(3)]"
   ]
  },
  {
   "cell_type": "code",
   "execution_count": 38,
   "id": "b1e1e9b7",
   "metadata": {},
   "outputs": [
    {
     "data": {
      "text/plain": [
       "array([[-1., -0., -0.],\n",
       "       [-0., -1., -0.],\n",
       "       [-0., -0., -1.],\n",
       "       [ 0.,  0.,  0.]])"
      ]
     },
     "execution_count": 38,
     "metadata": {},
     "output_type": "execute_result"
    }
   ],
   "source": [
    "np.r_[-np.identity(3),np.zeros((1,3))]"
   ]
  },
  {
   "cell_type": "code",
   "execution_count": 39,
   "id": "b3618bc3",
   "metadata": {},
   "outputs": [
    {
     "data": {
      "text/plain": [
       "array([[0., 0., 0.],\n",
       "       [0., 0., 0.]])"
      ]
     },
     "execution_count": 39,
     "metadata": {},
     "output_type": "execute_result"
    }
   ],
   "source": [
    "np.zeros((2,3))"
   ]
  },
  {
   "cell_type": "code",
   "execution_count": 40,
   "id": "19c7e8a2",
   "metadata": {},
   "outputs": [
    {
     "data": {
      "text/plain": [
       "array([[1., 0., 0., 0.],\n",
       "       [0., 1., 0., 0.],\n",
       "       [0., 0., 1., 0.],\n",
       "       [0., 0., 0., 1.]])"
      ]
     },
     "execution_count": 40,
     "metadata": {},
     "output_type": "execute_result"
    }
   ],
   "source": [
    "np.identity(4)"
   ]
  },
  {
   "cell_type": "code",
   "execution_count": 41,
   "id": "550d1ed6",
   "metadata": {},
   "outputs": [
    {
     "data": {
      "text/plain": [
       "array([[1., 1., 1.],\n",
       "       [1., 1., 1.]])"
      ]
     },
     "execution_count": 41,
     "metadata": {},
     "output_type": "execute_result"
    }
   ],
   "source": [
    "np.ones((2,3))"
   ]
  },
  {
   "cell_type": "code",
   "execution_count": 42,
   "id": "304003de",
   "metadata": {},
   "outputs": [
    {
     "name": "stdout",
     "output_type": "stream",
     "text": [
      "[0 4 7]\n"
     ]
    }
   ],
   "source": [
    "x=np.array([[0,1,2],[2,4,5],[6,1,7]])\n",
    "print(np.diag(x))"
   ]
  },
  {
   "cell_type": "code",
   "execution_count": 43,
   "id": "38b1414e",
   "metadata": {},
   "outputs": [
    {
     "name": "stdout",
     "output_type": "stream",
     "text": [
      "[[0 0 0]\n",
      " [0 4 0]\n",
      " [0 0 7]]\n"
     ]
    }
   ],
   "source": [
    "print(np.diag(np.diag(x)))"
   ]
  },
  {
   "cell_type": "code",
   "execution_count": 44,
   "id": "99979a60",
   "metadata": {},
   "outputs": [
    {
     "data": {
      "text/plain": [
       "array([[0.02830087, 0.56263376, 0.27324583],\n",
       "       [0.35393952, 0.8559847 , 0.23052706]])"
      ]
     },
     "execution_count": 44,
     "metadata": {},
     "output_type": "execute_result"
    }
   ],
   "source": [
    "np.random.random((2,3))"
   ]
  },
  {
   "cell_type": "code",
   "execution_count": 45,
   "id": "9692802f",
   "metadata": {},
   "outputs": [
    {
     "data": {
      "text/plain": [
       "array([[-0.52655408,  0.38317235],\n",
       "       [ 1.49480414, -0.45267029],\n",
       "       [ 1.59582019,  0.62609543]])"
      ]
     },
     "execution_count": 45,
     "metadata": {},
     "output_type": "execute_result"
    }
   ],
   "source": [
    "np.random.randn(3,2)"
   ]
  },
  {
   "cell_type": "code",
   "execution_count": 47,
   "id": "e39dcecd",
   "metadata": {},
   "outputs": [
    {
     "data": {
      "text/plain": [
       "<4x5 sparse matrix of type '<class 'numpy.float64'>'\n",
       "\twith 6 stored elements in COOrdinate format>"
      ]
     },
     "execution_count": 47,
     "metadata": {},
     "output_type": "execute_result"
    }
   ],
   "source": [
    "from scipy import sparse\n",
    "i=np.array([0,1,1,0,2,3]) # row indexes of nonzeros\n",
    "j=np.array([0,0,1,2,2,3]) # column indexes\n",
    "v=np.array([-1.1,0.15,-0.1,1.17,-0.3,0.13]) # value\n",
    "a=sparse.coo_matrix((v,(i,j)),shape=(4,5))\n",
    "a"
   ]
  },
  {
   "cell_type": "code",
   "execution_count": 48,
   "id": "cf233794",
   "metadata": {},
   "outputs": [
    {
     "data": {
      "text/plain": [
       "6"
      ]
     },
     "execution_count": 48,
     "metadata": {},
     "output_type": "execute_result"
    }
   ],
   "source": [
    "a.nnz"
   ]
  },
  {
   "cell_type": "code",
   "execution_count": 49,
   "id": "a8a544e8",
   "metadata": {},
   "outputs": [
    {
     "data": {
      "text/plain": [
       "matrix([[-1.1 ,  0.  ,  1.17,  0.  ,  0.  ],\n",
       "        [ 0.15, -0.1 ,  0.  ,  0.  ,  0.  ],\n",
       "        [ 0.  ,  0.  , -0.3 ,  0.  ,  0.  ],\n",
       "        [ 0.  ,  0.  ,  0.  ,  0.13,  0.  ]])"
      ]
     },
     "execution_count": 49,
     "metadata": {},
     "output_type": "execute_result"
    }
   ],
   "source": [
    "a.todense()"
   ]
  },
  {
   "cell_type": "code",
   "execution_count": 50,
   "id": "5cf98cd9",
   "metadata": {},
   "outputs": [
    {
     "data": {
      "text/plain": [
       "matrix([[1., 0., 1., 0.],\n",
       "        [1., 2., 0., 2.],\n",
       "        [0., 2., 3., 0.],\n",
       "        [0., 0., 3., 4.]])"
      ]
     },
     "execution_count": 50,
     "metadata": {},
     "output_type": "execute_result"
    }
   ],
   "source": [
    "diagonals=[[1,2,3,4],[1,2,3],[1,2]]\n",
    "b=sparse.diags(diagonals,offsets=[0,-1,2])\n",
    "b.todense()"
   ]
  },
  {
   "cell_type": "code",
   "execution_count": 51,
   "id": "5c575770",
   "metadata": {},
   "outputs": [
    {
     "data": {
      "text/plain": [
       "matrix([[0.05641158, 0.        , 0.        , 0.65088847],\n",
       "        [0.        , 0.        , 0.        , 0.14286682],\n",
       "        [0.        , 0.        , 0.        , 0.        ]])"
      ]
     },
     "execution_count": 51,
     "metadata": {},
     "output_type": "execute_result"
    }
   ],
   "source": [
    "matrix=sparse.rand(3,4,density=0.25,format='csr',random_state=42)\n",
    "matrix.todense()"
   ]
  },
  {
   "cell_type": "code",
   "execution_count": 52,
   "id": "b8f8ed08",
   "metadata": {},
   "outputs": [
    {
     "data": {
      "text/plain": [
       "array([[ 0,  2],\n",
       "       [ 1, -1],\n",
       "       [-2,  3],\n",
       "       [ 1,  0]])"
      ]
     },
     "execution_count": 52,
     "metadata": {},
     "output_type": "execute_result"
    }
   ],
   "source": [
    "h=np.array([[0,1,-2,1],[2,-1,3,0]])\n",
    "h.T"
   ]
  },
  {
   "cell_type": "code",
   "execution_count": 53,
   "id": "0560e254",
   "metadata": {},
   "outputs": [
    {
     "data": {
      "text/plain": [
       "array([[ 0,  2],\n",
       "       [ 1, -1],\n",
       "       [-2,  3],\n",
       "       [ 1,  0]])"
      ]
     },
     "execution_count": 53,
     "metadata": {},
     "output_type": "execute_result"
    }
   ],
   "source": [
    "np.transpose(h)"
   ]
  },
  {
   "cell_type": "code",
   "execution_count": 54,
   "id": "37ecf5da",
   "metadata": {},
   "outputs": [
    {
     "data": {
      "text/plain": [
       "array([[1, 6],\n",
       "       [9, 3],\n",
       "       [3, 5]])"
      ]
     },
     "execution_count": 54,
     "metadata": {},
     "output_type": "execute_result"
    }
   ],
   "source": [
    "u=np.array([[0,4],[7,0],[3,1]])\n",
    "v=np.array([[1,2],[2,3],[0,4]])\n",
    "u+v"
   ]
  },
  {
   "cell_type": "code",
   "execution_count": 55,
   "id": "6dda6c38",
   "metadata": {},
   "outputs": [
    {
     "data": {
      "text/plain": [
       "array([[ 0. ,  8.8],\n",
       "       [15.4,  0. ],\n",
       "       [ 6.6,  2.2]])"
      ]
     },
     "execution_count": 55,
     "metadata": {},
     "output_type": "execute_result"
    }
   ],
   "source": [
    "2.2*u"
   ]
  },
  {
   "cell_type": "code",
   "execution_count": 56,
   "id": "d7aaed4c",
   "metadata": {},
   "outputs": [
    {
     "data": {
      "text/plain": [
       "5.5677643628300215"
      ]
     },
     "execution_count": 56,
     "metadata": {},
     "output_type": "execute_result"
    }
   ],
   "source": [
    "a=np.array([[2,3,-1],[0,-1,4]])\n",
    "np.linalg.norm(a)"
   ]
  },
  {
   "cell_type": "code",
   "execution_count": 57,
   "id": "04ae616c",
   "metadata": {},
   "outputs": [
    {
     "data": {
      "text/plain": [
       "5.5677643628300215"
      ]
     },
     "execution_count": 57,
     "metadata": {},
     "output_type": "execute_result"
    }
   ],
   "source": [
    "np.linalg.norm(a[:])"
   ]
  },
  {
   "cell_type": "code",
   "execution_count": 58,
   "id": "ca8510ad",
   "metadata": {},
   "outputs": [
    {
     "name": "stdout",
     "output_type": "stream",
     "text": [
      "4.69041575982343\n",
      "7.795831523312719\n"
     ]
    }
   ],
   "source": [
    "#check triangle inequality\n",
    "a=np.array([[-1,0],[2,2]])\n",
    "b=np.array([[3,1],[-3,2]])\n",
    "print(np.linalg.norm(a+b))\n",
    "print(np.linalg.norm(a)+np.linalg.norm(b))"
   ]
  },
  {
   "cell_type": "code",
   "execution_count": 60,
   "id": "95f14314",
   "metadata": {},
   "outputs": [
    {
     "name": "stdout",
     "output_type": "stream",
     "text": [
      "(4, 3)\n",
      "25.495097567963924\n",
      "25.495097567963924\n"
     ]
    }
   ],
   "source": [
    "a=np.array([[1,2,3],[4,5,6],[7,8,9],[10,11,12]])\n",
    "m,n=a.shape\n",
    "print(a.shape)\n",
    "sum_of_sq=0\n",
    "for i in range(m):\n",
    "    for j in range(n):\n",
    "        sum_of_sq+=a[i,j]**2\n",
    "matrix_norm=np.sqrt(sum_of_sq)\n",
    "print(matrix_norm)\n",
    "print(np.linalg.norm(a))"
   ]
  },
  {
   "cell_type": "code",
   "execution_count": 62,
   "id": "515ce71f",
   "metadata": {},
   "outputs": [
    {
     "data": {
      "text/plain": [
       "array([ 3, -4])"
      ]
     },
     "execution_count": 62,
     "metadata": {},
     "output_type": "execute_result"
    }
   ],
   "source": [
    "a=np.array([[0,2,-1],[-2,1,1]])\n",
    "x=np.array([2,1,-1])\n",
    "a@x"
   ]
  },
  {
   "cell_type": "code",
   "execution_count": 63,
   "id": "586e6582",
   "metadata": {},
   "outputs": [
    {
     "data": {
      "text/plain": [
       "array([ 3, -4])"
      ]
     },
     "execution_count": 63,
     "metadata": {},
     "output_type": "execute_result"
    }
   ],
   "source": [
    "np.matmul(a,x)"
   ]
  },
  {
   "cell_type": "code",
   "execution_count": 69,
   "id": "2b2d65a6",
   "metadata": {},
   "outputs": [
    {
     "data": {
      "text/plain": [
       "array([ 1.,  2., -1.])"
      ]
     },
     "execution_count": 69,
     "metadata": {},
     "output_type": "execute_result"
    }
   ],
   "source": [
    "#difference matrix\n",
    "diff_mat=lambda n:np.c_[-np.identity(n-1),np.zeros(n-1)]+np.c_[np.zeros(n-1),np.identity(n-1)]\n",
    "d=diff_mat(4)\n",
    "x=np.array([-1,0,2,1])\n",
    "d@x"
   ]
  },
  {
   "cell_type": "code",
   "execution_count": 70,
   "id": "cdb6f4fe",
   "metadata": {},
   "outputs": [
    {
     "data": {
      "text/plain": [
       "array([ 1.,  2., -1.])"
      ]
     },
     "execution_count": 70,
     "metadata": {},
     "output_type": "execute_result"
    }
   ],
   "source": [
    "#difference matrix 实现方法二\n",
    "diff_mat=lambda n: sparse.hstack([-sparse.eye(n-1),sparse.coo_matrix((n-1,1))])+sparse.hstack([sparse.coo_matrix((n-1,1)),sparse.eye(n-1)])\n",
    "d=diff_mat(4)\n",
    "d@np.array([-1,0,2,1])"
   ]
  },
  {
   "cell_type": "code",
   "execution_count": 71,
   "id": "bcd0b2ce",
   "metadata": {},
   "outputs": [
    {
     "data": {
      "text/plain": [
       "array([[1., 0., 0., 0.],\n",
       "       [1., 1., 0., 0.],\n",
       "       [1., 1., 1., 0.],\n",
       "       [1., 1., 1., 1.]])"
      ]
     },
     "execution_count": 71,
     "metadata": {},
     "output_type": "execute_result"
    }
   ],
   "source": [
    "def running_sum(n):\n",
    "    import numpy as np\n",
    "    s=np.zeros((n,n))\n",
    "    for i in range(n):\n",
    "        for j in range(i+1):\n",
    "            s[i,j]=1\n",
    "    return s\n",
    "running_sum(4)"
   ]
  },
  {
   "cell_type": "code",
   "execution_count": 72,
   "id": "e5cd507d",
   "metadata": {},
   "outputs": [
    {
     "data": {
      "text/plain": [
       "array([-1.,  0.,  2.,  2.])"
      ]
     },
     "execution_count": 72,
     "metadata": {},
     "output_type": "execute_result"
    }
   ],
   "source": [
    "running_sum(4)@np.array([-1,1,2,0])"
   ]
  },
  {
   "cell_type": "code",
   "execution_count": 74,
   "id": "243d289f",
   "metadata": {},
   "outputs": [
    {
     "data": {
      "text/plain": [
       "array([[1., 0., 0., 0.],\n",
       "       [1., 1., 0., 0.],\n",
       "       [1., 1., 1., 0.],\n",
       "       [1., 1., 1., 1.]])"
      ]
     },
     "execution_count": 74,
     "metadata": {},
     "output_type": "execute_result"
    }
   ],
   "source": [
    "#np.tril函数实现difference matrix\n",
    "np.tril(np.ones((4,4)))"
   ]
  },
  {
   "cell_type": "code",
   "execution_count": 76,
   "id": "6ed77da2",
   "metadata": {},
   "outputs": [
    {
     "data": {
      "text/plain": [
       "array([[ 1.    , -1.    ,  1.    , -1.    ,  1.    ],\n",
       "       [ 1.    ,  0.    ,  0.    ,  0.    ,  0.    ],\n",
       "       [ 1.    ,  0.5   ,  0.25  ,  0.125 ,  0.0625],\n",
       "       [ 1.    ,  1.    ,  1.    ,  1.    ,  1.    ]])"
      ]
     },
     "execution_count": 76,
     "metadata": {},
     "output_type": "execute_result"
    }
   ],
   "source": [
    "def vandermonde(t,n):\n",
    "    m=len(t)\n",
    "    v=np.zeros((m,n))\n",
    "    for i in range(m):\n",
    "        for j in range(n):\n",
    "            v[i,j]=t[i]**(j)\n",
    "    return v\n",
    "vandermonde(np.array([-1,0,0.5,1]),5)"
   ]
  },
  {
   "cell_type": "code",
   "execution_count": 77,
   "id": "35b7adeb",
   "metadata": {},
   "outputs": [
    {
     "data": {
      "text/plain": [
       "array([[ 1.    , -1.    ,  1.    , -1.    ,  1.    ],\n",
       "       [ 1.    ,  0.    ,  0.    ,  0.    ,  0.    ],\n",
       "       [ 1.    ,  0.5   ,  0.25  ,  0.125 ,  0.0625],\n",
       "       [ 1.    ,  1.    ,  1.    ,  1.    ,  1.    ]])"
      ]
     },
     "execution_count": 77,
     "metadata": {},
     "output_type": "execute_result"
    }
   ],
   "source": [
    "vandermonde=lambda t,n:np.column_stack([t**i for i in range(n)])#按列合并向量形成矩阵\n",
    "vandermonde(np.array([-1,0,0.5,1]),5)"
   ]
  },
  {
   "cell_type": "code",
   "execution_count": 80,
   "id": "846cb311",
   "metadata": {},
   "outputs": [
    {
     "name": "stdout",
     "output_type": "stream",
     "text": [
      "0.0019207000732421875\n"
     ]
    }
   ],
   "source": [
    "#the complexity of matrix-vector multiplication\n",
    "import time\n",
    "a=np.random.random((1000,10000))\n",
    "x=np.random.random(10000)\n",
    "start=time.time()\n",
    "y=a@x\n",
    "end=time.time()\n",
    "print(end-start)"
   ]
  },
  {
   "cell_type": "code",
   "execution_count": 81,
   "id": "b5defaf6",
   "metadata": {},
   "outputs": [
    {
     "name": "stdout",
     "output_type": "stream",
     "text": [
      "0.017946958541870117\n"
     ]
    }
   ],
   "source": [
    "import time\n",
    "a=np.random.random((5000,20000))\n",
    "x=np.random.random(20000)\n",
    "start=time.time()\n",
    "y=a@x\n",
    "end=time.time()\n",
    "print(end-start)"
   ]
  },
  {
   "cell_type": "code",
   "execution_count": 95,
   "id": "bdcb9998",
   "metadata": {},
   "outputs": [
    {
     "name": "stdout",
     "output_type": "stream",
     "text": [
      "0.02034139633178711\n"
     ]
    }
   ],
   "source": [
    "#show the increase in efficiency obtained by sparse matrix computations is seen from matrix-vectors multiplications with the difference matrix\n",
    "n=10**4\n",
    "ds=sparse.hstack([-sparse.eye(n-1),sparse.coo_matrix((n-1,1))])+sparse.hstack([sparse.coo_matrix((n-1,1)),sparse.eye(n-1)])\n",
    "d=np.column_stack([np.eye(n-1),np.zeros(n-1)])+np.column_stack([np.zeros(n-1),np.eye(n-1)])\n",
    "x=np.random.normal(size=n)\n",
    "import time \n",
    "start=time.time()\n",
    "d@x\n",
    "end=time.time()\n",
    "print(end-start)\n",
    "#print(ds) 与 print(ds.toarray()) 的表示方式不同，但表示的矩阵均为difference matrix\n",
    "\n",
    "#np.eye():生成对角阵，对角线上元素为1，其余元素为0\n",
    "#sparse.hstack:按列堆叠矩阵"
   ]
  },
  {
   "cell_type": "code",
   "execution_count": 96,
   "id": "d2db1756",
   "metadata": {},
   "outputs": [
    {
     "name": "stdout",
     "output_type": "stream",
     "text": [
      "0.0015044212341308594\n"
     ]
    }
   ],
   "source": [
    "start=time.time()\n",
    "ds@x\n",
    "end=time.time()\n",
    "print(end-start)"
   ]
  },
  {
   "cell_type": "code",
   "execution_count": null,
   "id": "340cafea",
   "metadata": {},
   "outputs": [],
   "source": []
  }
 ],
 "metadata": {
  "kernelspec": {
   "display_name": "Python 3 (ipykernel)",
   "language": "python",
   "name": "python3"
  },
  "language_info": {
   "codemirror_mode": {
    "name": "ipython",
    "version": 3
   },
   "file_extension": ".py",
   "mimetype": "text/x-python",
   "name": "python",
   "nbconvert_exporter": "python",
   "pygments_lexer": "ipython3",
   "version": "3.9.7"
  }
 },
 "nbformat": 4,
 "nbformat_minor": 5
}
