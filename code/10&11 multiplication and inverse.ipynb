{
 "cells": [
  {
   "cell_type": "code",
   "execution_count": 10,
   "id": "e60c053e",
   "metadata": {},
   "outputs": [
    {
     "data": {
      "text/plain": [
       "array([[-1.,  1.,  0.,  0.,  0.],\n",
       "       [ 0., -1.,  1.,  0.,  0.],\n",
       "       [ 0.,  0., -1.,  1.,  0.],\n",
       "       [ 0.,  0.,  0., -1.,  1.]])"
      ]
     },
     "execution_count": 10,
     "metadata": {},
     "output_type": "execute_result"
    }
   ],
   "source": [
    "import numpy as np\n",
    "D = lambda n: np.c_[-np.identity(n-1), np.zeros(n-1)]+np.c_[np.zeros(n-1), np.identity(n-1)]\n",
    "D(5)"
   ]
  },
  {
   "cell_type": "code",
   "execution_count": 11,
   "id": "dc688265",
   "metadata": {},
   "outputs": [
    {
     "data": {
      "text/plain": [
       "array([[-1.,  1.,  0.,  0.],\n",
       "       [ 0., -1.,  1.,  0.],\n",
       "       [ 0.,  0., -1.,  1.]])"
      ]
     },
     "execution_count": 11,
     "metadata": {},
     "output_type": "execute_result"
    }
   ],
   "source": [
    "D(4)"
   ]
  },
  {
   "cell_type": "code",
   "execution_count": 12,
   "id": "fd5264fe",
   "metadata": {},
   "outputs": [
    {
     "name": "stdout",
     "output_type": "stream",
     "text": [
      "[[ 1. -2.  1.  0.  0.]\n",
      " [ 0.  1. -2.  1.  0.]\n",
      " [ 0.  0.  1. -2.  1.]]\n"
     ]
    }
   ],
   "source": [
    "Delta=D(4)@D(5)\n",
    "print(Delta)"
   ]
  },
  {
   "cell_type": "code",
   "execution_count": null,
   "id": "3002e4e0",
   "metadata": {},
   "outputs": [],
   "source": [
    "#population dynamics\n",
    "import matplotlib.pyplot as plt\n",
    "plt.ion()\n",
    "D = population_data();\n",
    "b = D['birth_rate'];\n",
    "d = D['death_rate'];\n",
    "# Dynamics matrix for populaion dynamics\n",
    "A = np.vstack([b, np.column_stack([np.diag(1-d[:-1]),np.zeros((len(d)-1))])])\n",
    "# Contribution factor to total poulation in 2020\n",
    "# from each age in 2010\n",
    "cf = np.ones(100) @ np.linalg.matrix_power(A,10) # Contribution factor \n",
    "plt.plot(cf)\n",
    "plt.xlabel('Age')\n",
    "plt.ylabel('Factor')"
   ]
  },
  {
   "cell_type": "code",
   "execution_count": null,
   "id": "3f132f78",
   "metadata": {},
   "outputs": [],
   "source": [
    "#QR factorization\n",
    "def QR_factorization(A):\n",
    "    Q_transpose = np.array(gram_schmidt(A.T))\n",
    "    R = Q_transpose @ A\n",
    "    Q = Q_transpose.T\n",
    "    return Q, R\n",
    "Q, R = QR_factorization(A)"
   ]
  },
  {
   "cell_type": "code",
   "execution_count": null,
   "id": "8e81d4f1",
   "metadata": {},
   "outputs": [],
   "source": [
    "Q,R=np.lianlg.qr(A)"
   ]
  },
  {
   "cell_type": "code",
   "execution_count": 15,
   "id": "045e474c",
   "metadata": {},
   "outputs": [
    {
     "data": {
      "text/plain": [
       "array([[ 3.59111633, -0.50461572, -0.10323723, -3.08731055],\n",
       "       [ 0.        , -2.14910081, -0.34660744, -1.31663428],\n",
       "       [ 0.        ,  0.        ,  1.35906731, -0.88276247],\n",
       "       [ 0.        ,  0.        ,  0.        , -1.01416784]])"
      ]
     },
     "execution_count": 15,
     "metadata": {},
     "output_type": "execute_result"
    }
   ],
   "source": [
    "A = np.random.normal(size = (6,4))\n",
    "Q, R = np.linalg.qr(A)\n",
    "R"
   ]
  },
  {
   "cell_type": "code",
   "execution_count": 16,
   "id": "d0ca821a",
   "metadata": {
    "scrolled": true
   },
   "outputs": [
    {
     "data": {
      "text/plain": [
       "array([[ 1.00000000e+00, -7.03757326e-18, -1.77541341e-17,\n",
       "         3.43574805e-17],\n",
       "       [-7.03757326e-18,  1.00000000e+00,  2.04609238e-16,\n",
       "         2.43791789e-17],\n",
       "       [-1.77541341e-17,  2.04609238e-16,  1.00000000e+00,\n",
       "         1.05413390e-16],\n",
       "       [ 3.43574805e-17,  2.43791789e-17,  1.05413390e-16,\n",
       "         1.00000000e+00]])"
      ]
     },
     "execution_count": 16,
     "metadata": {},
     "output_type": "execute_result"
    }
   ],
   "source": [
    "Q.T@Q"
   ]
  },
  {
   "cell_type": "code",
   "execution_count": 17,
   "id": "0388dfee",
   "metadata": {},
   "outputs": [
    {
     "data": {
      "text/plain": [
       "array([[-2.77555756e-17, -5.00000000e-01, -2.50000000e-01],\n",
       "       [-2.00000000e-01,  2.00000000e-01, -5.00000000e-02],\n",
       "       [ 2.00000000e-01,  3.00000000e-01,  5.00000000e-02]])"
      ]
     },
     "execution_count": 17,
     "metadata": {},
     "output_type": "execute_result"
    }
   ],
   "source": [
    "#inverse\n",
    "A = np.array([[1,-2,3], [0,2,2], [-4,-4, -4]])\n",
    "B=np.linalg.inv(A)\n",
    "B"
   ]
  },
  {
   "cell_type": "code",
   "execution_count": 18,
   "id": "fe3277a4",
   "metadata": {},
   "outputs": [
    {
     "data": {
      "text/plain": [
       "array([[ 1.00000000e+00, -2.22044605e-16, -2.22044605e-16],\n",
       "       [ 0.00000000e+00,  1.00000000e+00,  8.32667268e-17],\n",
       "       [ 0.00000000e+00,  5.55111512e-17,  1.00000000e+00]])"
      ]
     },
     "execution_count": 18,
     "metadata": {},
     "output_type": "execute_result"
    }
   ],
   "source": [
    "B@A"
   ]
  },
  {
   "cell_type": "code",
   "execution_count": 19,
   "id": "f6fc3811",
   "metadata": {},
   "outputs": [
    {
     "data": {
      "text/plain": [
       "array([[ 1.00000000e+00,  0.00000000e+00, -1.38777878e-17],\n",
       "       [ 5.55111512e-17,  1.00000000e+00,  1.38777878e-17],\n",
       "       [ 0.00000000e+00,  0.00000000e+00,  1.00000000e+00]])"
      ]
     },
     "execution_count": 19,
     "metadata": {},
     "output_type": "execute_result"
    }
   ],
   "source": [
    "A@B"
   ]
  },
  {
   "cell_type": "code",
   "execution_count": 20,
   "id": "fa00bb9a",
   "metadata": {},
   "outputs": [
    {
     "name": "stdout",
     "output_type": "stream",
     "text": [
      "[ 0.2 -0.3  1.2]\n"
     ]
    }
   ],
   "source": [
    "#dual basis\n",
    "A = np.array([[1,0,1], [4,-3,-4], [1,-1,-2]])\n",
    "B = np.linalg.inv(A)\n",
    "x = np.array([0.2,-0.3,1.2])\n",
    "RHS = (B[0,:]@x)*A[:,0]+(B[1,:]@x)*A[:,1]+(B[2,:]@x)*A[:,2]\n",
    "print(RHS)"
   ]
  },
  {
   "cell_type": "code",
   "execution_count": 23,
   "id": "6f9778b1",
   "metadata": {},
   "outputs": [
    {
     "data": {
      "text/plain": [
       "array([[-1.53373053,  1.08737667,  0.93092563],\n",
       "       [ 0.78610892, -0.16698672, -0.80051194],\n",
       "       [ 0.26152016,  0.4161391 ,  0.45174182]])"
      ]
     },
     "execution_count": 23,
     "metadata": {},
     "output_type": "execute_result"
    }
   ],
   "source": [
    "#inverse via QR factorization\n",
    "A=np.random.normal(size=(3,3))\n",
    "np.linalg.inv(A)\n",
    "Q,R=np.linalg.qr(A)\n",
    "np.linalg.inv(R)@Q.T#@A"
   ]
  },
  {
   "cell_type": "code",
   "execution_count": null,
   "id": "9bd50762",
   "metadata": {},
   "outputs": [],
   "source": [
    "#solving linear equations\n",
    "#back substitution\n",
    "def back_subst(R,b_tilde):\n",
    "    n=R.shape[0]\n",
    "    x=np.zeros(n)\n",
    "    for i in reversed(range(n)):\n",
    "        "
   ]
  },
  {
   "cell_type": "code",
   "execution_count": null,
   "id": "93d9ef76",
   "metadata": {},
   "outputs": [],
   "source": [
    "#back substitution\n",
    "def back_subst(R,b_tilde):\n",
    "    n=R.shape[0]\n",
    "    x=np.zeros(n)\n",
    "    for i in range(n-1,-1):\n",
    "        x[i]=b_tilde[i]\n",
    "        for j in range(i+1,n):\n",
    "            x[i]=x[i]-R[i,j]*x[j]\n",
    "        x[i]=x[i]/R[i,i]\n",
    "    return x\n",
    "R=np.triu(np.random.random((4,4)))\n",
    "b=np.random.random(4)\n",
    "x=back_subst(R,b)\n",
    "np.linalg.norm(R@x-b) "
   ]
  },
  {
   "cell_type": "code",
   "execution_count": null,
   "id": "fb77fbf4",
   "metadata": {},
   "outputs": [],
   "source": [
    "#using QR factorization and back substitution to solve problem\n",
    "def solve_via_backsub(A,b):\n",
    "    Q,R=np.linalg.qr(A)\n",
    "    b_tilde=Q.T@b\n",
    "    x=back_subst(R,b_tilde)\n",
    "    return x"
   ]
  },
  {
   "cell_type": "code",
   "execution_count": 2,
   "id": "ca0a6163",
   "metadata": {},
   "outputs": [
    {
     "name": "stdout",
     "output_type": "stream",
     "text": [
      "2.6183431604924317e-09\n",
      "2.1208295822143555\n",
      "1.9651334264532704e-09\n",
      "5.705203056335449\n"
     ]
    }
   ],
   "source": [
    "#solve the linear equations and the time they need\n",
    "# 1. np.linalg.solve(A,b)\n",
    "# 2. x=np.linalg.inv(A)@b\n",
    "import time\n",
    "import numpy as np\n",
    "n = 5000\n",
    "A = np.random.normal(size = (n,n))\n",
    "b = np.random.normal(size = n)\n",
    "start = time.time()\n",
    "x1 = np.linalg.solve(A,b)\n",
    "end = time.time()\n",
    "print(np.linalg.norm(b - A @ x1))\n",
    "print(end - start)\n",
    "\n",
    "start = time.time()\n",
    "x2 = np.linalg.inv(A) @ b\n",
    "end = time.time()\n",
    "print(np.linalg.norm(b - A @ x2))\n",
    "print(end - start)"
   ]
  },
  {
   "cell_type": "code",
   "execution_count": 3,
   "id": "2e309eee",
   "metadata": {},
   "outputs": [
    {
     "data": {
      "text/plain": [
       "array([[-1.22222222, -1.11111111,  1.77777778],\n",
       "       [ 0.77777778,  0.88888889, -1.22222222]])"
      ]
     },
     "execution_count": 3,
     "metadata": {},
     "output_type": "execute_result"
    }
   ],
   "source": [
    "#pseudo-inverse\n",
    "A = np.array([[-3,-4],[4,6],[1,1]])\n",
    "np.linalg.pinv(A)"
   ]
  },
  {
   "cell_type": "code",
   "execution_count": 4,
   "id": "42e7084c",
   "metadata": {},
   "outputs": [
    {
     "data": {
      "text/plain": [
       "array([[-1.22222222, -1.11111111,  1.77777778],\n",
       "       [ 0.77777778,  0.88888889, -1.22222222]])"
      ]
     },
     "execution_count": 4,
     "metadata": {},
     "output_type": "execute_result"
    }
   ],
   "source": [
    "A = np.array([[-3,-4],[4,6],[1,1]])\n",
    "Q,R=np.linalg.qr(A)\n",
    "np.linalg.inv(R)@Q.T\n",
    "#np.linalg.solve(R,Q.T)"
   ]
  },
  {
   "cell_type": "code",
   "execution_count": null,
   "id": "85ca82ff",
   "metadata": {},
   "outputs": [],
   "source": []
  }
 ],
 "metadata": {
  "kernelspec": {
   "display_name": "Python 3 (ipykernel)",
   "language": "python",
   "name": "python3"
  },
  "language_info": {
   "codemirror_mode": {
    "name": "ipython",
    "version": 3
   },
   "file_extension": ".py",
   "mimetype": "text/x-python",
   "name": "python",
   "nbconvert_exporter": "python",
   "pygments_lexer": "ipython3",
   "version": "3.9.7"
  }
 },
 "nbformat": 4,
 "nbformat_minor": 5
}
