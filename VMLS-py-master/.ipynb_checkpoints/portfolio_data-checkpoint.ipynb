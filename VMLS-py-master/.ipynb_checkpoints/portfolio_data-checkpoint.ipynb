{
 "cells": [
  {
   "cell_type": "code",
   "execution_count": 80,
   "metadata": {},
   "outputs": [],
   "source": [
    "def portfolio_data():\n",
    "    import pandas as pd\n",
    "    \"\"\"\n",
    "    portfolio_data()       \n",
    "\n",
    "    Returns a tuple `(R, Rtest)` with data for the portfolio optimization \n",
    "    example in section 17.1.3.\n",
    "    `R` is a 2000 x 20 matrix with daily returns over a period of 2000 days.  \n",
    "    The first 19 columns are returns for 19 stocks; \n",
    "    the last column is for a risk-free asset.\n",
    "    `Rtest` is a 500 x 20 matrix with daily returns over a different period \n",
    "    of 500 days.\n",
    "    \"\"\"\n",
    "    # 20 columns for:\n",
    "    # \"American Express Company\",\n",
    "    # \"Bank of America Corporation\",\n",
    "    # \"BP plc\", \n",
    "    # \"Broadcom Corp.\",\n",
    "    # \"Costco Wholesale Corporation\", \n",
    "    # \"Cisco Systems, Inc.\", \n",
    "    # \"The Walt Disney Company\", \n",
    "    # \"The Goldman Sachs Group, Inc.\",\n",
    "    # \"Hewlett-Packard Company\", \n",
    "    # \"Intel Corporation\", \n",
    "    # \"The Coca-Cola Company\", \n",
    "    # \"3M Company\", \n",
    "    # \"Microsoft Corporation\", \n",
    "    # \"Nike, Inc.\", \n",
    "    # \"QUALCOMM Incorporated\", \n",
    "    # \"Starbucks Corporation\", \n",
    "    # \"AT&T, Inc.\", \n",
    "    # \"Tiffany & Co.\", \n",
    "    # \"Verizon Communications Inc.\", \n",
    "    # \"US Dollar\"\n",
    "    \n",
    "    prices = pd.read_csv(\"portfolio_data.csv\", sep=\",\", header=None)\n",
    "    prices.columns = [\"American Express Company\",\"Bank of America Corporation\",\"BP plc\", \"Broadcom Corp.\",\"Costco Wholesale Corporation\", \"Cisco Systems, Inc.\", \"The Walt Disney Company\", \"The Goldman Sachs Group, Inc.\",\"Hewlett-Packard Company\", \"Intel Corporation\", \"The Coca-Cola Company\", \"3M Company\", \"Microsoft Corporation\", \"Nike, Inc.\", \"QUALCOMM Incorporated\", \"Starbucks Corporation\", \"AT&T, Inc.\", \"Tiffany & Co.\", \"Verizon Communications Inc.\", \"US Dollar\"]\n",
    "    p_changes = np.array(prices.iloc[1:,:]) - np.array(prices.iloc[:-1,:]);\n",
    "    returns = p_changes / prices.iloc[:-1,:];\n",
    "    R = returns.iloc[:2000,:]; \n",
    "    Rtest = returns.iloc[2000:2500,:];\n",
    "    return R, Rtest\n"
   ]
  }
 ],
 "metadata": {
  "kernelspec": {
   "display_name": "Python 3 (ipykernel)",
   "language": "python",
   "name": "python3"
  },
  "language_info": {
   "codemirror_mode": {
    "name": "ipython",
    "version": 3
   },
   "file_extension": ".py",
   "mimetype": "text/x-python",
   "name": "python",
   "nbconvert_exporter": "python",
   "pygments_lexer": "ipython3",
   "version": "3.9.7"
  }
 },
 "nbformat": 4,
 "nbformat_minor": 2
}
