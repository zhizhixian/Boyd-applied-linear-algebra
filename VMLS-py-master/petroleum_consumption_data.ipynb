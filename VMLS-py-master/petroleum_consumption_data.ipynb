{
 "cells": [
  {
   "cell_type": "code",
   "execution_count": 2,
   "metadata": {},
   "outputs": [],
   "source": [
    "def petroleum_consumption_data():\n",
    "    \"\"\"\n",
    "        petroleum_consumption_data()\n",
    "    Returns a 34-vector with the world annual petroleum consumption between \n",
    "    1980 and 2013, in thousand barrels/day (discussed on page 252).\n",
    "    \"\"\"\n",
    "    import numpy as np\n",
    "    data = np.array([ \n",
    "        63122, 60953, 59551, 58785, 59795, 60083, 61819, 63107, 64978, 66090, \n",
    "        66541, 67186, 67396, 67619, 69006, 70258, 71880, 73597, 74274, 75975, \n",
    "        76928, 77732, 78457, 80089, 83063, 84558, 85566, 86724, 86046, 84972, \n",
    "        88157, 89105, 90340, 91195 ])\n",
    "    return data"
   ]
  }
 ],
 "metadata": {
  "kernelspec": {
   "display_name": "Python 3",
   "language": "python",
   "name": "python3"
  },
  "language_info": {
   "codemirror_mode": {
    "name": "ipython",
    "version": 3
   },
   "file_extension": ".py",
   "mimetype": "text/x-python",
   "name": "python",
   "nbconvert_exporter": "python",
   "pygments_lexer": "ipython3",
   "version": "3.7.3"
  }
 },
 "nbformat": 4,
 "nbformat_minor": 2
}
