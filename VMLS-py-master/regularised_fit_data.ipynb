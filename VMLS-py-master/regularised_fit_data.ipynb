{
 "cells": [
  {
   "cell_type": "code",
   "execution_count": 1,
   "metadata": {},
   "outputs": [],
   "source": [
    "\n",
    "def regularized_fit_data():\n",
    "    import numpy as np\n",
    "    \"\"\"\n",
    "        regularized_fit_data\n",
    "    Returns a dictionary `D` with data for the regularized data fitting \n",
    "    example on page 329 of VMLS.  The items in the dictionary are:\n",
    "    * `D[\"xtrain\"]`: vector of length 10 \n",
    "    * `D[\"ytrain\"]`: vector of length 10 \n",
    "    * `D[\"xtest\"]`: vector of length 20 \n",
    "    * `D[\"ytest\"]`: vector of length 20.\n",
    "    \"\"\"\n",
    "    X = np.array([ \n",
    "    [1.06830e-01,  1.82422e+00],\n",
    "    [2.55780e-01,  8.13549e-01],\n",
    "    [2.71120e-01,  9.24060e-01],\n",
    "    [3.02990e-01,  4.20670e-01],\n",
    "    [5.02040e-01,  4.46178e-01],\n",
    "    [6.58450e-01, -3.73407e-02],\n",
    "    [6.84230e-01, -2.10935e-01],\n",
    "    [7.02590e-01, -1.03327e-01],\n",
    "    [7.34060e-01,  3.32097e-01],\n",
    "    [9.40350e-01,  2.29278e+00]]);\n",
    "    xtrain = X[:,0];\n",
    "    ytrain = X[:,1];\n",
    "    Xtest = np.array([\n",
    "    [3.96674e-01, -1.05772e+00],\n",
    "    [7.77517e-01,  8.79117e-01],\n",
    "    [1.18400e-01,  1.98136e+00],\n",
    "    [2.23266e-01,  8.67012e-01],\n",
    "    [9.01463e-01,  2.13650e+00],\n",
    "    [3.58033e-01, -7.01948e-01],\n",
    "    [2.60402e-01,  9.41469e-01],\n",
    "    [8.04281e-01,  1.49755e+00],\n",
    "    [6.31664e-01,  5.50205e-01],\n",
    "    [1.49704e-01,  1.34245e+00],\n",
    "    [5.51333e-01,  1.21445e+00],\n",
    "    [6.63999e-01,  4.49111e-03],\n",
    "    [1.64948e-01,  9.57535e-01],\n",
    "    [6.51698e-01,  7.78640e-02],\n",
    "    [1.23026e-01,  1.73558e+00],\n",
    "    [3.37066e-01, -3.25244e-01],\n",
    "    [8.32080e-02,  2.56555e+00],\n",
    "    [2.04422e-01,  1.10081e+00],\n",
    "    [9.78000e-01,  2.70644e+00],\n",
    "    [4.03676e-01, -1.10049e+00]]);\n",
    "    xtest = Xtest[:,0];\n",
    "    ytest = Xtest[:,1];\n",
    "    return {\"xtrain\": xtrain, \"ytrain\": ytrain , \n",
    "        \"xtest\": xtest, \"ytest\": ytest}"
   ]
  }
 ],
 "metadata": {
  "kernelspec": {
   "display_name": "Python 3 (ipykernel)",
   "language": "python",
   "name": "python3"
  },
  "language_info": {
   "codemirror_mode": {
    "name": "ipython",
    "version": 3
   },
   "file_extension": ".py",
   "mimetype": "text/x-python",
   "name": "python",
   "nbconvert_exporter": "python",
   "pygments_lexer": "ipython3",
   "version": "3.9.7"
  }
 },
 "nbformat": 4,
 "nbformat_minor": 2
}
